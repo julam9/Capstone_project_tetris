{
 "cells": [
  {
   "cell_type": "code",
   "execution_count": 4,
   "metadata": {},
   "outputs": [],
   "source": [
    "import numpy as np\n",
    "import pandas as pd\n",
    "import matplotlib.pyplot as plt\n",
    "import seaborn as sns\n",
    "#from wordcloud import WordCloud\n",
    "#from wordcloud import ImageColorGenerator\n",
    "#from wordcloud import STOPWORDS\n",
    "import plotly.graph_objects as go\n",
    "import pycountry\n",
    "import ast \n",
    "from IPython.display import display_html \n",
    "pd.set_option('display.max_colwidth', None)"
   ]
  },
  {
   "cell_type": "code",
   "execution_count": 6,
   "metadata": {},
   "outputs": [],
   "source": [
    "#load dataset\n",
    "df = pd.read_csv('titles.csv')"
   ]
  },
  {
   "cell_type": "code",
   "execution_count": 7,
   "metadata": {},
   "outputs": [
    {
     "data": {
      "text/html": [
       "<div>\n",
       "<style scoped>\n",
       "    .dataframe tbody tr th:only-of-type {\n",
       "        vertical-align: middle;\n",
       "    }\n",
       "\n",
       "    .dataframe tbody tr th {\n",
       "        vertical-align: top;\n",
       "    }\n",
       "\n",
       "    .dataframe thead th {\n",
       "        text-align: right;\n",
       "    }\n",
       "</style>\n",
       "<table border=\"1\" class=\"dataframe\">\n",
       "  <thead>\n",
       "    <tr style=\"text-align: right;\">\n",
       "      <th></th>\n",
       "      <th>id</th>\n",
       "      <th>title</th>\n",
       "      <th>type</th>\n",
       "      <th>description</th>\n",
       "      <th>release_year</th>\n",
       "      <th>age_certification</th>\n",
       "      <th>runtime</th>\n",
       "      <th>genres</th>\n",
       "      <th>production_countries</th>\n",
       "      <th>seasons</th>\n",
       "      <th>imdb_id</th>\n",
       "      <th>imdb_score</th>\n",
       "      <th>imdb_votes</th>\n",
       "      <th>tmdb_popularity</th>\n",
       "      <th>tmdb_score</th>\n",
       "    </tr>\n",
       "  </thead>\n",
       "  <tbody>\n",
       "    <tr>\n",
       "      <th>0</th>\n",
       "      <td>ts300399</td>\n",
       "      <td>Five Came Back: The Reference Films</td>\n",
       "      <td>SHOW</td>\n",
       "      <td>This collection includes 12 World War II-era propaganda films — many of which are graphic and offensive — discussed in the docuseries \"Five Came Back.\"</td>\n",
       "      <td>1945</td>\n",
       "      <td>TV-MA</td>\n",
       "      <td>51</td>\n",
       "      <td>['documentation']</td>\n",
       "      <td>['US']</td>\n",
       "      <td>1.0</td>\n",
       "      <td>NaN</td>\n",
       "      <td>NaN</td>\n",
       "      <td>NaN</td>\n",
       "      <td>0.600</td>\n",
       "      <td>NaN</td>\n",
       "    </tr>\n",
       "    <tr>\n",
       "      <th>1</th>\n",
       "      <td>tm84618</td>\n",
       "      <td>Taxi Driver</td>\n",
       "      <td>MOVIE</td>\n",
       "      <td>A mentally unstable Vietnam War veteran works as a night-time taxi driver in New York City where the perceived decadence and sleaze feed his urge for violent action.</td>\n",
       "      <td>1976</td>\n",
       "      <td>R</td>\n",
       "      <td>114</td>\n",
       "      <td>['drama', 'crime']</td>\n",
       "      <td>['US']</td>\n",
       "      <td>NaN</td>\n",
       "      <td>tt0075314</td>\n",
       "      <td>8.2</td>\n",
       "      <td>808582.0</td>\n",
       "      <td>40.965</td>\n",
       "      <td>8.179</td>\n",
       "    </tr>\n",
       "    <tr>\n",
       "      <th>2</th>\n",
       "      <td>tm154986</td>\n",
       "      <td>Deliverance</td>\n",
       "      <td>MOVIE</td>\n",
       "      <td>Intent on seeing the Cahulawassee River before it's turned into one huge lake, outdoor fanatic Lewis Medlock takes his friends on a river-rafting trip they'll never forget into the dangerous American back-country.</td>\n",
       "      <td>1972</td>\n",
       "      <td>R</td>\n",
       "      <td>109</td>\n",
       "      <td>['drama', 'action', 'thriller', 'european']</td>\n",
       "      <td>['US']</td>\n",
       "      <td>NaN</td>\n",
       "      <td>tt0068473</td>\n",
       "      <td>7.7</td>\n",
       "      <td>107673.0</td>\n",
       "      <td>10.010</td>\n",
       "      <td>7.300</td>\n",
       "    </tr>\n",
       "    <tr>\n",
       "      <th>3</th>\n",
       "      <td>tm127384</td>\n",
       "      <td>Monty Python and the Holy Grail</td>\n",
       "      <td>MOVIE</td>\n",
       "      <td>King Arthur, accompanied by his squire, recruits his Knights of the Round Table, including Sir Bedevere the Wise, Sir Lancelot the Brave, Sir Robin the Not-Quite-So-Brave-As-Sir-Lancelot and Sir Galahad the Pure. On the way, Arthur battles the Black Knight who, despite having had all his limbs chopped off, insists he can still fight. They reach Camelot, but Arthur decides not  to enter, as \"it is a silly place\".</td>\n",
       "      <td>1975</td>\n",
       "      <td>PG</td>\n",
       "      <td>91</td>\n",
       "      <td>['fantasy', 'action', 'comedy']</td>\n",
       "      <td>['GB']</td>\n",
       "      <td>NaN</td>\n",
       "      <td>tt0071853</td>\n",
       "      <td>8.2</td>\n",
       "      <td>534486.0</td>\n",
       "      <td>15.461</td>\n",
       "      <td>7.811</td>\n",
       "    </tr>\n",
       "    <tr>\n",
       "      <th>4</th>\n",
       "      <td>tm120801</td>\n",
       "      <td>The Dirty Dozen</td>\n",
       "      <td>MOVIE</td>\n",
       "      <td>12 American military prisoners in World War II are ordered to infiltrate a well-guarded enemy château and kill the Nazi officers vacationing there. The soldiers, most of whom are facing death sentences for a variety of violent crimes, agree to the mission and the possible commuting of their sentences.</td>\n",
       "      <td>1967</td>\n",
       "      <td>NaN</td>\n",
       "      <td>150</td>\n",
       "      <td>['war', 'action']</td>\n",
       "      <td>['GB', 'US']</td>\n",
       "      <td>NaN</td>\n",
       "      <td>tt0061578</td>\n",
       "      <td>7.7</td>\n",
       "      <td>72662.0</td>\n",
       "      <td>20.398</td>\n",
       "      <td>7.600</td>\n",
       "    </tr>\n",
       "  </tbody>\n",
       "</table>\n",
       "</div>"
      ],
      "text/plain": [
       "         id                                title   type  \\\n",
       "0  ts300399  Five Came Back: The Reference Films   SHOW   \n",
       "1   tm84618                          Taxi Driver  MOVIE   \n",
       "2  tm154986                          Deliverance  MOVIE   \n",
       "3  tm127384      Monty Python and the Holy Grail  MOVIE   \n",
       "4  tm120801                      The Dirty Dozen  MOVIE   \n",
       "\n",
       "                                                                                                                                                                                                                                                                                                                                                                                                                       description  \\\n",
       "0                                                                                                                                                                                                                                                                          This collection includes 12 World War II-era propaganda films — many of which are graphic and offensive — discussed in the docuseries \"Five Came Back.\"   \n",
       "1                                                                                                                                                                                                                                                            A mentally unstable Vietnam War veteran works as a night-time taxi driver in New York City where the perceived decadence and sleaze feed his urge for violent action.   \n",
       "2                                                                                                                                                                                                            Intent on seeing the Cahulawassee River before it's turned into one huge lake, outdoor fanatic Lewis Medlock takes his friends on a river-rafting trip they'll never forget into the dangerous American back-country.   \n",
       "3  King Arthur, accompanied by his squire, recruits his Knights of the Round Table, including Sir Bedevere the Wise, Sir Lancelot the Brave, Sir Robin the Not-Quite-So-Brave-As-Sir-Lancelot and Sir Galahad the Pure. On the way, Arthur battles the Black Knight who, despite having had all his limbs chopped off, insists he can still fight. They reach Camelot, but Arthur decides not  to enter, as \"it is a silly place\".   \n",
       "4                                                                                                                   12 American military prisoners in World War II are ordered to infiltrate a well-guarded enemy château and kill the Nazi officers vacationing there. The soldiers, most of whom are facing death sentences for a variety of violent crimes, agree to the mission and the possible commuting of their sentences.   \n",
       "\n",
       "   release_year age_certification  runtime  \\\n",
       "0          1945             TV-MA       51   \n",
       "1          1976                 R      114   \n",
       "2          1972                 R      109   \n",
       "3          1975                PG       91   \n",
       "4          1967               NaN      150   \n",
       "\n",
       "                                        genres production_countries  seasons  \\\n",
       "0                            ['documentation']               ['US']      1.0   \n",
       "1                           ['drama', 'crime']               ['US']      NaN   \n",
       "2  ['drama', 'action', 'thriller', 'european']               ['US']      NaN   \n",
       "3              ['fantasy', 'action', 'comedy']               ['GB']      NaN   \n",
       "4                            ['war', 'action']         ['GB', 'US']      NaN   \n",
       "\n",
       "     imdb_id  imdb_score  imdb_votes  tmdb_popularity  tmdb_score  \n",
       "0        NaN         NaN         NaN            0.600         NaN  \n",
       "1  tt0075314         8.2    808582.0           40.965       8.179  \n",
       "2  tt0068473         7.7    107673.0           10.010       7.300  \n",
       "3  tt0071853         8.2    534486.0           15.461       7.811  \n",
       "4  tt0061578         7.7     72662.0           20.398       7.600  "
      ]
     },
     "execution_count": 7,
     "metadata": {},
     "output_type": "execute_result"
    }
   ],
   "source": [
    "#head dataset\n",
    "df.head()"
   ]
  },
  {
   "cell_type": "code",
   "execution_count": 8,
   "metadata": {},
   "outputs": [
    {
     "name": "stdout",
     "output_type": "stream",
     "text": [
      "<class 'pandas.core.frame.DataFrame'>\n",
      "RangeIndex: 5850 entries, 0 to 5849\n",
      "Data columns (total 15 columns):\n",
      " #   Column                Non-Null Count  Dtype  \n",
      "---  ------                --------------  -----  \n",
      " 0   id                    5850 non-null   object \n",
      " 1   title                 5849 non-null   object \n",
      " 2   type                  5850 non-null   object \n",
      " 3   description           5832 non-null   object \n",
      " 4   release_year          5850 non-null   int64  \n",
      " 5   age_certification     3231 non-null   object \n",
      " 6   runtime               5850 non-null   int64  \n",
      " 7   genres                5850 non-null   object \n",
      " 8   production_countries  5850 non-null   object \n",
      " 9   seasons               2106 non-null   float64\n",
      " 10  imdb_id               5447 non-null   object \n",
      " 11  imdb_score            5368 non-null   float64\n",
      " 12  imdb_votes            5352 non-null   float64\n",
      " 13  tmdb_popularity       5759 non-null   float64\n",
      " 14  tmdb_score            5539 non-null   float64\n",
      "dtypes: float64(5), int64(2), object(8)\n",
      "memory usage: 685.7+ KB\n"
     ]
    }
   ],
   "source": [
    "#info of data\n",
    "df.info()"
   ]
  },
  {
   "cell_type": "markdown",
   "metadata": {},
   "source": [
    "There are a total of 14 columns in the data"
   ]
  },
  {
   "cell_type": "markdown",
   "metadata": {},
   "source": [
    "# Data Cleaning\n",
    "\n",
    "In this section data will be cleaned. Steps that will be done are handling missing values, change data type, change column name, etc"
   ]
  },
  {
   "cell_type": "code",
   "execution_count": 9,
   "metadata": {},
   "outputs": [
    {
     "data": {
      "text/plain": [
       "id                         0\n",
       "title                      1\n",
       "type                       0\n",
       "description               18\n",
       "release_year               0\n",
       "age_certification       2619\n",
       "runtime                    0\n",
       "genres                     0\n",
       "production_countries       0\n",
       "seasons                 3744\n",
       "imdb_id                  403\n",
       "imdb_score               482\n",
       "imdb_votes               498\n",
       "tmdb_popularity           91\n",
       "tmdb_score               311\n",
       "dtype: int64"
      ]
     },
     "execution_count": 9,
     "metadata": {},
     "output_type": "execute_result"
    }
   ],
   "source": [
    "#Check the missing value\n",
    "df.isnull().sum()"
   ]
  },
  {
   "cell_type": "markdown",
   "metadata": {},
   "source": [
    "## Analyzing and Dealing Missing Values\n",
    "\n",
    "In this sub section, missing values from every column will be analyzed to know what caused value missing and solve the problem"
   ]
  },
  {
   "cell_type": "code",
   "execution_count": 10,
   "metadata": {},
   "outputs": [
    {
     "data": {
      "text/html": [
       "<div>\n",
       "<style scoped>\n",
       "    .dataframe tbody tr th:only-of-type {\n",
       "        vertical-align: middle;\n",
       "    }\n",
       "\n",
       "    .dataframe tbody tr th {\n",
       "        vertical-align: top;\n",
       "    }\n",
       "\n",
       "    .dataframe thead th {\n",
       "        text-align: right;\n",
       "    }\n",
       "</style>\n",
       "<table border=\"1\" class=\"dataframe\">\n",
       "  <thead>\n",
       "    <tr style=\"text-align: right;\">\n",
       "      <th></th>\n",
       "      <th>id</th>\n",
       "      <th>title</th>\n",
       "      <th>type</th>\n",
       "      <th>description</th>\n",
       "      <th>release_year</th>\n",
       "      <th>age_certification</th>\n",
       "      <th>runtime</th>\n",
       "      <th>genres</th>\n",
       "      <th>production_countries</th>\n",
       "      <th>seasons</th>\n",
       "      <th>imdb_id</th>\n",
       "      <th>imdb_score</th>\n",
       "      <th>imdb_votes</th>\n",
       "      <th>tmdb_popularity</th>\n",
       "      <th>tmdb_score</th>\n",
       "    </tr>\n",
       "  </thead>\n",
       "  <tbody>\n",
       "    <tr>\n",
       "      <th>1</th>\n",
       "      <td>tm84618</td>\n",
       "      <td>Taxi Driver</td>\n",
       "      <td>MOVIE</td>\n",
       "      <td>A mentally unstable Vietnam War veteran works as a night-time taxi driver in New York City where the perceived decadence and sleaze feed his urge for violent action.</td>\n",
       "      <td>1976</td>\n",
       "      <td>R</td>\n",
       "      <td>114</td>\n",
       "      <td>['drama', 'crime']</td>\n",
       "      <td>['US']</td>\n",
       "      <td>NaN</td>\n",
       "      <td>tt0075314</td>\n",
       "      <td>8.2</td>\n",
       "      <td>808582.0</td>\n",
       "      <td>40.965</td>\n",
       "      <td>8.179</td>\n",
       "    </tr>\n",
       "    <tr>\n",
       "      <th>2</th>\n",
       "      <td>tm154986</td>\n",
       "      <td>Deliverance</td>\n",
       "      <td>MOVIE</td>\n",
       "      <td>Intent on seeing the Cahulawassee River before it's turned into one huge lake, outdoor fanatic Lewis Medlock takes his friends on a river-rafting trip they'll never forget into the dangerous American back-country.</td>\n",
       "      <td>1972</td>\n",
       "      <td>R</td>\n",
       "      <td>109</td>\n",
       "      <td>['drama', 'action', 'thriller', 'european']</td>\n",
       "      <td>['US']</td>\n",
       "      <td>NaN</td>\n",
       "      <td>tt0068473</td>\n",
       "      <td>7.7</td>\n",
       "      <td>107673.0</td>\n",
       "      <td>10.010</td>\n",
       "      <td>7.300</td>\n",
       "    </tr>\n",
       "    <tr>\n",
       "      <th>3</th>\n",
       "      <td>tm127384</td>\n",
       "      <td>Monty Python and the Holy Grail</td>\n",
       "      <td>MOVIE</td>\n",
       "      <td>King Arthur, accompanied by his squire, recruits his Knights of the Round Table, including Sir Bedevere the Wise, Sir Lancelot the Brave, Sir Robin the Not-Quite-So-Brave-As-Sir-Lancelot and Sir Galahad the Pure. On the way, Arthur battles the Black Knight who, despite having had all his limbs chopped off, insists he can still fight. They reach Camelot, but Arthur decides not  to enter, as \"it is a silly place\".</td>\n",
       "      <td>1975</td>\n",
       "      <td>PG</td>\n",
       "      <td>91</td>\n",
       "      <td>['fantasy', 'action', 'comedy']</td>\n",
       "      <td>['GB']</td>\n",
       "      <td>NaN</td>\n",
       "      <td>tt0071853</td>\n",
       "      <td>8.2</td>\n",
       "      <td>534486.0</td>\n",
       "      <td>15.461</td>\n",
       "      <td>7.811</td>\n",
       "    </tr>\n",
       "    <tr>\n",
       "      <th>4</th>\n",
       "      <td>tm120801</td>\n",
       "      <td>The Dirty Dozen</td>\n",
       "      <td>MOVIE</td>\n",
       "      <td>12 American military prisoners in World War II are ordered to infiltrate a well-guarded enemy château and kill the Nazi officers vacationing there. The soldiers, most of whom are facing death sentences for a variety of violent crimes, agree to the mission and the possible commuting of their sentences.</td>\n",
       "      <td>1967</td>\n",
       "      <td>NaN</td>\n",
       "      <td>150</td>\n",
       "      <td>['war', 'action']</td>\n",
       "      <td>['GB', 'US']</td>\n",
       "      <td>NaN</td>\n",
       "      <td>tt0061578</td>\n",
       "      <td>7.7</td>\n",
       "      <td>72662.0</td>\n",
       "      <td>20.398</td>\n",
       "      <td>7.600</td>\n",
       "    </tr>\n",
       "    <tr>\n",
       "      <th>6</th>\n",
       "      <td>tm70993</td>\n",
       "      <td>Life of Brian</td>\n",
       "      <td>MOVIE</td>\n",
       "      <td>Brian Cohen is an average young Jewish man, but through a series of ridiculous events, he gains a reputation as the Messiah. When he's not dodging his followers or being scolded by his shrill mother, the hapless Brian has to contend with the pompous Pontius Pilate and acronym-obsessed members of a separatist movement. Rife with Monty Python's signature absurdity, the tale finds Brian's life paralleling Biblical lore, albeit with many more laughs.</td>\n",
       "      <td>1979</td>\n",
       "      <td>R</td>\n",
       "      <td>94</td>\n",
       "      <td>['comedy']</td>\n",
       "      <td>['GB']</td>\n",
       "      <td>NaN</td>\n",
       "      <td>tt0079470</td>\n",
       "      <td>8.0</td>\n",
       "      <td>395024.0</td>\n",
       "      <td>17.770</td>\n",
       "      <td>7.800</td>\n",
       "    </tr>\n",
       "  </tbody>\n",
       "</table>\n",
       "</div>"
      ],
      "text/plain": [
       "         id                            title   type  \\\n",
       "1   tm84618                      Taxi Driver  MOVIE   \n",
       "2  tm154986                      Deliverance  MOVIE   \n",
       "3  tm127384  Monty Python and the Holy Grail  MOVIE   \n",
       "4  tm120801                  The Dirty Dozen  MOVIE   \n",
       "6   tm70993                    Life of Brian  MOVIE   \n",
       "\n",
       "                                                                                                                                                                                                                                                                                                                                                                                                                                                          description  \\\n",
       "1                                                                                                                                                                                                                                                                                               A mentally unstable Vietnam War veteran works as a night-time taxi driver in New York City where the perceived decadence and sleaze feed his urge for violent action.   \n",
       "2                                                                                                                                                                                                                                               Intent on seeing the Cahulawassee River before it's turned into one huge lake, outdoor fanatic Lewis Medlock takes his friends on a river-rafting trip they'll never forget into the dangerous American back-country.   \n",
       "3                                     King Arthur, accompanied by his squire, recruits his Knights of the Round Table, including Sir Bedevere the Wise, Sir Lancelot the Brave, Sir Robin the Not-Quite-So-Brave-As-Sir-Lancelot and Sir Galahad the Pure. On the way, Arthur battles the Black Knight who, despite having had all his limbs chopped off, insists he can still fight. They reach Camelot, but Arthur decides not  to enter, as \"it is a silly place\".   \n",
       "4                                                                                                                                                      12 American military prisoners in World War II are ordered to infiltrate a well-guarded enemy château and kill the Nazi officers vacationing there. The soldiers, most of whom are facing death sentences for a variety of violent crimes, agree to the mission and the possible commuting of their sentences.   \n",
       "6  Brian Cohen is an average young Jewish man, but through a series of ridiculous events, he gains a reputation as the Messiah. When he's not dodging his followers or being scolded by his shrill mother, the hapless Brian has to contend with the pompous Pontius Pilate and acronym-obsessed members of a separatist movement. Rife with Monty Python's signature absurdity, the tale finds Brian's life paralleling Biblical lore, albeit with many more laughs.   \n",
       "\n",
       "   release_year age_certification  runtime  \\\n",
       "1          1976                 R      114   \n",
       "2          1972                 R      109   \n",
       "3          1975                PG       91   \n",
       "4          1967               NaN      150   \n",
       "6          1979                 R       94   \n",
       "\n",
       "                                        genres production_countries  seasons  \\\n",
       "1                           ['drama', 'crime']               ['US']      NaN   \n",
       "2  ['drama', 'action', 'thriller', 'european']               ['US']      NaN   \n",
       "3              ['fantasy', 'action', 'comedy']               ['GB']      NaN   \n",
       "4                            ['war', 'action']         ['GB', 'US']      NaN   \n",
       "6                                   ['comedy']               ['GB']      NaN   \n",
       "\n",
       "     imdb_id  imdb_score  imdb_votes  tmdb_popularity  tmdb_score  \n",
       "1  tt0075314         8.2    808582.0           40.965       8.179  \n",
       "2  tt0068473         7.7    107673.0           10.010       7.300  \n",
       "3  tt0071853         8.2    534486.0           15.461       7.811  \n",
       "4  tt0061578         7.7     72662.0           20.398       7.600  \n",
       "6  tt0079470         8.0    395024.0           17.770       7.800  "
      ]
     },
     "execution_count": 10,
     "metadata": {},
     "output_type": "execute_result"
    }
   ],
   "source": [
    "# check the missing row for seasons\n",
    "df[df['seasons'].isnull()].head() "
   ]
  },
  {
   "cell_type": "code",
   "execution_count": 11,
   "metadata": {},
   "outputs": [
    {
     "name": "stdout",
     "output_type": "stream",
     "text": [
      "The missing seasons is the data with movie type, so the null values will be replaced by 0 (because movie has no seasons)\n"
     ]
    }
   ],
   "source": [
    "#asumption : season where missing value exist is row where type is movie\n",
    "#using if to ensure if the assumption is true\n",
    "if all(df[df['seasons'].isnull()]['type'] == 'MOVIE'):\n",
    "    print('The missing seasons is the data with movie type, so the null values will be replaced by 0 (because movie has no seasons)')\n",
    "    df['seasons'] = df['seasons'].fillna(0)\n",
    "else : \n",
    "    print('The missing season is not always data with movie type. The data with movie type will be replaced by 0 and others will be replaced by 1 (minimum of seasons)')"
   ]
  },
  {
   "cell_type": "code",
   "execution_count": 12,
   "metadata": {},
   "outputs": [
    {
     "data": {
      "text/html": [
       "<div>\n",
       "<style scoped>\n",
       "    .dataframe tbody tr th:only-of-type {\n",
       "        vertical-align: middle;\n",
       "    }\n",
       "\n",
       "    .dataframe tbody tr th {\n",
       "        vertical-align: top;\n",
       "    }\n",
       "\n",
       "    .dataframe thead th {\n",
       "        text-align: right;\n",
       "    }\n",
       "</style>\n",
       "<table border=\"1\" class=\"dataframe\">\n",
       "  <thead>\n",
       "    <tr style=\"text-align: right;\">\n",
       "      <th></th>\n",
       "      <th>id</th>\n",
       "      <th>title</th>\n",
       "      <th>type</th>\n",
       "      <th>description</th>\n",
       "      <th>release_year</th>\n",
       "      <th>age_certification</th>\n",
       "      <th>runtime</th>\n",
       "      <th>genres</th>\n",
       "      <th>production_countries</th>\n",
       "      <th>seasons</th>\n",
       "      <th>imdb_id</th>\n",
       "      <th>imdb_score</th>\n",
       "      <th>imdb_votes</th>\n",
       "      <th>tmdb_popularity</th>\n",
       "      <th>tmdb_score</th>\n",
       "    </tr>\n",
       "  </thead>\n",
       "  <tbody>\n",
       "    <tr>\n",
       "      <th>1704</th>\n",
       "      <td>tm1063792</td>\n",
       "      <td>NaN</td>\n",
       "      <td>MOVIE</td>\n",
       "      <td>NaN</td>\n",
       "      <td>2015</td>\n",
       "      <td>NaN</td>\n",
       "      <td>11</td>\n",
       "      <td>[]</td>\n",
       "      <td>[]</td>\n",
       "      <td>0.0</td>\n",
       "      <td>tt4661188</td>\n",
       "      <td>NaN</td>\n",
       "      <td>NaN</td>\n",
       "      <td>NaN</td>\n",
       "      <td>NaN</td>\n",
       "    </tr>\n",
       "  </tbody>\n",
       "</table>\n",
       "</div>"
      ],
      "text/plain": [
       "             id title   type description  release_year age_certification  \\\n",
       "1704  tm1063792   NaN  MOVIE         NaN          2015               NaN   \n",
       "\n",
       "      runtime genres production_countries  seasons    imdb_id  imdb_score  \\\n",
       "1704       11     []                   []      0.0  tt4661188         NaN   \n",
       "\n",
       "      imdb_votes  tmdb_popularity  tmdb_score  \n",
       "1704         NaN              NaN         NaN  "
      ]
     },
     "execution_count": 12,
     "metadata": {},
     "output_type": "execute_result"
    }
   ],
   "source": [
    "# check the missing row for title\n",
    "df.query('title.isnull()')"
   ]
  },
  {
   "cell_type": "code",
   "execution_count": 13,
   "metadata": {},
   "outputs": [],
   "source": [
    "# Since only few information avaible and the missing data only 1, data with missing title will be removed\n",
    "df = df.dropna(subset = 'title')"
   ]
  },
  {
   "cell_type": "code",
   "execution_count": 14,
   "metadata": {},
   "outputs": [
    {
     "data": {
      "text/html": [
       "<div>\n",
       "<style scoped>\n",
       "    .dataframe tbody tr th:only-of-type {\n",
       "        vertical-align: middle;\n",
       "    }\n",
       "\n",
       "    .dataframe tbody tr th {\n",
       "        vertical-align: top;\n",
       "    }\n",
       "\n",
       "    .dataframe thead th {\n",
       "        text-align: right;\n",
       "    }\n",
       "</style>\n",
       "<table border=\"1\" class=\"dataframe\">\n",
       "  <thead>\n",
       "    <tr style=\"text-align: right;\">\n",
       "      <th></th>\n",
       "      <th>id</th>\n",
       "      <th>title</th>\n",
       "      <th>type</th>\n",
       "      <th>description</th>\n",
       "      <th>release_year</th>\n",
       "      <th>age_certification</th>\n",
       "      <th>runtime</th>\n",
       "      <th>genres</th>\n",
       "      <th>production_countries</th>\n",
       "      <th>seasons</th>\n",
       "      <th>imdb_id</th>\n",
       "      <th>imdb_score</th>\n",
       "      <th>imdb_votes</th>\n",
       "      <th>tmdb_popularity</th>\n",
       "      <th>tmdb_score</th>\n",
       "    </tr>\n",
       "  </thead>\n",
       "  <tbody>\n",
       "    <tr>\n",
       "      <th>1111</th>\n",
       "      <td>ts271005</td>\n",
       "      <td>幸福料理</td>\n",
       "      <td>SHOW</td>\n",
       "      <td>NaN</td>\n",
       "      <td>2014</td>\n",
       "      <td>TV-14</td>\n",
       "      <td>44</td>\n",
       "      <td>[]</td>\n",
       "      <td>[]</td>\n",
       "      <td>1.0</td>\n",
       "      <td>NaN</td>\n",
       "      <td>NaN</td>\n",
       "      <td>NaN</td>\n",
       "      <td>0.600</td>\n",
       "      <td>NaN</td>\n",
       "    </tr>\n",
       "    <tr>\n",
       "      <th>1114</th>\n",
       "      <td>tm681614</td>\n",
       "      <td>Grandmother's Farm</td>\n",
       "      <td>MOVIE</td>\n",
       "      <td>NaN</td>\n",
       "      <td>2013</td>\n",
       "      <td>NaN</td>\n",
       "      <td>71</td>\n",
       "      <td>['comedy', 'horror']</td>\n",
       "      <td>[]</td>\n",
       "      <td>0.0</td>\n",
       "      <td>tt10033686</td>\n",
       "      <td>2.9</td>\n",
       "      <td>78.0</td>\n",
       "      <td>NaN</td>\n",
       "      <td>NaN</td>\n",
       "    </tr>\n",
       "    <tr>\n",
       "      <th>2105</th>\n",
       "      <td>ts82770</td>\n",
       "      <td>Camarón Revolution</td>\n",
       "      <td>SHOW</td>\n",
       "      <td>NaN</td>\n",
       "      <td>2018</td>\n",
       "      <td>TV-14</td>\n",
       "      <td>52</td>\n",
       "      <td>['documentation', 'reality']</td>\n",
       "      <td>['ES']</td>\n",
       "      <td>1.0</td>\n",
       "      <td>NaN</td>\n",
       "      <td>NaN</td>\n",
       "      <td>NaN</td>\n",
       "      <td>1.290</td>\n",
       "      <td>7.0</td>\n",
       "    </tr>\n",
       "    <tr>\n",
       "      <th>2189</th>\n",
       "      <td>ts82375</td>\n",
       "      <td>Beyblade Burst Turbo</td>\n",
       "      <td>SHOW</td>\n",
       "      <td>NaN</td>\n",
       "      <td>2018</td>\n",
       "      <td>TV-Y7</td>\n",
       "      <td>22</td>\n",
       "      <td>['scifi', 'action']</td>\n",
       "      <td>['JP']</td>\n",
       "      <td>1.0</td>\n",
       "      <td>NaN</td>\n",
       "      <td>NaN</td>\n",
       "      <td>NaN</td>\n",
       "      <td>0.600</td>\n",
       "      <td>0.5</td>\n",
       "    </tr>\n",
       "    <tr>\n",
       "      <th>2485</th>\n",
       "      <td>ts268283</td>\n",
       "      <td>RIDE ON TIME</td>\n",
       "      <td>SHOW</td>\n",
       "      <td>NaN</td>\n",
       "      <td>2018</td>\n",
       "      <td>TV-PG</td>\n",
       "      <td>22</td>\n",
       "      <td>[]</td>\n",
       "      <td>['JP']</td>\n",
       "      <td>3.0</td>\n",
       "      <td>NaN</td>\n",
       "      <td>NaN</td>\n",
       "      <td>NaN</td>\n",
       "      <td>1.328</td>\n",
       "      <td>NaN</td>\n",
       "    </tr>\n",
       "    <tr>\n",
       "      <th>2754</th>\n",
       "      <td>ts106612</td>\n",
       "      <td>Chicken Soup for the Soul's Being Dad</td>\n",
       "      <td>SHOW</td>\n",
       "      <td>NaN</td>\n",
       "      <td>2018</td>\n",
       "      <td>TV-PG</td>\n",
       "      <td>40</td>\n",
       "      <td>['reality']</td>\n",
       "      <td>[]</td>\n",
       "      <td>1.0</td>\n",
       "      <td>tt8908110</td>\n",
       "      <td>NaN</td>\n",
       "      <td>NaN</td>\n",
       "      <td>NaN</td>\n",
       "      <td>NaN</td>\n",
       "    </tr>\n",
       "    <tr>\n",
       "      <th>2798</th>\n",
       "      <td>tm407349</td>\n",
       "      <td>The Birth Reborn 2</td>\n",
       "      <td>MOVIE</td>\n",
       "      <td>NaN</td>\n",
       "      <td>2018</td>\n",
       "      <td>PG</td>\n",
       "      <td>91</td>\n",
       "      <td>['documentation']</td>\n",
       "      <td>['BR']</td>\n",
       "      <td>0.0</td>\n",
       "      <td>tt16114198</td>\n",
       "      <td>6.6</td>\n",
       "      <td>5.0</td>\n",
       "      <td>1.400</td>\n",
       "      <td>5.8</td>\n",
       "    </tr>\n",
       "    <tr>\n",
       "      <th>3700</th>\n",
       "      <td>ts312044</td>\n",
       "      <td>Beyblade Burst Surge</td>\n",
       "      <td>SHOW</td>\n",
       "      <td>NaN</td>\n",
       "      <td>2020</td>\n",
       "      <td>TV-Y</td>\n",
       "      <td>23</td>\n",
       "      <td>['animation']</td>\n",
       "      <td>['JP']</td>\n",
       "      <td>1.0</td>\n",
       "      <td>tt18554728</td>\n",
       "      <td>8.3</td>\n",
       "      <td>30.0</td>\n",
       "      <td>7.501</td>\n",
       "      <td>9.7</td>\n",
       "    </tr>\n",
       "    <tr>\n",
       "      <th>4110</th>\n",
       "      <td>ts223062</td>\n",
       "      <td>ปริศนาล่าข้ามเวลา</td>\n",
       "      <td>SHOW</td>\n",
       "      <td>NaN</td>\n",
       "      <td>2019</td>\n",
       "      <td>TV-14</td>\n",
       "      <td>60</td>\n",
       "      <td>[]</td>\n",
       "      <td>['TH']</td>\n",
       "      <td>1.0</td>\n",
       "      <td>NaN</td>\n",
       "      <td>NaN</td>\n",
       "      <td>NaN</td>\n",
       "      <td>1.473</td>\n",
       "      <td>7.0</td>\n",
       "    </tr>\n",
       "    <tr>\n",
       "      <th>4274</th>\n",
       "      <td>tm1172010</td>\n",
       "      <td>The Lockdown Plan</td>\n",
       "      <td>MOVIE</td>\n",
       "      <td>NaN</td>\n",
       "      <td>2020</td>\n",
       "      <td>NaN</td>\n",
       "      <td>49</td>\n",
       "      <td>[]</td>\n",
       "      <td>[]</td>\n",
       "      <td>0.0</td>\n",
       "      <td>tt13079112</td>\n",
       "      <td>6.5</td>\n",
       "      <td>NaN</td>\n",
       "      <td>NaN</td>\n",
       "      <td>NaN</td>\n",
       "    </tr>\n",
       "    <tr>\n",
       "      <th>4358</th>\n",
       "      <td>ts255867</td>\n",
       "      <td>뽀로로 동화나라</td>\n",
       "      <td>SHOW</td>\n",
       "      <td>NaN</td>\n",
       "      <td>2020</td>\n",
       "      <td>TV-Y</td>\n",
       "      <td>14</td>\n",
       "      <td>['animation']</td>\n",
       "      <td>['KR']</td>\n",
       "      <td>1.0</td>\n",
       "      <td>NaN</td>\n",
       "      <td>NaN</td>\n",
       "      <td>NaN</td>\n",
       "      <td>0.600</td>\n",
       "      <td>NaN</td>\n",
       "    </tr>\n",
       "    <tr>\n",
       "      <th>4552</th>\n",
       "      <td>tm896976</td>\n",
       "      <td>True: Rainbow Rescue</td>\n",
       "      <td>MOVIE</td>\n",
       "      <td>NaN</td>\n",
       "      <td>2020</td>\n",
       "      <td>NaN</td>\n",
       "      <td>23</td>\n",
       "      <td>['animation']</td>\n",
       "      <td>['US']</td>\n",
       "      <td>0.0</td>\n",
       "      <td>NaN</td>\n",
       "      <td>NaN</td>\n",
       "      <td>NaN</td>\n",
       "      <td>2.410</td>\n",
       "      <td>10.0</td>\n",
       "    </tr>\n",
       "    <tr>\n",
       "      <th>4581</th>\n",
       "      <td>tm840152</td>\n",
       "      <td>Amsterdam to Anatolia</td>\n",
       "      <td>MOVIE</td>\n",
       "      <td>NaN</td>\n",
       "      <td>2019</td>\n",
       "      <td>NaN</td>\n",
       "      <td>6</td>\n",
       "      <td>['thriller', 'drama']</td>\n",
       "      <td>['NL', 'PS', 'US', 'LB']</td>\n",
       "      <td>0.0</td>\n",
       "      <td>NaN</td>\n",
       "      <td>NaN</td>\n",
       "      <td>NaN</td>\n",
       "      <td>1.017</td>\n",
       "      <td>6.0</td>\n",
       "    </tr>\n",
       "    <tr>\n",
       "      <th>4606</th>\n",
       "      <td>tm855232</td>\n",
       "      <td>Luccas Neto in: The End of Christmas</td>\n",
       "      <td>MOVIE</td>\n",
       "      <td>NaN</td>\n",
       "      <td>2019</td>\n",
       "      <td>NaN</td>\n",
       "      <td>71</td>\n",
       "      <td>[]</td>\n",
       "      <td>[]</td>\n",
       "      <td>0.0</td>\n",
       "      <td>NaN</td>\n",
       "      <td>NaN</td>\n",
       "      <td>NaN</td>\n",
       "      <td>1.603</td>\n",
       "      <td>7.8</td>\n",
       "    </tr>\n",
       "    <tr>\n",
       "      <th>4668</th>\n",
       "      <td>tm902993</td>\n",
       "      <td>Mama Drama</td>\n",
       "      <td>MOVIE</td>\n",
       "      <td>NaN</td>\n",
       "      <td>2020</td>\n",
       "      <td>NaN</td>\n",
       "      <td>85</td>\n",
       "      <td>['drama']</td>\n",
       "      <td>['US']</td>\n",
       "      <td>0.0</td>\n",
       "      <td>tt12424356</td>\n",
       "      <td>6.3</td>\n",
       "      <td>8.0</td>\n",
       "      <td>NaN</td>\n",
       "      <td>NaN</td>\n",
       "    </tr>\n",
       "    <tr>\n",
       "      <th>4675</th>\n",
       "      <td>ts304136</td>\n",
       "      <td>마법버스 타요</td>\n",
       "      <td>SHOW</td>\n",
       "      <td>NaN</td>\n",
       "      <td>2020</td>\n",
       "      <td>TV-Y7</td>\n",
       "      <td>24</td>\n",
       "      <td>[]</td>\n",
       "      <td>['KR']</td>\n",
       "      <td>1.0</td>\n",
       "      <td>NaN</td>\n",
       "      <td>NaN</td>\n",
       "      <td>NaN</td>\n",
       "      <td>0.600</td>\n",
       "      <td>NaN</td>\n",
       "    </tr>\n",
       "    <tr>\n",
       "      <th>5483</th>\n",
       "      <td>tm1237253</td>\n",
       "      <td>My Little Pony: A New Generation: Sing-Along</td>\n",
       "      <td>MOVIE</td>\n",
       "      <td>NaN</td>\n",
       "      <td>2022</td>\n",
       "      <td>NaN</td>\n",
       "      <td>90</td>\n",
       "      <td>[]</td>\n",
       "      <td>[]</td>\n",
       "      <td>0.0</td>\n",
       "      <td>NaN</td>\n",
       "      <td>NaN</td>\n",
       "      <td>NaN</td>\n",
       "      <td>NaN</td>\n",
       "      <td>NaN</td>\n",
       "    </tr>\n",
       "  </tbody>\n",
       "</table>\n",
       "</div>"
      ],
      "text/plain": [
       "             id                                         title   type  \\\n",
       "1111   ts271005                                          幸福料理   SHOW   \n",
       "1114   tm681614                            Grandmother's Farm  MOVIE   \n",
       "2105    ts82770                            Camarón Revolution   SHOW   \n",
       "2189    ts82375                          Beyblade Burst Turbo   SHOW   \n",
       "2485   ts268283                                  RIDE ON TIME   SHOW   \n",
       "2754   ts106612         Chicken Soup for the Soul's Being Dad   SHOW   \n",
       "2798   tm407349                            The Birth Reborn 2  MOVIE   \n",
       "3700   ts312044                          Beyblade Burst Surge   SHOW   \n",
       "4110   ts223062                             ปริศนาล่าข้ามเวลา   SHOW   \n",
       "4274  tm1172010                             The Lockdown Plan  MOVIE   \n",
       "4358   ts255867                                      뽀로로 동화나라   SHOW   \n",
       "4552   tm896976                          True: Rainbow Rescue  MOVIE   \n",
       "4581   tm840152                         Amsterdam to Anatolia  MOVIE   \n",
       "4606   tm855232          Luccas Neto in: The End of Christmas  MOVIE   \n",
       "4668   tm902993                                    Mama Drama  MOVIE   \n",
       "4675   ts304136                                       마법버스 타요   SHOW   \n",
       "5483  tm1237253  My Little Pony: A New Generation: Sing-Along  MOVIE   \n",
       "\n",
       "     description  release_year age_certification  runtime  \\\n",
       "1111         NaN          2014             TV-14       44   \n",
       "1114         NaN          2013               NaN       71   \n",
       "2105         NaN          2018             TV-14       52   \n",
       "2189         NaN          2018             TV-Y7       22   \n",
       "2485         NaN          2018             TV-PG       22   \n",
       "2754         NaN          2018             TV-PG       40   \n",
       "2798         NaN          2018                PG       91   \n",
       "3700         NaN          2020              TV-Y       23   \n",
       "4110         NaN          2019             TV-14       60   \n",
       "4274         NaN          2020               NaN       49   \n",
       "4358         NaN          2020              TV-Y       14   \n",
       "4552         NaN          2020               NaN       23   \n",
       "4581         NaN          2019               NaN        6   \n",
       "4606         NaN          2019               NaN       71   \n",
       "4668         NaN          2020               NaN       85   \n",
       "4675         NaN          2020             TV-Y7       24   \n",
       "5483         NaN          2022               NaN       90   \n",
       "\n",
       "                            genres      production_countries  seasons  \\\n",
       "1111                            []                        []      1.0   \n",
       "1114          ['comedy', 'horror']                        []      0.0   \n",
       "2105  ['documentation', 'reality']                    ['ES']      1.0   \n",
       "2189           ['scifi', 'action']                    ['JP']      1.0   \n",
       "2485                            []                    ['JP']      3.0   \n",
       "2754                   ['reality']                        []      1.0   \n",
       "2798             ['documentation']                    ['BR']      0.0   \n",
       "3700                 ['animation']                    ['JP']      1.0   \n",
       "4110                            []                    ['TH']      1.0   \n",
       "4274                            []                        []      0.0   \n",
       "4358                 ['animation']                    ['KR']      1.0   \n",
       "4552                 ['animation']                    ['US']      0.0   \n",
       "4581         ['thriller', 'drama']  ['NL', 'PS', 'US', 'LB']      0.0   \n",
       "4606                            []                        []      0.0   \n",
       "4668                     ['drama']                    ['US']      0.0   \n",
       "4675                            []                    ['KR']      1.0   \n",
       "5483                            []                        []      0.0   \n",
       "\n",
       "         imdb_id  imdb_score  imdb_votes  tmdb_popularity  tmdb_score  \n",
       "1111         NaN         NaN         NaN            0.600         NaN  \n",
       "1114  tt10033686         2.9        78.0              NaN         NaN  \n",
       "2105         NaN         NaN         NaN            1.290         7.0  \n",
       "2189         NaN         NaN         NaN            0.600         0.5  \n",
       "2485         NaN         NaN         NaN            1.328         NaN  \n",
       "2754   tt8908110         NaN         NaN              NaN         NaN  \n",
       "2798  tt16114198         6.6         5.0            1.400         5.8  \n",
       "3700  tt18554728         8.3        30.0            7.501         9.7  \n",
       "4110         NaN         NaN         NaN            1.473         7.0  \n",
       "4274  tt13079112         6.5         NaN              NaN         NaN  \n",
       "4358         NaN         NaN         NaN            0.600         NaN  \n",
       "4552         NaN         NaN         NaN            2.410        10.0  \n",
       "4581         NaN         NaN         NaN            1.017         6.0  \n",
       "4606         NaN         NaN         NaN            1.603         7.8  \n",
       "4668  tt12424356         6.3         8.0              NaN         NaN  \n",
       "4675         NaN         NaN         NaN            0.600         NaN  \n",
       "5483         NaN         NaN         NaN              NaN         NaN  "
      ]
     },
     "execution_count": 14,
     "metadata": {},
     "output_type": "execute_result"
    }
   ],
   "source": [
    "# check the missing row for description\n",
    "df.query('description.isnull()')"
   ]
  },
  {
   "cell_type": "code",
   "execution_count": 15,
   "metadata": {},
   "outputs": [],
   "source": [
    "# Only a few rows with missing description and no enough information on why description is missing. The missing description row will be removed  \n",
    "df = df.dropna(subset='description')"
   ]
  },
  {
   "cell_type": "code",
   "execution_count": 16,
   "metadata": {},
   "outputs": [
    {
     "data": {
      "text/html": [
       "<div>\n",
       "<style scoped>\n",
       "    .dataframe tbody tr th:only-of-type {\n",
       "        vertical-align: middle;\n",
       "    }\n",
       "\n",
       "    .dataframe tbody tr th {\n",
       "        vertical-align: top;\n",
       "    }\n",
       "\n",
       "    .dataframe thead th {\n",
       "        text-align: right;\n",
       "    }\n",
       "</style>\n",
       "<table border=\"1\" class=\"dataframe\">\n",
       "  <thead>\n",
       "    <tr style=\"text-align: right;\">\n",
       "      <th></th>\n",
       "      <th>id</th>\n",
       "      <th>title</th>\n",
       "      <th>type</th>\n",
       "      <th>description</th>\n",
       "      <th>release_year</th>\n",
       "      <th>age_certification</th>\n",
       "      <th>runtime</th>\n",
       "      <th>genres</th>\n",
       "      <th>production_countries</th>\n",
       "      <th>seasons</th>\n",
       "      <th>imdb_id</th>\n",
       "      <th>imdb_score</th>\n",
       "      <th>imdb_votes</th>\n",
       "      <th>tmdb_popularity</th>\n",
       "      <th>tmdb_score</th>\n",
       "    </tr>\n",
       "  </thead>\n",
       "  <tbody>\n",
       "    <tr>\n",
       "      <th>4</th>\n",
       "      <td>tm120801</td>\n",
       "      <td>The Dirty Dozen</td>\n",
       "      <td>MOVIE</td>\n",
       "      <td>12 American military prisoners in World War II are ordered to infiltrate a well-guarded enemy château and kill the Nazi officers vacationing there. The soldiers, most of whom are facing death sentences for a variety of violent crimes, agree to the mission and the possible commuting of their sentences.</td>\n",
       "      <td>1967</td>\n",
       "      <td>NaN</td>\n",
       "      <td>150</td>\n",
       "      <td>['war', 'action']</td>\n",
       "      <td>['GB', 'US']</td>\n",
       "      <td>0.0</td>\n",
       "      <td>tt0061578</td>\n",
       "      <td>7.7</td>\n",
       "      <td>72662.0</td>\n",
       "      <td>20.398</td>\n",
       "      <td>7.6</td>\n",
       "    </tr>\n",
       "    <tr>\n",
       "      <th>10</th>\n",
       "      <td>tm44204</td>\n",
       "      <td>The Guns of Navarone</td>\n",
       "      <td>MOVIE</td>\n",
       "      <td>A team of allied saboteurs are assigned an impossible mission: infiltrate an impregnable Nazi-held island and destroy the two enormous long-range field guns that prevent the rescue of 2,000 trapped British soldiers.</td>\n",
       "      <td>1961</td>\n",
       "      <td>NaN</td>\n",
       "      <td>158</td>\n",
       "      <td>['action', 'drama', 'war']</td>\n",
       "      <td>['GB', 'US']</td>\n",
       "      <td>0.0</td>\n",
       "      <td>tt0054953</td>\n",
       "      <td>7.5</td>\n",
       "      <td>50748.0</td>\n",
       "      <td>13.844</td>\n",
       "      <td>7.3</td>\n",
       "    </tr>\n",
       "    <tr>\n",
       "      <th>13</th>\n",
       "      <td>tm16479</td>\n",
       "      <td>White Christmas</td>\n",
       "      <td>MOVIE</td>\n",
       "      <td>Two talented song-and-dance men team up after the war to become one of the hottest acts in show business. In time they befriend and become romantically involved with the beautiful Haynes sisters who comprise a sister act.</td>\n",
       "      <td>1954</td>\n",
       "      <td>NaN</td>\n",
       "      <td>115</td>\n",
       "      <td>['romance', 'comedy']</td>\n",
       "      <td>['US']</td>\n",
       "      <td>0.0</td>\n",
       "      <td>tt0047673</td>\n",
       "      <td>7.5</td>\n",
       "      <td>42488.0</td>\n",
       "      <td>8.915</td>\n",
       "      <td>7.2</td>\n",
       "    </tr>\n",
       "    <tr>\n",
       "      <th>14</th>\n",
       "      <td>tm135083</td>\n",
       "      <td>Cairo Station</td>\n",
       "      <td>MOVIE</td>\n",
       "      <td>Qinawi, a physically challenged peddler who makes his living selling newspapers in the central Cairo train station, is obsessed by Hanuma, an attractive young woman who sells drinks. While she jokes with him about a possible relationship, she is actually in love with Abu Siri, a strong and respected porter at the station who is struggling to unionize his fellow workers to combat their boss' exploitative and abusive treatment.</td>\n",
       "      <td>1958</td>\n",
       "      <td>NaN</td>\n",
       "      <td>77</td>\n",
       "      <td>['drama', 'crime', 'comedy']</td>\n",
       "      <td>['EG']</td>\n",
       "      <td>0.0</td>\n",
       "      <td>tt0051390</td>\n",
       "      <td>7.5</td>\n",
       "      <td>4471.0</td>\n",
       "      <td>5.546</td>\n",
       "      <td>7.3</td>\n",
       "    </tr>\n",
       "    <tr>\n",
       "      <th>17</th>\n",
       "      <td>tm14350</td>\n",
       "      <td>Alexandria… Why?</td>\n",
       "      <td>MOVIE</td>\n",
       "      <td>Set against the panoramic backdrop of war-torn Egypt, director Youssef Chahine tells a highly personal tale of love and determination. Amid the poverty, death and suffering caused by World War II, 18 year-old Yehia, retreats into a private world of fantasy and longing. Obsessed with Hollywood, he dreams of one day studying filmmaking in America, but after falling in love and discovering the lies of European occupation, Yehia profoundly reevaluates his identity and allegiances.</td>\n",
       "      <td>1979</td>\n",
       "      <td>NaN</td>\n",
       "      <td>133</td>\n",
       "      <td>['drama']</td>\n",
       "      <td>['EG']</td>\n",
       "      <td>0.0</td>\n",
       "      <td>tt0077751</td>\n",
       "      <td>7.2</td>\n",
       "      <td>1727.0</td>\n",
       "      <td>1.370</td>\n",
       "      <td>6.0</td>\n",
       "    </tr>\n",
       "    <tr>\n",
       "      <th>...</th>\n",
       "      <td>...</td>\n",
       "      <td>...</td>\n",
       "      <td>...</td>\n",
       "      <td>...</td>\n",
       "      <td>...</td>\n",
       "      <td>...</td>\n",
       "      <td>...</td>\n",
       "      <td>...</td>\n",
       "      <td>...</td>\n",
       "      <td>...</td>\n",
       "      <td>...</td>\n",
       "      <td>...</td>\n",
       "      <td>...</td>\n",
       "      <td>...</td>\n",
       "      <td>...</td>\n",
       "    </tr>\n",
       "    <tr>\n",
       "      <th>5844</th>\n",
       "      <td>tm1074617</td>\n",
       "      <td>Bling Empire - The Afterparty</td>\n",
       "      <td>MOVIE</td>\n",
       "      <td>The stars of \"Bling Empire\" discuss the show's success and play bling-themed games, then comic Joel Kim Booster makes his case for joining the cast.</td>\n",
       "      <td>2021</td>\n",
       "      <td>NaN</td>\n",
       "      <td>35</td>\n",
       "      <td>[]</td>\n",
       "      <td>['US']</td>\n",
       "      <td>0.0</td>\n",
       "      <td>NaN</td>\n",
       "      <td>NaN</td>\n",
       "      <td>NaN</td>\n",
       "      <td>NaN</td>\n",
       "      <td>NaN</td>\n",
       "    </tr>\n",
       "    <tr>\n",
       "      <th>5845</th>\n",
       "      <td>tm1014599</td>\n",
       "      <td>Fine Wine</td>\n",
       "      <td>MOVIE</td>\n",
       "      <td>A beautiful love story that can happen between two people regardless of their age gaps.</td>\n",
       "      <td>2021</td>\n",
       "      <td>NaN</td>\n",
       "      <td>100</td>\n",
       "      <td>['romance', 'drama']</td>\n",
       "      <td>['NG']</td>\n",
       "      <td>0.0</td>\n",
       "      <td>tt13857480</td>\n",
       "      <td>6.8</td>\n",
       "      <td>45.0</td>\n",
       "      <td>1.466</td>\n",
       "      <td>NaN</td>\n",
       "    </tr>\n",
       "    <tr>\n",
       "      <th>5846</th>\n",
       "      <td>tm898842</td>\n",
       "      <td>C/O Kaadhal</td>\n",
       "      <td>MOVIE</td>\n",
       "      <td>A heart warming film that explores the concept of romance with episodes involving four sets of people of different age group.</td>\n",
       "      <td>2021</td>\n",
       "      <td>NaN</td>\n",
       "      <td>134</td>\n",
       "      <td>['drama']</td>\n",
       "      <td>[]</td>\n",
       "      <td>0.0</td>\n",
       "      <td>tt11803618</td>\n",
       "      <td>7.7</td>\n",
       "      <td>348.0</td>\n",
       "      <td>NaN</td>\n",
       "      <td>NaN</td>\n",
       "    </tr>\n",
       "    <tr>\n",
       "      <th>5847</th>\n",
       "      <td>tm1059008</td>\n",
       "      <td>Lokillo</td>\n",
       "      <td>MOVIE</td>\n",
       "      <td>A controversial TV host and comedian who has built his career on sexist humor is forced to assume a woman's identity to elude a relentless drug dealer.</td>\n",
       "      <td>2021</td>\n",
       "      <td>NaN</td>\n",
       "      <td>90</td>\n",
       "      <td>['comedy']</td>\n",
       "      <td>['CO']</td>\n",
       "      <td>0.0</td>\n",
       "      <td>tt14585902</td>\n",
       "      <td>3.8</td>\n",
       "      <td>68.0</td>\n",
       "      <td>26.005</td>\n",
       "      <td>6.3</td>\n",
       "    </tr>\n",
       "    <tr>\n",
       "      <th>5849</th>\n",
       "      <td>ts271048</td>\n",
       "      <td>Mighty Little Bheem: Kite Festival</td>\n",
       "      <td>SHOW</td>\n",
       "      <td>With winter behind them, Bheem and his townspeople usher in a sunny new season in all their favorite ways during the Makar Sankranti festival.</td>\n",
       "      <td>2021</td>\n",
       "      <td>NaN</td>\n",
       "      <td>7</td>\n",
       "      <td>['family', 'animation', 'comedy']</td>\n",
       "      <td>[]</td>\n",
       "      <td>1.0</td>\n",
       "      <td>tt13711094</td>\n",
       "      <td>7.8</td>\n",
       "      <td>18.0</td>\n",
       "      <td>2.289</td>\n",
       "      <td>10.0</td>\n",
       "    </tr>\n",
       "  </tbody>\n",
       "</table>\n",
       "<p>2611 rows × 15 columns</p>\n",
       "</div>"
      ],
      "text/plain": [
       "             id                               title   type  \\\n",
       "4      tm120801                     The Dirty Dozen  MOVIE   \n",
       "10      tm44204                The Guns of Navarone  MOVIE   \n",
       "13      tm16479                     White Christmas  MOVIE   \n",
       "14     tm135083                       Cairo Station  MOVIE   \n",
       "17      tm14350                    Alexandria… Why?  MOVIE   \n",
       "...         ...                                 ...    ...   \n",
       "5844  tm1074617       Bling Empire - The Afterparty  MOVIE   \n",
       "5845  tm1014599                           Fine Wine  MOVIE   \n",
       "5846   tm898842                         C/O Kaadhal  MOVIE   \n",
       "5847  tm1059008                             Lokillo  MOVIE   \n",
       "5849   ts271048  Mighty Little Bheem: Kite Festival   SHOW   \n",
       "\n",
       "                                                                                                                                                                                                                                                                                                                                                                                                                                                                                            description  \\\n",
       "4                                                                                                                                                                                        12 American military prisoners in World War II are ordered to infiltrate a well-guarded enemy château and kill the Nazi officers vacationing there. The soldiers, most of whom are facing death sentences for a variety of violent crimes, agree to the mission and the possible commuting of their sentences.   \n",
       "10                                                                                                                                                                                                                                                                              A team of allied saboteurs are assigned an impossible mission: infiltrate an impregnable Nazi-held island and destroy the two enormous long-range field guns that prevent the rescue of 2,000 trapped British soldiers.   \n",
       "13                                                                                                                                                                                                                                                                        Two talented song-and-dance men team up after the war to become one of the hottest acts in show business. In time they befriend and become romantically involved with the beautiful Haynes sisters who comprise a sister act.   \n",
       "14                                                        Qinawi, a physically challenged peddler who makes his living selling newspapers in the central Cairo train station, is obsessed by Hanuma, an attractive young woman who sells drinks. While she jokes with him about a possible relationship, she is actually in love with Abu Siri, a strong and respected porter at the station who is struggling to unionize his fellow workers to combat their boss' exploitative and abusive treatment.   \n",
       "17    Set against the panoramic backdrop of war-torn Egypt, director Youssef Chahine tells a highly personal tale of love and determination. Amid the poverty, death and suffering caused by World War II, 18 year-old Yehia, retreats into a private world of fantasy and longing. Obsessed with Hollywood, he dreams of one day studying filmmaking in America, but after falling in love and discovering the lies of European occupation, Yehia profoundly reevaluates his identity and allegiances.   \n",
       "...                                                                                                                                                                                                                                                                                                                                                                                                                                                                                                 ...   \n",
       "5844                                                                                                                                                                                                                                                                                                                                               The stars of \"Bling Empire\" discuss the show's success and play bling-themed games, then comic Joel Kim Booster makes his case for joining the cast.   \n",
       "5845                                                                                                                                                                                                                                                                                                                                                                                                            A beautiful love story that can happen between two people regardless of their age gaps.   \n",
       "5846                                                                                                                                                                                                                                                                                                                                                                      A heart warming film that explores the concept of romance with episodes involving four sets of people of different age group.   \n",
       "5847                                                                                                                                                                                                                                                                                                                                            A controversial TV host and comedian who has built his career on sexist humor is forced to assume a woman's identity to elude a relentless drug dealer.   \n",
       "5849                                                                                                                                                                                                                                                                                                                                                     With winter behind them, Bheem and his townspeople usher in a sunny new season in all their favorite ways during the Makar Sankranti festival.   \n",
       "\n",
       "      release_year age_certification  runtime  \\\n",
       "4             1967               NaN      150   \n",
       "10            1961               NaN      158   \n",
       "13            1954               NaN      115   \n",
       "14            1958               NaN       77   \n",
       "17            1979               NaN      133   \n",
       "...            ...               ...      ...   \n",
       "5844          2021               NaN       35   \n",
       "5845          2021               NaN      100   \n",
       "5846          2021               NaN      134   \n",
       "5847          2021               NaN       90   \n",
       "5849          2021               NaN        7   \n",
       "\n",
       "                                 genres production_countries  seasons  \\\n",
       "4                     ['war', 'action']         ['GB', 'US']      0.0   \n",
       "10           ['action', 'drama', 'war']         ['GB', 'US']      0.0   \n",
       "13                ['romance', 'comedy']               ['US']      0.0   \n",
       "14         ['drama', 'crime', 'comedy']               ['EG']      0.0   \n",
       "17                            ['drama']               ['EG']      0.0   \n",
       "...                                 ...                  ...      ...   \n",
       "5844                                 []               ['US']      0.0   \n",
       "5845               ['romance', 'drama']               ['NG']      0.0   \n",
       "5846                          ['drama']                   []      0.0   \n",
       "5847                         ['comedy']               ['CO']      0.0   \n",
       "5849  ['family', 'animation', 'comedy']                   []      1.0   \n",
       "\n",
       "         imdb_id  imdb_score  imdb_votes  tmdb_popularity  tmdb_score  \n",
       "4      tt0061578         7.7     72662.0           20.398         7.6  \n",
       "10     tt0054953         7.5     50748.0           13.844         7.3  \n",
       "13     tt0047673         7.5     42488.0            8.915         7.2  \n",
       "14     tt0051390         7.5      4471.0            5.546         7.3  \n",
       "17     tt0077751         7.2      1727.0            1.370         6.0  \n",
       "...          ...         ...         ...              ...         ...  \n",
       "5844         NaN         NaN         NaN              NaN         NaN  \n",
       "5845  tt13857480         6.8        45.0            1.466         NaN  \n",
       "5846  tt11803618         7.7       348.0              NaN         NaN  \n",
       "5847  tt14585902         3.8        68.0           26.005         6.3  \n",
       "5849  tt13711094         7.8        18.0            2.289        10.0  \n",
       "\n",
       "[2611 rows x 15 columns]"
      ]
     },
     "execution_count": 16,
     "metadata": {},
     "output_type": "execute_result"
    }
   ],
   "source": [
    "# Check where age certification is missing\n",
    "df.query('age_certification.isnull()')"
   ]
  },
  {
   "cell_type": "code",
   "execution_count": 17,
   "metadata": {},
   "outputs": [],
   "source": [
    "# There are so many rows with missing age certif. The variable should be removed. But because the variable is important for this research, the varaible won't be removed and the missing row will be replaced with no age certif\n",
    "df['age_certification'] = df['age_certification'].fillna('No_age_certification')"
   ]
  },
  {
   "cell_type": "code",
   "execution_count": 18,
   "metadata": {},
   "outputs": [
    {
     "name": "stdout",
     "output_type": "stream",
     "text": [
      "<class 'pandas.core.frame.DataFrame'>\n",
      "Index: 5129 entries, 1 to 5849\n",
      "Data columns (total 15 columns):\n",
      " #   Column                Non-Null Count  Dtype  \n",
      "---  ------                --------------  -----  \n",
      " 0   id                    5129 non-null   object \n",
      " 1   title                 5129 non-null   object \n",
      " 2   type                  5129 non-null   object \n",
      " 3   description           5129 non-null   object \n",
      " 4   release_year          5129 non-null   int64  \n",
      " 5   age_certification     5129 non-null   object \n",
      " 6   runtime               5129 non-null   int64  \n",
      " 7   genres                5129 non-null   object \n",
      " 8   production_countries  5129 non-null   object \n",
      " 9   seasons               5129 non-null   float64\n",
      " 10  imdb_id               5129 non-null   object \n",
      " 11  imdb_score            5129 non-null   float64\n",
      " 12  imdb_votes            5129 non-null   float64\n",
      " 13  tmdb_popularity       5129 non-null   float64\n",
      " 14  tmdb_score            5129 non-null   float64\n",
      "dtypes: float64(5), int64(2), object(8)\n",
      "memory usage: 641.1+ KB\n"
     ]
    }
   ],
   "source": [
    "# imdb id, imdb score, imdb votes, tmdb votes, tmdb popularity\n",
    "# for these three columns, the missing value caused because the data was not collected well from external web (either imdb or tmdb). Because the row where the data is missing is low, the data where these three missing value will be removed \n",
    "df = df.dropna(subset = ['imdb_votes', 'tmdb_popularity', 'imdb_id', 'imdb_score', 'tmdb_score'])\n",
    "\n",
    "# check the data again\n",
    "df.info()"
   ]
  },
  {
   "cell_type": "markdown",
   "metadata": {},
   "source": [
    "Some data type need to be casted"
   ]
  },
  {
   "cell_type": "code",
   "execution_count": 19,
   "metadata": {},
   "outputs": [],
   "source": [
    "# cast title and description data type into string \n",
    "df[['title', 'description']] = df[['title', 'description']].astype('str')\n",
    "\n",
    "# cast seasons and id data type into integer \n",
    "df['seasons'] = df['seasons'].astype('int')"
   ]
  },
  {
   "cell_type": "code",
   "execution_count": 52,
   "metadata": {},
   "outputs": [
    {
     "data": {
      "text/html": [
       "<div>\n",
       "<style scoped>\n",
       "    .dataframe tbody tr th:only-of-type {\n",
       "        vertical-align: middle;\n",
       "    }\n",
       "\n",
       "    .dataframe tbody tr th {\n",
       "        vertical-align: top;\n",
       "    }\n",
       "\n",
       "    .dataframe thead th {\n",
       "        text-align: right;\n",
       "    }\n",
       "</style>\n",
       "<table border=\"1\" class=\"dataframe\">\n",
       "  <thead>\n",
       "    <tr style=\"text-align: right;\">\n",
       "      <th></th>\n",
       "      <th>id</th>\n",
       "      <th>title</th>\n",
       "      <th>type</th>\n",
       "      <th>description</th>\n",
       "      <th>release_year</th>\n",
       "      <th>age_certification</th>\n",
       "      <th>runtime</th>\n",
       "      <th>genres</th>\n",
       "      <th>production_countries</th>\n",
       "      <th>seasons</th>\n",
       "      <th>imdb_id</th>\n",
       "      <th>imdb_score</th>\n",
       "      <th>imdb_votes</th>\n",
       "      <th>tmdb_popularity</th>\n",
       "      <th>tmdb_score</th>\n",
       "    </tr>\n",
       "  </thead>\n",
       "  <tbody>\n",
       "    <tr>\n",
       "      <th>1</th>\n",
       "      <td>tm84618</td>\n",
       "      <td>Taxi Driver</td>\n",
       "      <td>MOVIE</td>\n",
       "      <td>A mentally unstable Vietnam War veteran works as a night-time taxi driver in New York City where the perceived decadence and sleaze feed his urge for violent action.</td>\n",
       "      <td>1976</td>\n",
       "      <td>R</td>\n",
       "      <td>114</td>\n",
       "      <td>['drama', 'crime']</td>\n",
       "      <td>['US']</td>\n",
       "      <td>0</td>\n",
       "      <td>tt0075314</td>\n",
       "      <td>8.2</td>\n",
       "      <td>808582.0</td>\n",
       "      <td>40.965</td>\n",
       "      <td>8.179</td>\n",
       "    </tr>\n",
       "    <tr>\n",
       "      <th>2</th>\n",
       "      <td>tm154986</td>\n",
       "      <td>Deliverance</td>\n",
       "      <td>MOVIE</td>\n",
       "      <td>Intent on seeing the Cahulawassee River before it's turned into one huge lake, outdoor fanatic Lewis Medlock takes his friends on a river-rafting trip they'll never forget into the dangerous American back-country.</td>\n",
       "      <td>1972</td>\n",
       "      <td>R</td>\n",
       "      <td>109</td>\n",
       "      <td>['drama', 'action', 'thriller', 'european']</td>\n",
       "      <td>['US']</td>\n",
       "      <td>0</td>\n",
       "      <td>tt0068473</td>\n",
       "      <td>7.7</td>\n",
       "      <td>107673.0</td>\n",
       "      <td>10.010</td>\n",
       "      <td>7.300</td>\n",
       "    </tr>\n",
       "    <tr>\n",
       "      <th>3</th>\n",
       "      <td>tm127384</td>\n",
       "      <td>Monty Python and the Holy Grail</td>\n",
       "      <td>MOVIE</td>\n",
       "      <td>King Arthur, accompanied by his squire, recruits his Knights of the Round Table, including Sir Bedevere the Wise, Sir Lancelot the Brave, Sir Robin the Not-Quite-So-Brave-As-Sir-Lancelot and Sir Galahad the Pure. On the way, Arthur battles the Black Knight who, despite having had all his limbs chopped off, insists he can still fight. They reach Camelot, but Arthur decides not  to enter, as \"it is a silly place\".</td>\n",
       "      <td>1975</td>\n",
       "      <td>PG</td>\n",
       "      <td>91</td>\n",
       "      <td>['fantasy', 'action', 'comedy']</td>\n",
       "      <td>['GB']</td>\n",
       "      <td>0</td>\n",
       "      <td>tt0071853</td>\n",
       "      <td>8.2</td>\n",
       "      <td>534486.0</td>\n",
       "      <td>15.461</td>\n",
       "      <td>7.811</td>\n",
       "    </tr>\n",
       "    <tr>\n",
       "      <th>4</th>\n",
       "      <td>tm120801</td>\n",
       "      <td>The Dirty Dozen</td>\n",
       "      <td>MOVIE</td>\n",
       "      <td>12 American military prisoners in World War II are ordered to infiltrate a well-guarded enemy château and kill the Nazi officers vacationing there. The soldiers, most of whom are facing death sentences for a variety of violent crimes, agree to the mission and the possible commuting of their sentences.</td>\n",
       "      <td>1967</td>\n",
       "      <td>No_age_certification</td>\n",
       "      <td>150</td>\n",
       "      <td>['war', 'action']</td>\n",
       "      <td>['GB', 'US']</td>\n",
       "      <td>0</td>\n",
       "      <td>tt0061578</td>\n",
       "      <td>7.7</td>\n",
       "      <td>72662.0</td>\n",
       "      <td>20.398</td>\n",
       "      <td>7.600</td>\n",
       "    </tr>\n",
       "    <tr>\n",
       "      <th>5</th>\n",
       "      <td>ts22164</td>\n",
       "      <td>Monty Python's Flying Circus</td>\n",
       "      <td>SHOW</td>\n",
       "      <td>A British sketch comedy series with the shows being composed of surreality, risqué or innuendo-laden humour, sight gags and observational sketches without punchlines.</td>\n",
       "      <td>1969</td>\n",
       "      <td>TV-14</td>\n",
       "      <td>30</td>\n",
       "      <td>['comedy', 'european']</td>\n",
       "      <td>['GB']</td>\n",
       "      <td>4</td>\n",
       "      <td>tt0063929</td>\n",
       "      <td>8.8</td>\n",
       "      <td>73424.0</td>\n",
       "      <td>17.617</td>\n",
       "      <td>8.306</td>\n",
       "    </tr>\n",
       "  </tbody>\n",
       "</table>\n",
       "</div>"
      ],
      "text/plain": [
       "         id                            title   type  \\\n",
       "1   tm84618                      Taxi Driver  MOVIE   \n",
       "2  tm154986                      Deliverance  MOVIE   \n",
       "3  tm127384  Monty Python and the Holy Grail  MOVIE   \n",
       "4  tm120801                  The Dirty Dozen  MOVIE   \n",
       "5   ts22164     Monty Python's Flying Circus   SHOW   \n",
       "\n",
       "                                                                                                                                                                                                                                                                                                                                                                                                                       description  \\\n",
       "1                                                                                                                                                                                                                                                            A mentally unstable Vietnam War veteran works as a night-time taxi driver in New York City where the perceived decadence and sleaze feed his urge for violent action.   \n",
       "2                                                                                                                                                                                                            Intent on seeing the Cahulawassee River before it's turned into one huge lake, outdoor fanatic Lewis Medlock takes his friends on a river-rafting trip they'll never forget into the dangerous American back-country.   \n",
       "3  King Arthur, accompanied by his squire, recruits his Knights of the Round Table, including Sir Bedevere the Wise, Sir Lancelot the Brave, Sir Robin the Not-Quite-So-Brave-As-Sir-Lancelot and Sir Galahad the Pure. On the way, Arthur battles the Black Knight who, despite having had all his limbs chopped off, insists he can still fight. They reach Camelot, but Arthur decides not  to enter, as \"it is a silly place\".   \n",
       "4                                                                                                                   12 American military prisoners in World War II are ordered to infiltrate a well-guarded enemy château and kill the Nazi officers vacationing there. The soldiers, most of whom are facing death sentences for a variety of violent crimes, agree to the mission and the possible commuting of their sentences.   \n",
       "5                                                                                                                                                                                                                                                           A British sketch comedy series with the shows being composed of surreality, risqué or innuendo-laden humour, sight gags and observational sketches without punchlines.   \n",
       "\n",
       "   release_year     age_certification  runtime  \\\n",
       "1          1976                     R      114   \n",
       "2          1972                     R      109   \n",
       "3          1975                    PG       91   \n",
       "4          1967  No_age_certification      150   \n",
       "5          1969                 TV-14       30   \n",
       "\n",
       "                                        genres production_countries  seasons  \\\n",
       "1                           ['drama', 'crime']               ['US']        0   \n",
       "2  ['drama', 'action', 'thriller', 'european']               ['US']        0   \n",
       "3              ['fantasy', 'action', 'comedy']               ['GB']        0   \n",
       "4                            ['war', 'action']         ['GB', 'US']        0   \n",
       "5                       ['comedy', 'european']               ['GB']        4   \n",
       "\n",
       "     imdb_id  imdb_score  imdb_votes  tmdb_popularity  tmdb_score  \n",
       "1  tt0075314         8.2    808582.0           40.965       8.179  \n",
       "2  tt0068473         7.7    107673.0           10.010       7.300  \n",
       "3  tt0071853         8.2    534486.0           15.461       7.811  \n",
       "4  tt0061578         7.7     72662.0           20.398       7.600  \n",
       "5  tt0063929         8.8     73424.0           17.617       8.306  "
      ]
     },
     "execution_count": 52,
     "metadata": {},
     "output_type": "execute_result"
    }
   ],
   "source": [
    "df.head()"
   ]
  },
  {
   "cell_type": "markdown",
   "metadata": {},
   "source": [
    "Data has been cleaned. Next step is EDA. Before that, the new data will be saved into directory"
   ]
  },
  {
   "cell_type": "code",
   "execution_count": 56,
   "metadata": {},
   "outputs": [],
   "source": [
    "#save new file to a csv file\n",
    "#df.to_csv(r\"C:/Personal/DA DS/DS Project/Capstone_project_tetris-main/netlix_data.csv\", index=False)"
   ]
  },
  {
   "cell_type": "code",
   "execution_count": 57,
   "metadata": {},
   "outputs": [
    {
     "data": {
      "text/html": [
       "<div>\n",
       "<style scoped>\n",
       "    .dataframe tbody tr th:only-of-type {\n",
       "        vertical-align: middle;\n",
       "    }\n",
       "\n",
       "    .dataframe tbody tr th {\n",
       "        vertical-align: top;\n",
       "    }\n",
       "\n",
       "    .dataframe thead th {\n",
       "        text-align: right;\n",
       "    }\n",
       "</style>\n",
       "<table border=\"1\" class=\"dataframe\">\n",
       "  <thead>\n",
       "    <tr style=\"text-align: right;\">\n",
       "      <th></th>\n",
       "      <th>id</th>\n",
       "      <th>title</th>\n",
       "      <th>type</th>\n",
       "      <th>description</th>\n",
       "      <th>release_year</th>\n",
       "      <th>age_certification</th>\n",
       "      <th>runtime</th>\n",
       "      <th>genres</th>\n",
       "      <th>production_countries</th>\n",
       "      <th>seasons</th>\n",
       "      <th>imdb_id</th>\n",
       "      <th>imdb_score</th>\n",
       "      <th>imdb_votes</th>\n",
       "      <th>tmdb_popularity</th>\n",
       "      <th>tmdb_score</th>\n",
       "    </tr>\n",
       "  </thead>\n",
       "  <tbody>\n",
       "    <tr>\n",
       "      <th>0</th>\n",
       "      <td>tm84618</td>\n",
       "      <td>Taxi Driver</td>\n",
       "      <td>MOVIE</td>\n",
       "      <td>A mentally unstable Vietnam War veteran works as a night-time taxi driver in New York City where the perceived decadence and sleaze feed his urge for violent action.</td>\n",
       "      <td>1976</td>\n",
       "      <td>R</td>\n",
       "      <td>114</td>\n",
       "      <td>['drama', 'crime']</td>\n",
       "      <td>['US']</td>\n",
       "      <td>0</td>\n",
       "      <td>tt0075314</td>\n",
       "      <td>8.2</td>\n",
       "      <td>808582.0</td>\n",
       "      <td>40.965</td>\n",
       "      <td>8.179</td>\n",
       "    </tr>\n",
       "    <tr>\n",
       "      <th>1</th>\n",
       "      <td>tm154986</td>\n",
       "      <td>Deliverance</td>\n",
       "      <td>MOVIE</td>\n",
       "      <td>Intent on seeing the Cahulawassee River before it's turned into one huge lake, outdoor fanatic Lewis Medlock takes his friends on a river-rafting trip they'll never forget into the dangerous American back-country.</td>\n",
       "      <td>1972</td>\n",
       "      <td>R</td>\n",
       "      <td>109</td>\n",
       "      <td>['drama', 'action', 'thriller', 'european']</td>\n",
       "      <td>['US']</td>\n",
       "      <td>0</td>\n",
       "      <td>tt0068473</td>\n",
       "      <td>7.7</td>\n",
       "      <td>107673.0</td>\n",
       "      <td>10.010</td>\n",
       "      <td>7.300</td>\n",
       "    </tr>\n",
       "    <tr>\n",
       "      <th>2</th>\n",
       "      <td>tm127384</td>\n",
       "      <td>Monty Python and the Holy Grail</td>\n",
       "      <td>MOVIE</td>\n",
       "      <td>King Arthur, accompanied by his squire, recruits his Knights of the Round Table, including Sir Bedevere the Wise, Sir Lancelot the Brave, Sir Robin the Not-Quite-So-Brave-As-Sir-Lancelot and Sir Galahad the Pure. On the way, Arthur battles the Black Knight who, despite having had all his limbs chopped off, insists he can still fight. They reach Camelot, but Arthur decides not  to enter, as \"it is a silly place\".</td>\n",
       "      <td>1975</td>\n",
       "      <td>PG</td>\n",
       "      <td>91</td>\n",
       "      <td>['fantasy', 'action', 'comedy']</td>\n",
       "      <td>['GB']</td>\n",
       "      <td>0</td>\n",
       "      <td>tt0071853</td>\n",
       "      <td>8.2</td>\n",
       "      <td>534486.0</td>\n",
       "      <td>15.461</td>\n",
       "      <td>7.811</td>\n",
       "    </tr>\n",
       "    <tr>\n",
       "      <th>3</th>\n",
       "      <td>tm120801</td>\n",
       "      <td>The Dirty Dozen</td>\n",
       "      <td>MOVIE</td>\n",
       "      <td>12 American military prisoners in World War II are ordered to infiltrate a well-guarded enemy château and kill the Nazi officers vacationing there. The soldiers, most of whom are facing death sentences for a variety of violent crimes, agree to the mission and the possible commuting of their sentences.</td>\n",
       "      <td>1967</td>\n",
       "      <td>No_age_certification</td>\n",
       "      <td>150</td>\n",
       "      <td>['war', 'action']</td>\n",
       "      <td>['GB', 'US']</td>\n",
       "      <td>0</td>\n",
       "      <td>tt0061578</td>\n",
       "      <td>7.7</td>\n",
       "      <td>72662.0</td>\n",
       "      <td>20.398</td>\n",
       "      <td>7.600</td>\n",
       "    </tr>\n",
       "    <tr>\n",
       "      <th>4</th>\n",
       "      <td>ts22164</td>\n",
       "      <td>Monty Python's Flying Circus</td>\n",
       "      <td>SHOW</td>\n",
       "      <td>A British sketch comedy series with the shows being composed of surreality, risqué or innuendo-laden humour, sight gags and observational sketches without punchlines.</td>\n",
       "      <td>1969</td>\n",
       "      <td>TV-14</td>\n",
       "      <td>30</td>\n",
       "      <td>['comedy', 'european']</td>\n",
       "      <td>['GB']</td>\n",
       "      <td>4</td>\n",
       "      <td>tt0063929</td>\n",
       "      <td>8.8</td>\n",
       "      <td>73424.0</td>\n",
       "      <td>17.617</td>\n",
       "      <td>8.306</td>\n",
       "    </tr>\n",
       "  </tbody>\n",
       "</table>\n",
       "</div>"
      ],
      "text/plain": [
       "         id                            title   type  \\\n",
       "0   tm84618                      Taxi Driver  MOVIE   \n",
       "1  tm154986                      Deliverance  MOVIE   \n",
       "2  tm127384  Monty Python and the Holy Grail  MOVIE   \n",
       "3  tm120801                  The Dirty Dozen  MOVIE   \n",
       "4   ts22164     Monty Python's Flying Circus   SHOW   \n",
       "\n",
       "                                                                                                                                                                                                                                                                                                                                                                                                                       description  \\\n",
       "0                                                                                                                                                                                                                                                            A mentally unstable Vietnam War veteran works as a night-time taxi driver in New York City where the perceived decadence and sleaze feed his urge for violent action.   \n",
       "1                                                                                                                                                                                                            Intent on seeing the Cahulawassee River before it's turned into one huge lake, outdoor fanatic Lewis Medlock takes his friends on a river-rafting trip they'll never forget into the dangerous American back-country.   \n",
       "2  King Arthur, accompanied by his squire, recruits his Knights of the Round Table, including Sir Bedevere the Wise, Sir Lancelot the Brave, Sir Robin the Not-Quite-So-Brave-As-Sir-Lancelot and Sir Galahad the Pure. On the way, Arthur battles the Black Knight who, despite having had all his limbs chopped off, insists he can still fight. They reach Camelot, but Arthur decides not  to enter, as \"it is a silly place\".   \n",
       "3                                                                                                                   12 American military prisoners in World War II are ordered to infiltrate a well-guarded enemy château and kill the Nazi officers vacationing there. The soldiers, most of whom are facing death sentences for a variety of violent crimes, agree to the mission and the possible commuting of their sentences.   \n",
       "4                                                                                                                                                                                                                                                           A British sketch comedy series with the shows being composed of surreality, risqué or innuendo-laden humour, sight gags and observational sketches without punchlines.   \n",
       "\n",
       "   release_year     age_certification  runtime  \\\n",
       "0          1976                     R      114   \n",
       "1          1972                     R      109   \n",
       "2          1975                    PG       91   \n",
       "3          1967  No_age_certification      150   \n",
       "4          1969                 TV-14       30   \n",
       "\n",
       "                                        genres production_countries  seasons  \\\n",
       "0                           ['drama', 'crime']               ['US']        0   \n",
       "1  ['drama', 'action', 'thriller', 'european']               ['US']        0   \n",
       "2              ['fantasy', 'action', 'comedy']               ['GB']        0   \n",
       "3                            ['war', 'action']         ['GB', 'US']        0   \n",
       "4                       ['comedy', 'european']               ['GB']        4   \n",
       "\n",
       "     imdb_id  imdb_score  imdb_votes  tmdb_popularity  tmdb_score  \n",
       "0  tt0075314         8.2    808582.0           40.965       8.179  \n",
       "1  tt0068473         7.7    107673.0           10.010       7.300  \n",
       "2  tt0071853         8.2    534486.0           15.461       7.811  \n",
       "3  tt0061578         7.7     72662.0           20.398       7.600  \n",
       "4  tt0063929         8.8     73424.0           17.617       8.306  "
      ]
     },
     "execution_count": 57,
     "metadata": {},
     "output_type": "execute_result"
    }
   ],
   "source": [
    "test_written_data = pd.read_csv(\"C:/Personal/DA DS/DS Project/Capstone_project_tetris-main/netlix_data.csv\")\n",
    "test_written_data.head()"
   ]
  },
  {
   "cell_type": "markdown",
   "metadata": {},
   "source": [
    "Data has been saved"
   ]
  },
  {
   "cell_type": "markdown",
   "metadata": {},
   "source": [
    "# Exploratory Data Analysis"
   ]
  },
  {
   "cell_type": "code",
   "execution_count": 21,
   "metadata": {},
   "outputs": [
    {
     "data": {
      "text/plain": [
       "title\n",
       "The Gift                              3\n",
       "Taxi Driver                           2\n",
       "Monster                               2\n",
       "Skylines                              2\n",
       "The Motive                            2\n",
       "                                     ..\n",
       "Insatiable                            1\n",
       "Better Than Us                        1\n",
       "Falls Around Her                      1\n",
       "22 July                               1\n",
       "Mighty Little Bheem: Kite Festival    1\n",
       "Name: count, Length: 5088, dtype: int64"
      ]
     },
     "execution_count": 21,
     "metadata": {},
     "output_type": "execute_result"
    }
   ],
   "source": [
    "# Title\n",
    "df['title'].value_counts()"
   ]
  },
  {
   "cell_type": "markdown",
   "metadata": {},
   "source": [
    "Some title appears more than once which means there are more than 1 movie with the same title"
   ]
  },
  {
   "cell_type": "code",
   "execution_count": 22,
   "metadata": {},
   "outputs": [
    {
     "data": {
      "image/png": "[encoded data removed]",
      "text/plain": [
       "<Figure size 640x480 with 1 Axes>"
      ]
     },
     "metadata": {},
     "output_type": "display_data"
    }
   ],
   "source": [
    "# Type of show\n",
    "sns.countplot(data=df, x=\"type\", color=\"red\", width=.5).set(title=\"How many movie and tv show in the data?\")\n",
    "plt.show()"
   ]
  },
  {
   "cell_type": "markdown",
   "metadata": {},
   "source": [
    "The content of the netflix dominated by movie"
   ]
  },
  {
   "cell_type": "markdown",
   "metadata": {},
   "source": [
    "Release year"
   ]
  },
  {
   "cell_type": "code",
   "execution_count": 23,
   "metadata": {},
   "outputs": [
    {
     "data": {
      "image/png": "[encoded data removed]",
      "text/plain": [
       "<Figure size 640x480 with 1 Axes>"
      ]
     },
     "metadata": {},
     "output_type": "display_data"
    }
   ],
   "source": [
    "# release year\n",
    "release_year_df = df[\"release_year\"].value_counts().reset_index()\n",
    "sns.lineplot(data = release_year_df, x = 'release_year', y='count', color = 'red').set(title=\"Content released per year\")\n",
    "plt.xticks(rotation=45)\n",
    "plt.ylim([0, max(release_year_df['count'])])\n",
    "plt.show()"
   ]
  },
  {
   "cell_type": "markdown",
   "metadata": {},
   "source": [
    "As we see the total number of content released is linear from 1950s until beginning of 2000 and the growth become exponential and reached the peak in 2020"
   ]
  },
  {
   "cell_type": "markdown",
   "metadata": {},
   "source": [
    "Age certification"
   ]
  },
  {
   "cell_type": "code",
   "execution_count": 24,
   "metadata": {},
   "outputs": [
    {
     "data": {
      "application/vnd.plotly.v1+json": {
       "config": {
        "plotlyServerURL": "https://plot.ly"
       },
       "data": [
        {
         "hoverinfo": "label",
         "labels": [
          "R",
          "PG",
          "No_age_certification",
          "TV-14",
          "PG-13",
          "TV-MA",
          "TV-PG",
          "TV-Y",
          "TV-G",
          "TV-Y7",
          "G",
          "NC-17"
         ],
         "textinfo": "percent",
         "type": "pie",
         "values": [
          2189,
          822,
          526,
          425,
          417,
          219,
          161,
          106,
          88,
          87,
          74,
          15
         ]
        }
       ],
       "layout": {
        "template": {
         "data": {
          "bar": [
           {
            "error_x": {
             "color": "#2a3f5f"
            },
            "error_y": {
             "color": "#2a3f5f"
            },
            "marker": {
             "line": {
              "color": "#E5ECF6",
              "width": 0.5
             },
             "pattern": {
              "fillmode": "overlay",
              "size": 10,
              "solidity": 0.2
             }
            },
            "type": "bar"
           }
          ],
          "barpolar": [
           {
            "marker": {
             "line": {
              "color": "#E5ECF6",
              "width": 0.5
             },
             "pattern": {
              "fillmode": "overlay",
              "size": 10,
              "solidity": 0.2
             }
            },
            "type": "barpolar"
           }
          ],
          "carpet": [
           {
            "aaxis": {
             "endlinecolor": "#2a3f5f",
             "gridcolor": "white",
             "linecolor": "white",
             "minorgridcolor": "white",
             "startlinecolor": "#2a3f5f"
            },
            "baxis": {
             "endlinecolor": "#2a3f5f",
             "gridcolor": "white",
             "linecolor": "white",
             "minorgridcolor": "white",
             "startlinecolor": "#2a3f5f"
            },
            "type": "carpet"
           }
          ],
          "choropleth": [
           {
            "colorbar": {
             "outlinewidth": 0,
             "ticks": ""
            },
            "type": "choropleth"
           }
          ],
          "contour": [
           {
            "colorbar": {
             "outlinewidth": 0,
             "ticks": ""
            },
            "colorscale": [
             [
              0,
              "#0d0887"
             ],
             [
              0.1111111111111111,
              "#46039f"
             ],
             [
              0.2222222222222222,
              "#7201a8"
             ],
             [
              0.3333333333333333,
              "#9c179e"
             ],
             [
              0.4444444444444444,
              "#bd3786"
             ],
             [
              0.5555555555555556,
              "#d8576b"
             ],
             [
              0.6666666666666666,
              "#ed7953"
             ],
             [
              0.7777777777777778,
              "#fb9f3a"
             ],
             [
              0.8888888888888888,
              "#fdca26"
             ],
             [
              1,
              "#f0f921"
             ]
            ],
            "type": "contour"
           }
          ],
          "contourcarpet": [
           {
            "colorbar": {
             "outlinewidth": 0,
             "ticks": ""
            },
            "type": "contourcarpet"
           }
          ],
          "heatmap": [
           {
            "colorbar": {
             "outlinewidth": 0,
             "ticks": ""
            },
            "colorscale": [
             [
              0,
              "#0d0887"
             ],
             [
              0.1111111111111111,
              "#46039f"
             ],
             [
              0.2222222222222222,
              "#7201a8"
             ],
             [
              0.3333333333333333,
              "#9c179e"
             ],
             [
              0.4444444444444444,
              "#bd3786"
             ],
             [
              0.5555555555555556,
              "#d8576b"
             ],
             [
              0.6666666666666666,
              "#ed7953"
             ],
             [
              0.7777777777777778,
              "#fb9f3a"
             ],
             [
              0.8888888888888888,
              "#fdca26"
             ],
             [
              1,
              "#f0f921"
             ]
            ],
            "type": "heatmap"
           }
          ],
          "heatmapgl": [
           {
            "colorbar": {
             "outlinewidth": 0,
             "ticks": ""
            },
            "colorscale": [
             [
              0,
              "#0d0887"
             ],
             [
              0.1111111111111111,
              "#46039f"
             ],
             [
              0.2222222222222222,
              "#7201a8"
             ],
             [
              0.3333333333333333,
              "#9c179e"
             ],
             [
              0.4444444444444444,
              "#bd3786"
             ],
             [
              0.5555555555555556,
              "#d8576b"
             ],
             [
              0.6666666666666666,
              "#ed7953"
             ],
             [
              0.7777777777777778,
              "#fb9f3a"
             ],
             [
              0.8888888888888888,
              "#fdca26"
             ],
             [
              1,
              "#f0f921"
             ]
            ],
            "type": "heatmapgl"
           }
          ],
          "histogram": [
           {
            "marker": {
             "pattern": {
              "fillmode": "overlay",
              "size": 10,
              "solidity": 0.2
             }
            },
            "type": "histogram"
           }
          ],
          "histogram2d": [
           {
            "colorbar": {
             "outlinewidth": 0,
             "ticks": ""
            },
            "colorscale": [
             [
              0,
              "#0d0887"
             ],
             [
              0.1111111111111111,
              "#46039f"
             ],
             [
              0.2222222222222222,
              "#7201a8"
             ],
             [
              0.3333333333333333,
              "#9c179e"
             ],
             [
              0.4444444444444444,
              "#bd3786"
             ],
             [
              0.5555555555555556,
              "#d8576b"
             ],
             [
              0.6666666666666666,
              "#ed7953"
             ],
             [
              0.7777777777777778,
              "#fb9f3a"
             ],
             [
              0.8888888888888888,
              "#fdca26"
             ],
             [
              1,
              "#f0f921"
             ]
            ],
            "type": "histogram2d"
           }
          ],
          "histogram2dcontour": [
           {
            "colorbar": {
             "outlinewidth": 0,
             "ticks": ""
            },
            "colorscale": [
             [
              0,
              "#0d0887"
             ],
             [
              0.1111111111111111,
              "#46039f"
             ],
             [
              0.2222222222222222,
              "#7201a8"
             ],
             [
              0.3333333333333333,
              "#9c179e"
             ],
             [
              0.4444444444444444,
              "#bd3786"
             ],
             [
              0.5555555555555556,
              "#d8576b"
             ],
             [
              0.6666666666666666,
              "#ed7953"
             ],
             [
              0.7777777777777778,
              "#fb9f3a"
             ],
             [
              0.8888888888888888,
              "#fdca26"
             ],
             [
              1,
              "#f0f921"
             ]
            ],
            "type": "histogram2dcontour"
           }
          ],
          "mesh3d": [
           {
            "colorbar": {
             "outlinewidth": 0,
             "ticks": ""
            },
            "type": "mesh3d"
           }
          ],
          "parcoords": [
           {
            "line": {
             "colorbar": {
              "outlinewidth": 0,
              "ticks": ""
             }
            },
            "type": "parcoords"
           }
          ],
          "pie": [
           {
            "automargin": true,
            "type": "pie"
           }
          ],
          "scatter": [
           {
            "fillpattern": {
             "fillmode": "overlay",
             "size": 10,
             "solidity": 0.2
            },
            "type": "scatter"
           }
          ],
          "scatter3d": [
           {
            "line": {
             "colorbar": {
              "outlinewidth": 0,
              "ticks": ""
             }
            },
            "marker": {
             "colorbar": {
              "outlinewidth": 0,
              "ticks": ""
             }
            },
            "type": "scatter3d"
           }
          ],
          "scattercarpet": [
           {
            "marker": {
             "colorbar": {
              "outlinewidth": 0,
              "ticks": ""
             }
            },
            "type": "scattercarpet"
           }
          ],
          "scattergeo": [
           {
            "marker": {
             "colorbar": {
              "outlinewidth": 0,
              "ticks": ""
             }
            },
            "type": "scattergeo"
           }
          ],
          "scattergl": [
           {
            "marker": {
             "colorbar": {
              "outlinewidth": 0,
              "ticks": ""
             }
            },
            "type": "scattergl"
           }
          ],
          "scattermapbox": [
           {
            "marker": {
             "colorbar": {
              "outlinewidth": 0,
              "ticks": ""
             }
            },
            "type": "scattermapbox"
           }
          ],
          "scatterpolar": [
           {
            "marker": {
             "colorbar": {
              "outlinewidth": 0,
              "ticks": ""
             }
            },
            "type": "scatterpolar"
           }
          ],
          "scatterpolargl": [
           {
            "marker": {
             "colorbar": {
              "outlinewidth": 0,
              "ticks": ""
             }
            },
            "type": "scatterpolargl"
           }
          ],
          "scatterternary": [
           {
            "marker": {
             "colorbar": {
              "outlinewidth": 0,
              "ticks": ""
             }
            },
            "type": "scatterternary"
           }
          ],
          "surface": [
           {
            "colorbar": {
             "outlinewidth": 0,
             "ticks": ""
            },
            "colorscale": [
             [
              0,
              "#0d0887"
             ],
             [
              0.1111111111111111,
              "#46039f"
             ],
             [
              0.2222222222222222,
              "#7201a8"
             ],
             [
              0.3333333333333333,
              "#9c179e"
             ],
             [
              0.4444444444444444,
              "#bd3786"
             ],
             [
              0.5555555555555556,
              "#d8576b"
             ],
             [
              0.6666666666666666,
              "#ed7953"
             ],
             [
              0.7777777777777778,
              "#fb9f3a"
             ],
             [
              0.8888888888888888,
              "#fdca26"
             ],
             [
              1,
              "#f0f921"
             ]
            ],
            "type": "surface"
           }
          ],
          "table": [
           {
            "cells": {
             "fill": {
              "color": "#EBF0F8"
             },
             "line": {
              "color": "white"
             }
            },
            "header": {
             "fill": {
              "color": "#C8D4E3"
             },
             "line": {
              "color": "white"
             }
            },
            "type": "table"
           }
          ]
         },
         "layout": {
          "annotationdefaults": {
           "arrowcolor": "#2a3f5f",
           "arrowhead": 0,
           "arrowwidth": 1
          },
          "autotypenumbers": "strict",
          "coloraxis": {
           "colorbar": {
            "outlinewidth": 0,
            "ticks": ""
           }
          },
          "colorscale": {
           "diverging": [
            [
             0,
             "#8e0152"
            ],
            [
             0.1,
             "#c51b7d"
            ],
            [
             0.2,
             "#de77ae"
            ],
            [
             0.3,
             "#f1b6da"
            ],
            [
             0.4,
             "#fde0ef"
            ],
            [
             0.5,
             "#f7f7f7"
            ],
            [
             0.6,
             "#e6f5d0"
            ],
            [
             0.7,
             "#b8e186"
            ],
            [
             0.8,
             "#7fbc41"
            ],
            [
             0.9,
             "#4d9221"
            ],
            [
             1,
             "#276419"
            ]
           ],
           "sequential": [
            [
             0,
             "#0d0887"
            ],
            [
             0.1111111111111111,
             "#46039f"
            ],
            [
             0.2222222222222222,
             "#7201a8"
            ],
            [
             0.3333333333333333,
             "#9c179e"
            ],
            [
             0.4444444444444444,
             "#bd3786"
            ],
            [
             0.5555555555555556,
             "#d8576b"
            ],
            [
             0.6666666666666666,
             "#ed7953"
            ],
            [
             0.7777777777777778,
             "#fb9f3a"
            ],
            [
             0.8888888888888888,
             "#fdca26"
            ],
            [
             1,
             "#f0f921"
            ]
           ],
           "sequentialminus": [
            [
             0,
             "#0d0887"
            ],
            [
             0.1111111111111111,
             "#46039f"
            ],
            [
             0.2222222222222222,
             "#7201a8"
            ],
            [
             0.3333333333333333,
             "#9c179e"
            ],
            [
             0.4444444444444444,
             "#bd3786"
            ],
            [
             0.5555555555555556,
             "#d8576b"
            ],
            [
             0.6666666666666666,
             "#ed7953"
            ],
            [
             0.7777777777777778,
             "#fb9f3a"
            ],
            [
             0.8888888888888888,
             "#fdca26"
            ],
            [
             1,
             "#f0f921"
            ]
           ]
          },
          "colorway": [
           "#636efa",
           "#EF553B",
           "#00cc96",
           "#ab63fa",
           "#FFA15A",
           "#19d3f3",
           "#FF6692",
           "#B6E880",
           "#FF97FF",
           "#FECB52"
          ],
          "font": {
           "color": "#2a3f5f"
          },
          "geo": {
           "bgcolor": "white",
           "lakecolor": "white",
           "landcolor": "#E5ECF6",
           "showlakes": true,
           "showland": true,
           "subunitcolor": "white"
          },
          "hoverlabel": {
           "align": "left"
          },
          "hovermode": "closest",
          "mapbox": {
           "style": "light"
          },
          "paper_bgcolor": "white",
          "plot_bgcolor": "#E5ECF6",
          "polar": {
           "angularaxis": {
            "gridcolor": "white",
            "linecolor": "white",
            "ticks": ""
           },
           "bgcolor": "#E5ECF6",
           "radialaxis": {
            "gridcolor": "white",
            "linecolor": "white",
            "ticks": ""
           }
          },
          "scene": {
           "xaxis": {
            "backgroundcolor": "#E5ECF6",
            "gridcolor": "white",
            "gridwidth": 2,
            "linecolor": "white",
            "showbackground": true,
            "ticks": "",
            "zerolinecolor": "white"
           },
           "yaxis": {
            "backgroundcolor": "#E5ECF6",
            "gridcolor": "white",
            "gridwidth": 2,
            "linecolor": "white",
            "showbackground": true,
            "ticks": "",
            "zerolinecolor": "white"
           },
           "zaxis": {
            "backgroundcolor": "#E5ECF6",
            "gridcolor": "white",
            "gridwidth": 2,
            "linecolor": "white",
            "showbackground": true,
            "ticks": "",
            "zerolinecolor": "white"
           }
          },
          "shapedefaults": {
           "line": {
            "color": "#2a3f5f"
           }
          },
          "ternary": {
           "aaxis": {
            "gridcolor": "white",
            "linecolor": "white",
            "ticks": ""
           },
           "baxis": {
            "gridcolor": "white",
            "linecolor": "white",
            "ticks": ""
           },
           "bgcolor": "#E5ECF6",
           "caxis": {
            "gridcolor": "white",
            "linecolor": "white",
            "ticks": ""
           }
          },
          "title": {
           "x": 0.05
          },
          "xaxis": {
           "automargin": true,
           "gridcolor": "white",
           "linecolor": "white",
           "ticks": "",
           "title": {
            "standoff": 15
           },
           "zerolinecolor": "white",
           "zerolinewidth": 2
          },
          "yaxis": {
           "automargin": true,
           "gridcolor": "white",
           "linecolor": "white",
           "ticks": "",
           "title": {
            "standoff": 15
           },
           "zerolinecolor": "white",
           "zerolinewidth": 2
          }
         }
        },
        "title": {
         "text": "Percentage of age certification",
         "x": 0.5,
         "y": 0.9
        }
       }
      }
     },
     "metadata": {},
     "output_type": "display_data"
    }
   ],
   "source": [
    "# Age certification\n",
    "fig = go.Figure(\n",
    "    go.Pie(\n",
    "    labels = df['age_certification'].unique(),\n",
    "    values = df['age_certification'].value_counts(),\n",
    "    hoverinfo = \"label\",\n",
    "    textinfo = \"percent\"\n",
    "))\n",
    "fig.update_layout(\n",
    "    title={'text': \"Percentage of age certification\",\n",
    "            'y':0.9,\n",
    "            'x':0.5})\n",
    "fig.show()"
   ]
  },
  {
   "cell_type": "markdown",
   "metadata": {},
   "source": [
    "Most of the content is rated \"R\" (Restricted)"
   ]
  },
  {
   "cell_type": "code",
   "execution_count": 25,
   "metadata": {},
   "outputs": [
    {
     "data": {
      "image/png": "[encoded data removed]",
      "text/plain": [
       "<Figure size 640x480 with 1 Axes>"
      ]
     },
     "metadata": {},
     "output_type": "display_data"
    }
   ],
   "source": [
    "# Runtime \n",
    "# movie (in minutes)\n",
    "sns.histplot(data=df, x=df.query('type == \"MOVIE\"')['runtime'], color='red')\n",
    "plt.title('Distribution of Movie Runtime')\n",
    "plt.xlabel('Minute')\n",
    "plt.xlim([0, max(df.query('type == \"MOVIE\"')['runtime'])])\n",
    "plt.show()"
   ]
  },
  {
   "cell_type": "markdown",
   "metadata": {},
   "source": [
    "From the histogram, we can see that the minutes in movie vary from 0 to more than 200 with the most quantity around 100. The distribution of movie runtime has a normal like shape"
   ]
  },
  {
   "cell_type": "code",
   "execution_count": 26,
   "metadata": {},
   "outputs": [
    {
     "data": {
      "image/png": "[encoded data removed]",
      "text/plain": [
       "<Figure size 640x480 with 1 Axes>"
      ]
     },
     "metadata": {},
     "output_type": "display_data"
    }
   ],
   "source": [
    "# series\n",
    "sns.histplot(data=df, x=df.query('type == \"SHOW\"')['runtime'], color='red')\n",
    "plt.title('Distribution of Show Runtime')\n",
    "plt.xlabel('Episode')\n",
    "plt.xlim([0, max(df.query('type == \"SHOW\"')['runtime'])])\n",
    "plt.show()"
   ]
  },
  {
   "cell_type": "markdown",
   "metadata": {},
   "source": [
    "Most of the show consists of 0-60 episodes (about 1-5 seasons in average). There are two peak point in the histogram which means the distribution of show runtime is multimodal"
   ]
  },
  {
   "cell_type": "code",
   "execution_count": 27,
   "metadata": {},
   "outputs": [
    {
     "data": {
      "image/png": "[encoded data removed]",
      "text/plain": [
       "<Figure size 640x480 with 1 Axes>"
      ]
     },
     "metadata": {},
     "output_type": "display_data"
    }
   ],
   "source": [
    "# Genre \n",
    "genre_count = df['genres'].value_counts().reset_index()\n",
    "genre_count\n",
    "\n",
    "# bar chart \n",
    "# so many genre, only genre with 100 count will appear in bar chart\n",
    "sns.barplot(data=genre_count.query('count >= 100'), y='genres', x='count', color='red').set(title=\"Top genre\")\n",
    "plt.show()"
   ]
  },
  {
   "cell_type": "markdown",
   "metadata": {},
   "source": [
    "From the bar chart, the most popular genre is comedy with more than 400 contents. Besides, some genre of the content is combination of more than 1 genre, ex : \"drama, romance\""
   ]
  },
  {
   "cell_type": "code",
   "execution_count": 28,
   "metadata": {},
   "outputs": [],
   "source": [
    "# for single genre only\n",
    "# function for extract single genre"
   ]
  },
  {
   "cell_type": "code",
   "execution_count": 29,
   "metadata": {},
   "outputs": [
    {
     "data": {
      "image/png": "[encoded data removed]",
      "text/plain": [
       "<Figure size 640x480 with 1 Axes>"
      ]
     },
     "metadata": {},
     "output_type": "display_data"
    }
   ],
   "source": [
    "# Production country\n",
    "prodcountry_count = df['production_countries'].value_counts().reset_index()\n",
    "prodcountry_count\n",
    "\n",
    "# bar chart \n",
    "# so many production country, only production country  with 100 count will appear in bar chart\n",
    "sns.barplot(data=prodcountry_count.query('count >= 100'), y='production_countries', x='count', color='red').set(title=\"Top production countries by content\")\n",
    "plt.show()\n"
   ]
  },
  {
   "cell_type": "markdown",
   "metadata": {},
   "source": [
    "There are 7 cpuntries which produce more than 100 contents. One empty array also produce more than 100 contents"
   ]
  },
  {
   "cell_type": "code",
   "execution_count": 30,
   "metadata": {},
   "outputs": [
    {
     "data": {
      "image/png": "[encoded data removed]",
      "text/plain": [
       "<Figure size 640x480 with 1 Axes>"
      ]
     },
     "metadata": {},
     "output_type": "display_data"
    }
   ],
   "source": [
    "# seasons (only for series) \n",
    "sns.histplot(data=df, x='seasons', color='red', bins=10).set(title='Distribution of seasons')\n",
    "plt.xlim([min(df['seasons']), max(df['seasons'])])\n",
    "plt.show()"
   ]
  },
  {
   "cell_type": "markdown",
   "metadata": {},
   "source": [
    "Most of the show consists of 1 to 5 seasons"
   ]
  },
  {
   "cell_type": "code",
   "execution_count": 31,
   "metadata": {},
   "outputs": [
    {
     "name": "stdout",
     "output_type": "stream",
     "text": [
      "Range of Imdb score in data : [1.6, 9.5]\n",
      "Range of Tmdb score in data : [1.0, 10.0]\n"
     ]
    }
   ],
   "source": [
    "# imdb and tmdb score\n",
    "# check min and max of imdb and tmdb score\n",
    "print(f\"Range of Imdb score in data : {[min(df['imdb_score']), max(df['imdb_score'])]}\")\n",
    "print(f\"Range of Tmdb score in data : {[min(df['tmdb_score']), max(df['tmdb_score'])]}\")"
   ]
  },
  {
   "cell_type": "markdown",
   "metadata": {},
   "source": [
    "Both of the score is in range of 1 to 10"
   ]
  },
  {
   "cell_type": "code",
   "execution_count": 32,
   "metadata": {},
   "outputs": [
    {
     "data": {
      "image/png": "[encoded data removed]",
      "text/plain": [
       "<Figure size 640x480 with 2 Axes>"
      ]
     },
     "metadata": {},
     "output_type": "display_data"
    }
   ],
   "source": [
    "# plotting the distribution\n",
    "fig, ax = plt.subplots(1, 2)\n",
    "sns.boxplot(data=df, y='imdb_score', color='red', ax=ax[0]).set(title='Tmdb score distribution')\n",
    "sns.boxplot(data=df, y='tmdb_score', color='red', ax=ax[1]).set(title='Tmdb score distribution')\n",
    "plt.tight_layout()\n",
    "plt.show()"
   ]
  },
  {
   "cell_type": "markdown",
   "metadata": {},
   "source": [
    "Both imdb and tmdb score distribution have some similarity :\n",
    "- Centered around 7 \n",
    "- Many outliers of score under 4 "
   ]
  },
  {
   "cell_type": "code",
   "execution_count": 33,
   "metadata": {},
   "outputs": [
    {
     "data": {
      "image/png": "[encoded data removed]",
      "text/plain": [
       "<Figure size 640x480 with 1 Axes>"
      ]
     },
     "metadata": {},
     "output_type": "display_data"
    }
   ],
   "source": [
    "# tmdb popularity \n",
    "sns.histplot(data=df, x='tmdb_popularity', color='red', bins=10).set(title='Distribution of popularity on Tmdb')\n",
    "plt.xlim([0, max(df['tmdb_popularity'])])\n",
    "plt.show()"
   ]
  },
  {
   "cell_type": "markdown",
   "metadata": {},
   "source": [
    "The popularity on Tmdb mostly under 500. Some are around 1000, 1500, and over 2000"
   ]
  },
  {
   "cell_type": "markdown",
   "metadata": {},
   "source": [
    "# EDA for more than one variable\n",
    "\n",
    "In this section, EDA for more than will be done to find insights from combination of two or more variables"
   ]
  },
  {
   "cell_type": "code",
   "execution_count": 34,
   "metadata": {},
   "outputs": [
    {
     "data": {
      "image/png": "[encoded data removed]",
      "text/plain": [
       "<Figure size 640x480 with 2 Axes>"
      ]
     },
     "metadata": {},
     "output_type": "display_data"
    }
   ],
   "source": [
    "# relationship between runtime in movie and imdb score and compare it with tmdb score\n",
    "fig, ax = plt.subplots(1, 2)\n",
    "sns.scatterplot(data=df.query('type == \"MOVIE\"'), x='runtime', y='imdb_score', ax=ax[0], color='red')\n",
    "ax[0].set(xlabel = 'Minute', ylabel='Imdb score')\n",
    "\n",
    "sns.scatterplot(data=df.query('type == \"MOVIE\"'), x='runtime', y='tmdb_score', ax=ax[1], color='red')\n",
    "ax[1].set(xlabel='Minute', ylabel='Imdb score') \n",
    "fig.suptitle('Runtime in Movie vs Imdb and Tmdb Score')\n",
    "plt.tight_layout()\n",
    "plt.show()"
   ]
  },
  {
   "cell_type": "markdown",
   "metadata": {},
   "source": [
    "From two scatterplot above we know that there is positive relationship between runtime in movie and imdb, tmdb score"
   ]
  },
  {
   "cell_type": "code",
   "execution_count": 35,
   "metadata": {},
   "outputs": [
    {
     "data": {
      "image/png": "[encoded data removed]",
      "text/plain": [
       "<Figure size 640x480 with 2 Axes>"
      ]
     },
     "metadata": {},
     "output_type": "display_data"
    }
   ],
   "source": [
    "# relationship between runtime in show and imdb score and compare it with tmdb score\n",
    "fig, ax = plt.subplots(1, 2)\n",
    "sns.scatterplot(data=df.query('type == \"SHOW\"'), x='runtime', y='imdb_score', ax=ax[0], color='red')\n",
    "ax[0].set(xlabel = 'Episode', ylabel='Imdb score')\n",
    "\n",
    "sns.scatterplot(data=df.query('type == \"SHOW\"'), x='runtime', y='tmdb_score', ax=ax[1], color='red')\n",
    "ax[1].set(xlabel='Episode', ylabel='Imdb score') \n",
    "fig.suptitle('Runtime in Show vs Imdb and Tmdb Score')\n",
    "plt.tight_layout()\n",
    "plt.show()"
   ]
  },
  {
   "cell_type": "markdown",
   "metadata": {},
   "source": [
    "From the scatterplots above we know that there is relationship between runtime in show and imdb, tmdb score"
   ]
  },
  {
   "cell_type": "code",
   "execution_count": 36,
   "metadata": {},
   "outputs": [
    {
     "data": {
      "image/png": "[encoded data removed]",
      "text/plain": [
       "<Figure size 640x480 with 2 Axes>"
      ]
     },
     "metadata": {},
     "output_type": "display_data"
    }
   ],
   "source": [
    "# relationship between runtime and tmdb popularity\n",
    "fig, ax = plt.subplots(1, 2)\n",
    "sns.scatterplot(data=df.query('type == \"MOVIE\"'), x='runtime', y='tmdb_popularity', ax=ax[0], color='red')\n",
    "ax[0].set(xlabel = 'Minute', ylabel='Imdb score', title=\"Runtime vs Tmdb popularity\")\n",
    "\n",
    "sns.scatterplot(data=df.query('type == \"SHOW\"'), x='runtime', y='tmdb_popularity', ax=ax[1], color='red')\n",
    "ax[1].set(xlabel='Episode', ylabel='Imdb score', title=\"Runtime vs Tmdb popularity\") \n",
    "plt.tight_layout()\n",
    "plt.show()"
   ]
  },
  {
   "cell_type": "markdown",
   "metadata": {},
   "source": [
    "From the plots above we can see that there is very weak relationship between runtime and tmdb popularity either in movie or show"
   ]
  },
  {
   "cell_type": "code",
   "execution_count": 37,
   "metadata": {},
   "outputs": [
    {
     "data": {
      "text/html": [
       "<style type=\"text/css\">\n",
       "</style>\n",
       "<table id=\"T_39713\" style='display:inline; margin-right:20px;'>\n",
       "  <thead>\n",
       "    <tr>\n",
       "      <th class=\"blank level0\" >&nbsp;</th>\n",
       "      <th id=\"T_39713_level0_col0\" class=\"col_heading level0 col0\" >title</th>\n",
       "      <th id=\"T_39713_level0_col1\" class=\"col_heading level0 col1\" >type</th>\n",
       "      <th id=\"T_39713_level0_col2\" class=\"col_heading level0 col2\" >imdb_score</th>\n",
       "    </tr>\n",
       "  </thead>\n",
       "  <tbody>\n",
       "    <tr>\n",
       "      <th id=\"T_39713_level0_row0\" class=\"row_heading level0 row0\" >216</th>\n",
       "      <td id=\"T_39713_row0_col0\" class=\"data row0 col0\" >Breaking Bad</td>\n",
       "      <td id=\"T_39713_row0_col1\" class=\"data row0 col1\" >SHOW</td>\n",
       "      <td id=\"T_39713_row0_col2\" class=\"data row0 col2\" >9.500000</td>\n",
       "    </tr>\n",
       "    <tr>\n",
       "      <th id=\"T_39713_level0_row1\" class=\"row_heading level0 row1\" >233</th>\n",
       "      <td id=\"T_39713_row1_col0\" class=\"data row1 col0\" >Avatar: The Last Airbender</td>\n",
       "      <td id=\"T_39713_row1_col1\" class=\"data row1 col1\" >SHOW</td>\n",
       "      <td id=\"T_39713_row1_col2\" class=\"data row1 col2\" >9.300000</td>\n",
       "    </tr>\n",
       "    <tr>\n",
       "      <th id=\"T_39713_level0_row2\" class=\"row_heading level0 row2\" >3147</th>\n",
       "      <td id=\"T_39713_row2_col0\" class=\"data row2 col0\" >Our Planet</td>\n",
       "      <td id=\"T_39713_row2_col1\" class=\"data row2 col1\" >SHOW</td>\n",
       "      <td id=\"T_39713_row2_col2\" class=\"data row2 col2\" >9.300000</td>\n",
       "    </tr>\n",
       "    <tr>\n",
       "      <th id=\"T_39713_level0_row3\" class=\"row_heading level0 row3\" >1258</th>\n",
       "      <td id=\"T_39713_row3_col0\" class=\"data row3 col0\" >Reply 1988</td>\n",
       "      <td id=\"T_39713_row3_col1\" class=\"data row3 col1\" >SHOW</td>\n",
       "      <td id=\"T_39713_row3_col2\" class=\"data row3 col2\" >9.200000</td>\n",
       "    </tr>\n",
       "    <tr>\n",
       "      <th id=\"T_39713_level0_row4\" class=\"row_heading level0 row4\" >3068</th>\n",
       "      <td id=\"T_39713_row4_col0\" class=\"data row4 col0\" >The Last Dance</td>\n",
       "      <td id=\"T_39713_row4_col1\" class=\"data row4 col1\" >SHOW</td>\n",
       "      <td id=\"T_39713_row4_col2\" class=\"data row4 col2\" >9.100000</td>\n",
       "    </tr>\n",
       "    <tr>\n",
       "      <th id=\"T_39713_level0_row5\" class=\"row_heading level0 row5\" >1886</th>\n",
       "      <td id=\"T_39713_row5_col0\" class=\"data row5 col0\" >My Mister</td>\n",
       "      <td id=\"T_39713_row5_col1\" class=\"data row5 col1\" >SHOW</td>\n",
       "      <td id=\"T_39713_row5_col2\" class=\"data row5 col2\" >9.100000</td>\n",
       "    </tr>\n",
       "    <tr>\n",
       "      <th id=\"T_39713_level0_row6\" class=\"row_heading level0 row6\" >4771</th>\n",
       "      <td id=\"T_39713_row6_col0\" class=\"data row6 col0\" >Major</td>\n",
       "      <td id=\"T_39713_row6_col1\" class=\"data row6 col1\" >MOVIE</td>\n",
       "      <td id=\"T_39713_row6_col2\" class=\"data row6 col2\" >9.100000</td>\n",
       "    </tr>\n",
       "    <tr>\n",
       "      <th id=\"T_39713_level0_row7\" class=\"row_heading level0 row7\" >3500</th>\n",
       "      <td id=\"T_39713_row7_col0\" class=\"data row7 col0\" >Kota Factory</td>\n",
       "      <td id=\"T_39713_row7_col1\" class=\"data row7 col1\" >SHOW</td>\n",
       "      <td id=\"T_39713_row7_col2\" class=\"data row7 col2\" >9.100000</td>\n",
       "    </tr>\n",
       "    <tr>\n",
       "      <th id=\"T_39713_level0_row8\" class=\"row_heading level0 row8\" >243</th>\n",
       "      <td id=\"T_39713_row8_col0\" class=\"data row8 col0\" >DEATH NOTE</td>\n",
       "      <td id=\"T_39713_row8_col1\" class=\"data row8 col1\" >SHOW</td>\n",
       "      <td id=\"T_39713_row8_col2\" class=\"data row8 col2\" >9.000000</td>\n",
       "    </tr>\n",
       "    <tr>\n",
       "      <th id=\"T_39713_level0_row9\" class=\"row_heading level0 row9\" >165</th>\n",
       "      <td id=\"T_39713_row9_col0\" class=\"data row9 col0\" >Okupas</td>\n",
       "      <td id=\"T_39713_row9_col1\" class=\"data row9 col1\" >SHOW</td>\n",
       "      <td id=\"T_39713_row9_col2\" class=\"data row9 col2\" >9.000000</td>\n",
       "    </tr>\n",
       "  </tbody>\n",
       "</table>\n",
       "<style type=\"text/css\">\n",
       "</style>\n",
       "<table id=\"T_d2940\" style='display:inline'>\n",
       "  <thead>\n",
       "    <tr>\n",
       "      <th class=\"blank level0\" >&nbsp;</th>\n",
       "      <th id=\"T_d2940_level0_col0\" class=\"col_heading level0 col0\" >title</th>\n",
       "      <th id=\"T_d2940_level0_col1\" class=\"col_heading level0 col1\" >type</th>\n",
       "      <th id=\"T_d2940_level0_col2\" class=\"col_heading level0 col2\" >tmdb_score</th>\n",
       "    </tr>\n",
       "  </thead>\n",
       "  <tbody>\n",
       "    <tr>\n",
       "      <th id=\"T_d2940_level0_row0\" class=\"row_heading level0 row0\" >5849</th>\n",
       "      <td id=\"T_d2940_row0_col0\" class=\"data row0 col0\" >Mighty Little Bheem: Kite Festival</td>\n",
       "      <td id=\"T_d2940_row0_col1\" class=\"data row0 col1\" >SHOW</td>\n",
       "      <td id=\"T_d2940_row0_col2\" class=\"data row0 col2\" >10.000000</td>\n",
       "    </tr>\n",
       "    <tr>\n",
       "      <th id=\"T_d2940_level0_row1\" class=\"row_heading level0 row1\" >4664</th>\n",
       "      <td id=\"T_d2940_row1_col0\" class=\"data row1 col0\" >Fate of Alakada</td>\n",
       "      <td id=\"T_d2940_row1_col1\" class=\"data row1 col1\" >MOVIE</td>\n",
       "      <td id=\"T_d2940_row1_col2\" class=\"data row1 col2\" >10.000000</td>\n",
       "    </tr>\n",
       "    <tr>\n",
       "      <th id=\"T_d2940_level0_row2\" class=\"row_heading level0 row2\" >4688</th>\n",
       "      <td id=\"T_d2940_row2_col0\" class=\"data row2 col0\" >Mighty Little Bheem: Diwali</td>\n",
       "      <td id=\"T_d2940_row2_col1\" class=\"data row2 col1\" >SHOW</td>\n",
       "      <td id=\"T_d2940_row2_col2\" class=\"data row2 col2\" >10.000000</td>\n",
       "    </tr>\n",
       "    <tr>\n",
       "      <th id=\"T_d2940_level0_row3\" class=\"row_heading level0 row3\" >4320</th>\n",
       "      <td id=\"T_d2940_row3_col0\" class=\"data row3 col0\" >Happy Jail</td>\n",
       "      <td id=\"T_d2940_row3_col1\" class=\"data row3 col1\" >SHOW</td>\n",
       "      <td id=\"T_d2940_row3_col2\" class=\"data row3 col2\" >10.000000</td>\n",
       "    </tr>\n",
       "    <tr>\n",
       "      <th id=\"T_d2940_level0_row4\" class=\"row_heading level0 row4\" >4296</th>\n",
       "      <td id=\"T_d2940_row4_col0\" class=\"data row4 col0\" >Singapore Social</td>\n",
       "      <td id=\"T_d2940_row4_col1\" class=\"data row4 col1\" >SHOW</td>\n",
       "      <td id=\"T_d2940_row4_col2\" class=\"data row4 col2\" >10.000000</td>\n",
       "    </tr>\n",
       "    <tr>\n",
       "      <th id=\"T_d2940_level0_row5\" class=\"row_heading level0 row5\" >4289</th>\n",
       "      <td id=\"T_d2940_row5_col0\" class=\"data row5 col0\" >True: Friendship Day</td>\n",
       "      <td id=\"T_d2940_row5_col1\" class=\"data row5 col1\" >MOVIE</td>\n",
       "      <td id=\"T_d2940_row5_col2\" class=\"data row5 col2\" >10.000000</td>\n",
       "    </tr>\n",
       "    <tr>\n",
       "      <th id=\"T_d2940_level0_row6\" class=\"row_heading level0 row6\" >4273</th>\n",
       "      <td id=\"T_d2940_row6_col0\" class=\"data row6 col0\" >Legend Quest: Masters of Myth</td>\n",
       "      <td id=\"T_d2940_row6_col1\" class=\"data row6 col1\" >SHOW</td>\n",
       "      <td id=\"T_d2940_row6_col2\" class=\"data row6 col2\" >10.000000</td>\n",
       "    </tr>\n",
       "    <tr>\n",
       "      <th id=\"T_d2940_level0_row7\" class=\"row_heading level0 row7\" >4265</th>\n",
       "      <td id=\"T_d2940_row7_col0\" class=\"data row7 col0\" >Secreto bien guardado</td>\n",
       "      <td id=\"T_d2940_row7_col1\" class=\"data row7 col1\" >SHOW</td>\n",
       "      <td id=\"T_d2940_row7_col2\" class=\"data row7 col2\" >10.000000</td>\n",
       "    </tr>\n",
       "    <tr>\n",
       "      <th id=\"T_d2940_level0_row8\" class=\"row_heading level0 row8\" >2032</th>\n",
       "      <td id=\"T_d2940_row8_col0\" class=\"data row8 col0\" >Transformers: Rescue Bots Academy</td>\n",
       "      <td id=\"T_d2940_row8_col1\" class=\"data row8 col1\" >SHOW</td>\n",
       "      <td id=\"T_d2940_row8_col2\" class=\"data row8 col2\" >10.000000</td>\n",
       "    </tr>\n",
       "    <tr>\n",
       "      <th id=\"T_d2940_level0_row9\" class=\"row_heading level0 row9\" >4202</th>\n",
       "      <td id=\"T_d2940_row9_col0\" class=\"data row9 col0\" >A Queen Is Born</td>\n",
       "      <td id=\"T_d2940_row9_col1\" class=\"data row9 col1\" >SHOW</td>\n",
       "      <td id=\"T_d2940_row9_col2\" class=\"data row9 col2\" >10.000000</td>\n",
       "    </tr>\n",
       "  </tbody>\n",
       "</table>\n"
      ]
     },
     "metadata": {},
     "output_type": "display_data"
    }
   ],
   "source": [
    "# top title with highest rating (imdb and tmdb)\n",
    "top10_imdb_titles = df[['title', 'type', 'imdb_score']].sort_values(by='imdb_score', ascending=False).head(10) \n",
    "top10_tmdb_titles = df[['title', 'type' , 'tmdb_score']].sort_values(by='tmdb_score', ascending=False).head(10)\n",
    "\n",
    "imdb_titles10 = top10_imdb_titles.style.set_table_attributes(\"style='display:inline; margin-right:20px;'\")\n",
    "tmdb_titles10 = top10_tmdb_titles.style.set_table_attributes(\"style='display:inline'\")\n",
    "\n",
    "display_html(imdb_titles10._repr_html_() + tmdb_titles10._repr_html_(), raw=True)"
   ]
  },
  {
   "cell_type": "markdown",
   "metadata": {},
   "source": [
    "The title with highest imdb score and tmdb score are different. The similarity in those two is the type of content that dominating top ten score. Most of the content is show type"
   ]
  },
  {
   "cell_type": "code",
   "execution_count": 38,
   "metadata": {},
   "outputs": [
    {
     "data": {
      "text/html": [
       "<style type=\"text/css\">\n",
       "</style>\n",
       "<table id=\"T_d978c\" style='display:inline; margin-right:20px;'>\n",
       "  <thead>\n",
       "    <tr>\n",
       "      <th class=\"blank level0\" >&nbsp;</th>\n",
       "      <th id=\"T_d978c_level0_col0\" class=\"col_heading level0 col0\" >genres</th>\n",
       "      <th id=\"T_d978c_level0_col1\" class=\"col_heading level0 col1\" >imdb_score</th>\n",
       "    </tr>\n",
       "  </thead>\n",
       "  <tbody>\n",
       "    <tr>\n",
       "      <th id=\"T_d978c_level0_row0\" class=\"row_heading level0 row0\" >0</th>\n",
       "      <td id=\"T_d978c_row0_col0\" class=\"data row0 col0\" >['scifi', 'animation', 'action', 'family', 'fantasy']</td>\n",
       "      <td id=\"T_d978c_row0_col1\" class=\"data row0 col1\" >9.300000</td>\n",
       "    </tr>\n",
       "    <tr>\n",
       "      <th id=\"T_d978c_level0_row1\" class=\"row_heading level0 row1\" >1</th>\n",
       "      <td id=\"T_d978c_row1_col0\" class=\"data row1 col0\" >['scifi', 'action', 'drama', 'animation', 'fantasy']</td>\n",
       "      <td id=\"T_d978c_row1_col1\" class=\"data row1 col1\" >9.000000</td>\n",
       "    </tr>\n",
       "    <tr>\n",
       "      <th id=\"T_d978c_level0_row2\" class=\"row_heading level0 row2\" >2</th>\n",
       "      <td id=\"T_d978c_row2_col0\" class=\"data row2 col0\" >['action', 'animation', 'comedy', 'fantasy']</td>\n",
       "      <td id=\"T_d978c_row2_col1\" class=\"data row2 col1\" >9.000000</td>\n",
       "    </tr>\n",
       "    <tr>\n",
       "      <th id=\"T_d978c_level0_row3\" class=\"row_heading level0 row3\" >3</th>\n",
       "      <td id=\"T_d978c_row3_col0\" class=\"data row3 col0\" >['action', 'scifi', 'animation', 'horror', 'drama', 'fantasy']</td>\n",
       "      <td id=\"T_d978c_row3_col1\" class=\"data row3 col1\" >9.000000</td>\n",
       "    </tr>\n",
       "    <tr>\n",
       "      <th id=\"T_d978c_level0_row4\" class=\"row_heading level0 row4\" >4</th>\n",
       "      <td id=\"T_d978c_row4_col0\" class=\"data row4 col0\" >['animation', 'thriller', 'scifi', 'drama', 'fantasy', 'crime']</td>\n",
       "      <td id=\"T_d978c_row4_col1\" class=\"data row4 col1\" >9.000000</td>\n",
       "    </tr>\n",
       "    <tr>\n",
       "      <th id=\"T_d978c_level0_row5\" class=\"row_heading level0 row5\" >5</th>\n",
       "      <td id=\"T_d978c_row5_col0\" class=\"data row5 col0\" >['animation', 'action', 'scifi', 'western', 'comedy', 'drama', 'thriller']</td>\n",
       "      <td id=\"T_d978c_row5_col1\" class=\"data row5 col1\" >8.900000</td>\n",
       "    </tr>\n",
       "    <tr>\n",
       "      <th id=\"T_d978c_level0_row6\" class=\"row_heading level0 row6\" >6</th>\n",
       "      <td id=\"T_d978c_row6_col0\" class=\"data row6 col0\" >['animation', 'action', 'comedy', 'drama', 'fantasy']</td>\n",
       "      <td id=\"T_d978c_row6_col1\" class=\"data row6 col1\" >8.800000</td>\n",
       "    </tr>\n",
       "    <tr>\n",
       "      <th id=\"T_d978c_level0_row7\" class=\"row_heading level0 row7\" >7</th>\n",
       "      <td id=\"T_d978c_row7_col0\" class=\"data row7 col0\" >['action', 'drama', 'thriller', 'romance', 'comedy', 'fantasy', 'horror']</td>\n",
       "      <td id=\"T_d978c_row7_col1\" class=\"data row7 col1\" >8.800000</td>\n",
       "    </tr>\n",
       "    <tr>\n",
       "      <th id=\"T_d978c_level0_row8\" class=\"row_heading level0 row8\" >8</th>\n",
       "      <td id=\"T_d978c_row8_col0\" class=\"data row8 col0\" >['animation', 'action', 'drama', 'war', 'history']</td>\n",
       "      <td id=\"T_d978c_row8_col1\" class=\"data row8 col1\" >8.800000</td>\n",
       "    </tr>\n",
       "    <tr>\n",
       "      <th id=\"T_d978c_level0_row9\" class=\"row_heading level0 row9\" >9</th>\n",
       "      <td id=\"T_d978c_row9_col0\" class=\"data row9 col0\" >['drama', 'scifi', 'thriller', 'european']</td>\n",
       "      <td id=\"T_d978c_row9_col1\" class=\"data row9 col1\" >8.800000</td>\n",
       "    </tr>\n",
       "  </tbody>\n",
       "</table>\n",
       "<style type=\"text/css\">\n",
       "</style>\n",
       "<table id=\"T_52d66\" style='display:inline'>\n",
       "  <thead>\n",
       "    <tr>\n",
       "      <th class=\"blank level0\" >&nbsp;</th>\n",
       "      <th id=\"T_52d66_level0_col0\" class=\"col_heading level0 col0\" >genres</th>\n",
       "      <th id=\"T_52d66_level0_col1\" class=\"col_heading level0 col1\" >tmdb_score</th>\n",
       "    </tr>\n",
       "  </thead>\n",
       "  <tbody>\n",
       "    <tr>\n",
       "      <th id=\"T_52d66_level0_row0\" class=\"row_heading level0 row0\" >0</th>\n",
       "      <td id=\"T_52d66_row0_col0\" class=\"data row0 col0\" >['family', 'music', 'animation']</td>\n",
       "      <td id=\"T_52d66_row0_col1\" class=\"data row0 col1\" >10.000000</td>\n",
       "    </tr>\n",
       "    <tr>\n",
       "      <th id=\"T_52d66_level0_row1\" class=\"row_heading level0 row1\" >1</th>\n",
       "      <td id=\"T_52d66_row1_col0\" class=\"data row1 col0\" >['family', 'fantasy', 'animation', 'comedy']</td>\n",
       "      <td id=\"T_52d66_row1_col1\" class=\"data row1 col1\" >10.000000</td>\n",
       "    </tr>\n",
       "    <tr>\n",
       "      <th id=\"T_52d66_level0_row2\" class=\"row_heading level0 row2\" >2</th>\n",
       "      <td id=\"T_52d66_row2_col0\" class=\"data row2 col0\" >['comedy', 'family', 'fantasy', 'scifi']</td>\n",
       "      <td id=\"T_52d66_row2_col1\" class=\"data row2 col1\" >10.000000</td>\n",
       "    </tr>\n",
       "    <tr>\n",
       "      <th id=\"T_52d66_level0_row3\" class=\"row_heading level0 row3\" >3</th>\n",
       "      <td id=\"T_52d66_row3_col0\" class=\"data row3 col0\" >['animation', 'comedy', 'family', 'scifi', 'action']</td>\n",
       "      <td id=\"T_52d66_row3_col1\" class=\"data row3 col1\" >10.000000</td>\n",
       "    </tr>\n",
       "    <tr>\n",
       "      <th id=\"T_52d66_level0_row4\" class=\"row_heading level0 row4\" >4</th>\n",
       "      <td id=\"T_52d66_row4_col0\" class=\"data row4 col0\" >['crime', 'sport', 'documentation']</td>\n",
       "      <td id=\"T_52d66_row4_col1\" class=\"data row4 col1\" >10.000000</td>\n",
       "    </tr>\n",
       "    <tr>\n",
       "      <th id=\"T_52d66_level0_row5\" class=\"row_heading level0 row5\" >5</th>\n",
       "      <td id=\"T_52d66_row5_col0\" class=\"data row5 col0\" >['thriller', 'horror', 'animation', 'comedy', 'drama', 'family', 'fantasy']</td>\n",
       "      <td id=\"T_52d66_row5_col1\" class=\"data row5 col1\" >10.000000</td>\n",
       "    </tr>\n",
       "    <tr>\n",
       "      <th id=\"T_52d66_level0_row6\" class=\"row_heading level0 row6\" >6</th>\n",
       "      <td id=\"T_52d66_row6_col0\" class=\"data row6 col0\" >['drama', 'scifi', 'comedy', 'history']</td>\n",
       "      <td id=\"T_52d66_row6_col1\" class=\"data row6 col1\" >10.000000</td>\n",
       "    </tr>\n",
       "    <tr>\n",
       "      <th id=\"T_52d66_level0_row7\" class=\"row_heading level0 row7\" >7</th>\n",
       "      <td id=\"T_52d66_row7_col0\" class=\"data row7 col0\" >['family', 'romance', 'comedy']</td>\n",
       "      <td id=\"T_52d66_row7_col1\" class=\"data row7 col1\" >10.000000</td>\n",
       "    </tr>\n",
       "    <tr>\n",
       "      <th id=\"T_52d66_level0_row8\" class=\"row_heading level0 row8\" >8</th>\n",
       "      <td id=\"T_52d66_row8_col0\" class=\"data row8 col0\" >['animation', 'family', 'scifi']</td>\n",
       "      <td id=\"T_52d66_row8_col1\" class=\"data row8 col1\" >10.000000</td>\n",
       "    </tr>\n",
       "    <tr>\n",
       "      <th id=\"T_52d66_level0_row9\" class=\"row_heading level0 row9\" >9</th>\n",
       "      <td id=\"T_52d66_row9_col0\" class=\"data row9 col0\" >['action', 'animation', 'scifi', 'thriller', 'comedy', 'drama', 'fantasy']</td>\n",
       "      <td id=\"T_52d66_row9_col1\" class=\"data row9 col1\" >9.700000</td>\n",
       "    </tr>\n",
       "  </tbody>\n",
       "</table>\n"
      ]
     },
     "metadata": {},
     "output_type": "display_data"
    }
   ],
   "source": [
    "# genres with highest average imdb score\n",
    "top10_imdb_genres = df.groupby('genres')['imdb_score'].mean().sort_values(ascending=False).reset_index().head(10) \n",
    "top10_tmdb_genres = df.groupby('genres')['tmdb_score'].mean().sort_values(ascending=False).reset_index().head(10)\n",
    "\n",
    "imdb_genres10 = top10_imdb_genres.style.set_table_attributes(\"style='display:inline; margin-right:20px;'\")\n",
    "tmdb_genres10 = top10_tmdb_genres.style.set_table_attributes(\"style='display:inline'\")\n",
    "\n",
    "display_html(imdb_genres10._repr_html_() + tmdb_genres10._repr_html_(), raw=True)"
   ]
  },
  {
   "cell_type": "markdown",
   "metadata": {},
   "source": [
    "From two tables above we could see that top ten genres with the highest average score in imdb and  tmdb are different. One similar thing in top one highest score both imdb and tmdb is animation genre"
   ]
  },
  {
   "cell_type": "code",
   "execution_count": 39,
   "metadata": {},
   "outputs": [
    {
     "data": {
      "text/html": [
       "<div>\n",
       "<style scoped>\n",
       "    .dataframe tbody tr th:only-of-type {\n",
       "        vertical-align: middle;\n",
       "    }\n",
       "\n",
       "    .dataframe tbody tr th {\n",
       "        vertical-align: top;\n",
       "    }\n",
       "\n",
       "    .dataframe thead th {\n",
       "        text-align: right;\n",
       "    }\n",
       "</style>\n",
       "<table border=\"1\" class=\"dataframe\">\n",
       "  <thead>\n",
       "    <tr style=\"text-align: right;\">\n",
       "      <th></th>\n",
       "      <th>genres</th>\n",
       "      <th>tmdb_popularity</th>\n",
       "    </tr>\n",
       "  </thead>\n",
       "  <tbody>\n",
       "    <tr>\n",
       "      <th>0</th>\n",
       "      <td>['scifi', 'thriller', 'drama', 'fantasy', 'horror']</td>\n",
       "      <td>2226.2310</td>\n",
       "    </tr>\n",
       "    <tr>\n",
       "      <th>1</th>\n",
       "      <td>['comedy', 'family', 'fantasy', 'scifi', 'animation']</td>\n",
       "      <td>1723.3630</td>\n",
       "    </tr>\n",
       "    <tr>\n",
       "      <th>2</th>\n",
       "      <td>['comedy', 'horror', 'war', 'fantasy', 'thriller', 'action']</td>\n",
       "      <td>1668.2960</td>\n",
       "    </tr>\n",
       "    <tr>\n",
       "      <th>3</th>\n",
       "      <td>['action', 'thriller', 'drama', 'romance', 'comedy']</td>\n",
       "      <td>1439.9060</td>\n",
       "    </tr>\n",
       "    <tr>\n",
       "      <th>4</th>\n",
       "      <td>['scifi', 'thriller', 'drama', 'action', 'crime']</td>\n",
       "      <td>996.8690</td>\n",
       "    </tr>\n",
       "    <tr>\n",
       "      <th>5</th>\n",
       "      <td>['scifi', 'crime', 'drama', 'fantasy']</td>\n",
       "      <td>922.1120</td>\n",
       "    </tr>\n",
       "    <tr>\n",
       "      <th>6</th>\n",
       "      <td>['drama', 'sport', 'comedy']</td>\n",
       "      <td>746.9280</td>\n",
       "    </tr>\n",
       "    <tr>\n",
       "      <th>7</th>\n",
       "      <td>['scifi', 'thriller', 'action', 'horror']</td>\n",
       "      <td>698.9635</td>\n",
       "    </tr>\n",
       "    <tr>\n",
       "      <th>8</th>\n",
       "      <td>['action', 'animation', 'family', 'fantasy', 'comedy']</td>\n",
       "      <td>656.8320</td>\n",
       "    </tr>\n",
       "    <tr>\n",
       "      <th>9</th>\n",
       "      <td>['action', 'drama', 'scifi', 'horror', 'thriller']</td>\n",
       "      <td>597.2770</td>\n",
       "    </tr>\n",
       "  </tbody>\n",
       "</table>\n",
       "</div>"
      ],
      "text/plain": [
       "                                                         genres  \\\n",
       "0           ['scifi', 'thriller', 'drama', 'fantasy', 'horror']   \n",
       "1         ['comedy', 'family', 'fantasy', 'scifi', 'animation']   \n",
       "2  ['comedy', 'horror', 'war', 'fantasy', 'thriller', 'action']   \n",
       "3          ['action', 'thriller', 'drama', 'romance', 'comedy']   \n",
       "4             ['scifi', 'thriller', 'drama', 'action', 'crime']   \n",
       "5                        ['scifi', 'crime', 'drama', 'fantasy']   \n",
       "6                                  ['drama', 'sport', 'comedy']   \n",
       "7                     ['scifi', 'thriller', 'action', 'horror']   \n",
       "8        ['action', 'animation', 'family', 'fantasy', 'comedy']   \n",
       "9            ['action', 'drama', 'scifi', 'horror', 'thriller']   \n",
       "\n",
       "   tmdb_popularity  \n",
       "0        2226.2310  \n",
       "1        1723.3630  \n",
       "2        1668.2960  \n",
       "3        1439.9060  \n",
       "4         996.8690  \n",
       "5         922.1120  \n",
       "6         746.9280  \n",
       "7         698.9635  \n",
       "8         656.8320  \n",
       "9         597.2770  "
      ]
     },
     "execution_count": 39,
     "metadata": {},
     "output_type": "execute_result"
    }
   ],
   "source": [
    "#top 10 genres with highest average tmdb popularity\n",
    "top10_tmdb_genres = df.groupby('genres')['tmdb_popularity'].mean().sort_values(ascending=False).reset_index().head(10)\n",
    "top10_tmdb_genres"
   ]
  },
  {
   "cell_type": "markdown",
   "metadata": {},
   "source": [
    "The genres with highest average tmdb popularity different with genres with highest imdb & tmdb popularity. The top one is not consist of animation but horror"
   ]
  },
  {
   "cell_type": "code",
   "execution_count": 40,
   "metadata": {},
   "outputs": [
    {
     "data": {
      "text/html": [
       "<style type=\"text/css\">\n",
       "</style>\n",
       "<table id=\"T_b3ee5\" style='display:inline; margin-right:20px;'>\n",
       "  <thead>\n",
       "    <tr>\n",
       "      <th class=\"blank level0\" >&nbsp;</th>\n",
       "      <th id=\"T_b3ee5_level0_col0\" class=\"col_heading level0 col0\" >production_countries</th>\n",
       "      <th id=\"T_b3ee5_level0_col1\" class=\"col_heading level0 col1\" >imdb_score</th>\n",
       "    </tr>\n",
       "  </thead>\n",
       "  <tbody>\n",
       "    <tr>\n",
       "      <th id=\"T_b3ee5_level0_row0\" class=\"row_heading level0 row0\" >0</th>\n",
       "      <td id=\"T_b3ee5_row0_col0\" class=\"data row0 col0\" >['UA', 'GB', 'US']</td>\n",
       "      <td id=\"T_b3ee5_row0_col1\" class=\"data row0 col1\" >8.300000</td>\n",
       "    </tr>\n",
       "    <tr>\n",
       "      <th id=\"T_b3ee5_level0_row1\" class=\"row_heading level0 row1\" >1</th>\n",
       "      <td id=\"T_b3ee5_row1_col0\" class=\"data row1 col0\" >['CD', 'GB']</td>\n",
       "      <td id=\"T_b3ee5_row1_col1\" class=\"data row1 col1\" >8.200000</td>\n",
       "    </tr>\n",
       "    <tr>\n",
       "      <th id=\"T_b3ee5_level0_row2\" class=\"row_heading level0 row2\" >2</th>\n",
       "      <td id=\"T_b3ee5_row2_col0\" class=\"data row2 col0\" >['CU', 'US']</td>\n",
       "      <td id=\"T_b3ee5_row2_col1\" class=\"data row2 col1\" >8.200000</td>\n",
       "    </tr>\n",
       "    <tr>\n",
       "      <th id=\"T_b3ee5_level0_row3\" class=\"row_heading level0 row3\" >3</th>\n",
       "      <td id=\"T_b3ee5_row3_col0\" class=\"data row3 col0\" >['ZA', 'GB']</td>\n",
       "      <td id=\"T_b3ee5_row3_col1\" class=\"data row3 col1\" >8.100000</td>\n",
       "    </tr>\n",
       "    <tr>\n",
       "      <th id=\"T_b3ee5_level0_row4\" class=\"row_heading level0 row4\" >4</th>\n",
       "      <td id=\"T_b3ee5_row4_col0\" class=\"data row4 col0\" >['US', 'EG', 'GB']</td>\n",
       "      <td id=\"T_b3ee5_row4_col1\" class=\"data row4 col1\" >8.100000</td>\n",
       "    </tr>\n",
       "    <tr>\n",
       "      <th id=\"T_b3ee5_level0_row5\" class=\"row_heading level0 row5\" >5</th>\n",
       "      <td id=\"T_b3ee5_row5_col0\" class=\"data row5 col0\" >['US', 'DE', 'GB']</td>\n",
       "      <td id=\"T_b3ee5_row5_col1\" class=\"data row5 col1\" >8.100000</td>\n",
       "    </tr>\n",
       "    <tr>\n",
       "      <th id=\"T_b3ee5_level0_row6\" class=\"row_heading level0 row6\" >6</th>\n",
       "      <td id=\"T_b3ee5_row6_col0\" class=\"data row6 col0\" >['DE', 'GB', 'US', 'BS', 'CZ']</td>\n",
       "      <td id=\"T_b3ee5_row6_col1\" class=\"data row6 col1\" >8.000000</td>\n",
       "    </tr>\n",
       "    <tr>\n",
       "      <th id=\"T_b3ee5_level0_row7\" class=\"row_heading level0 row7\" >7</th>\n",
       "      <td id=\"T_b3ee5_row7_col0\" class=\"data row7 col0\" >['AT', 'GB', 'US']</td>\n",
       "      <td id=\"T_b3ee5_row7_col1\" class=\"data row7 col1\" >8.000000</td>\n",
       "    </tr>\n",
       "    <tr>\n",
       "      <th id=\"T_b3ee5_level0_row8\" class=\"row_heading level0 row8\" >8</th>\n",
       "      <td id=\"T_b3ee5_row8_col0\" class=\"data row8 col0\" >['US', 'CA', 'FR', 'ES']</td>\n",
       "      <td id=\"T_b3ee5_row8_col1\" class=\"data row8 col1\" >8.000000</td>\n",
       "    </tr>\n",
       "    <tr>\n",
       "      <th id=\"T_b3ee5_level0_row9\" class=\"row_heading level0 row9\" >9</th>\n",
       "      <td id=\"T_b3ee5_row9_col0\" class=\"data row9 col0\" >['TZ']</td>\n",
       "      <td id=\"T_b3ee5_row9_col1\" class=\"data row9 col1\" >8.000000</td>\n",
       "    </tr>\n",
       "  </tbody>\n",
       "</table>\n",
       "<style type=\"text/css\">\n",
       "</style>\n",
       "<table id=\"T_36054\" style='display:inline'>\n",
       "  <thead>\n",
       "    <tr>\n",
       "      <th class=\"blank level0\" >&nbsp;</th>\n",
       "      <th id=\"T_36054_level0_col0\" class=\"col_heading level0 col0\" >production_countries</th>\n",
       "      <th id=\"T_36054_level0_col1\" class=\"col_heading level0 col1\" >tmdb_score</th>\n",
       "    </tr>\n",
       "  </thead>\n",
       "  <tbody>\n",
       "    <tr>\n",
       "      <th id=\"T_36054_level0_row0\" class=\"row_heading level0 row0\" >0</th>\n",
       "      <td id=\"T_36054_row0_col0\" class=\"data row0 col0\" >['KE']</td>\n",
       "      <td id=\"T_36054_row0_col1\" class=\"data row0 col1\" >10.000000</td>\n",
       "    </tr>\n",
       "    <tr>\n",
       "      <th id=\"T_36054_level0_row1\" class=\"row_heading level0 row1\" >1</th>\n",
       "      <td id=\"T_36054_row1_col0\" class=\"data row1 col0\" >['ZA', 'US']</td>\n",
       "      <td id=\"T_36054_row1_col1\" class=\"data row1 col1\" >10.000000</td>\n",
       "    </tr>\n",
       "    <tr>\n",
       "      <th id=\"T_36054_level0_row2\" class=\"row_heading level0 row2\" >2</th>\n",
       "      <td id=\"T_36054_row2_col0\" class=\"data row2 col0\" >['SG', 'US']</td>\n",
       "      <td id=\"T_36054_row2_col1\" class=\"data row2 col1\" >9.300000</td>\n",
       "    </tr>\n",
       "    <tr>\n",
       "      <th id=\"T_36054_level0_row3\" class=\"row_heading level0 row3\" >3</th>\n",
       "      <td id=\"T_36054_row3_col0\" class=\"data row3 col0\" >['ES', 'IT']</td>\n",
       "      <td id=\"T_36054_row3_col1\" class=\"data row3 col1\" >9.200000</td>\n",
       "    </tr>\n",
       "    <tr>\n",
       "      <th id=\"T_36054_level0_row4\" class=\"row_heading level0 row4\" >4</th>\n",
       "      <td id=\"T_36054_row4_col0\" class=\"data row4 col0\" >['TZ', 'GB']</td>\n",
       "      <td id=\"T_36054_row4_col1\" class=\"data row4 col1\" >9.000000</td>\n",
       "    </tr>\n",
       "    <tr>\n",
       "      <th id=\"T_36054_level0_row5\" class=\"row_heading level0 row5\" >5</th>\n",
       "      <td id=\"T_36054_row5_col0\" class=\"data row5 col0\" >['CA', 'BR']</td>\n",
       "      <td id=\"T_36054_row5_col1\" class=\"data row5 col1\" >8.800000</td>\n",
       "    </tr>\n",
       "    <tr>\n",
       "      <th id=\"T_36054_level0_row6\" class=\"row_heading level0 row6\" >6</th>\n",
       "      <td id=\"T_36054_row6_col0\" class=\"data row6 col0\" >['US', 'NG']</td>\n",
       "      <td id=\"T_36054_row6_col1\" class=\"data row6 col1\" >8.700000</td>\n",
       "    </tr>\n",
       "    <tr>\n",
       "      <th id=\"T_36054_level0_row7\" class=\"row_heading level0 row7\" >7</th>\n",
       "      <td id=\"T_36054_row7_col0\" class=\"data row7 col0\" >['US', 'IT']</td>\n",
       "      <td id=\"T_36054_row7_col1\" class=\"data row7 col1\" >8.326500</td>\n",
       "    </tr>\n",
       "    <tr>\n",
       "      <th id=\"T_36054_level0_row8\" class=\"row_heading level0 row8\" >8</th>\n",
       "      <td id=\"T_36054_row8_col0\" class=\"data row8 col0\" >['US', 'CA', 'FR', 'ES']</td>\n",
       "      <td id=\"T_36054_row8_col1\" class=\"data row8 col1\" >8.200000</td>\n",
       "    </tr>\n",
       "    <tr>\n",
       "      <th id=\"T_36054_level0_row9\" class=\"row_heading level0 row9\" >9</th>\n",
       "      <td id=\"T_36054_row9_col0\" class=\"data row9 col0\" >['US', 'IN']</td>\n",
       "      <td id=\"T_36054_row9_col1\" class=\"data row9 col1\" >8.150000</td>\n",
       "    </tr>\n",
       "  </tbody>\n",
       "</table>\n"
      ]
     },
     "metadata": {},
     "output_type": "display_data"
    }
   ],
   "source": [
    "# production_countries with highest average imdb score\n",
    "top10_imdb_prodcountries = df.groupby('production_countries')['imdb_score'].mean().sort_values(ascending=False).reset_index().head(10) \n",
    "top10_tmdb_prodcountries = df.groupby('production_countries')['tmdb_score'].mean().sort_values(ascending=False).reset_index().head(10)\n",
    "\n",
    "imdb_prodcountries10 = top10_imdb_prodcountries.style.set_table_attributes(\"style='display:inline; margin-right:20px;'\")\n",
    "tmdb_prodcountries10 = top10_tmdb_prodcountries.style.set_table_attributes(\"style='display:inline'\")\n",
    "\n",
    "display_html(imdb_prodcountries10._repr_html_() + tmdb_prodcountries10._repr_html_(), raw=True)"
   ]
  },
  {
   "cell_type": "markdown",
   "metadata": {},
   "source": [
    "The production countries with the highest imdb score and highest tmdb score are different"
   ]
  },
  {
   "cell_type": "code",
   "execution_count": 41,
   "metadata": {},
   "outputs": [
    {
     "data": {
      "text/plain": [
       "(Country(alpha_2='KE', alpha_3='KEN', flag='🇰🇪', name='Kenya', numeric='404', official_name='Republic of Kenya'),\n",
       " Country(alpha_2='ZA', alpha_3='ZAF', flag='🇿🇦', name='South Africa', numeric='710', official_name='Republic of South Africa'),\n",
       " Country(alpha_2='UA', alpha_3='UKR', flag='🇺🇦', name='Ukraine', numeric='804'),\n",
       " Country(alpha_2='EG', alpha_3='EGY', flag='🇪🇬', name='Egypt', numeric='818', official_name='Arab Republic of Egypt'),\n",
       " Country(alpha_2='TZ', alpha_3='TZA', common_name='Tanzania', flag='🇹🇿', name='Tanzania, United Republic of', numeric='834', official_name='United Republic of Tanzania'))"
      ]
     },
     "execution_count": 41,
     "metadata": {},
     "output_type": "execute_result"
    }
   ],
   "source": [
    "# to know countries with unfamiliar country code\n",
    "pycountry.countries.get(alpha_2=\"KE\"), pycountry.countries.get(alpha_2=\"ZA\"),  pycountry.countries.get(alpha_2=\"UA\"),  pycountry.countries.get(alpha_2=\"EG\"),  pycountry.countries.get(alpha_2=\"TZ\")"
   ]
  },
  {
   "cell_type": "code",
   "execution_count": 42,
   "metadata": {},
   "outputs": [
    {
     "data": {
      "image/png": "[encoded data removed]",
      "text/plain": [
       "<Figure size 640x480 with 2 Axes>"
      ]
     },
     "metadata": {},
     "output_type": "display_data"
    }
   ],
   "source": [
    "# average imdb and tmdb score over the years \n",
    "imdb_year = df.groupby('release_year', as_index=False)['imdb_score'].mean()\n",
    "tmdb_year = df.groupby('release_year', as_index=False)['tmdb_score'].mean()\n",
    "\n",
    "fig, ax = plt.subplots(2,1)\n",
    "sns.lineplot(data=imdb_year, x='release_year', y='imdb_score', color='red', ax=ax[0]).set(title='Avg Imdb Score Over the Years')\n",
    "ax[0].set(xlabel='Release year', ylabel='Imdb Score') \n",
    "sns.lineplot(data=tmdb_year, x='release_year', y='tmdb_score', color='red', ax=ax[1]).set(title='Avg Tmdb Score Over the Years')\n",
    "ax[1].set(xlabel='Release year', ylabel='Tmdb Score')\n",
    "plt.tight_layout()\n",
    "plt.show() "
   ]
  },
  {
   "cell_type": "markdown",
   "metadata": {},
   "source": [
    "Both average imdb and tmdb score have similar trend. There is a sharp decline in th beginning of 1970s but in a short time the average rating increase sharply in the middle 1970s."
   ]
  },
  {
   "cell_type": "markdown",
   "metadata": {},
   "source": [
    "# Credits Data \n",
    "\n",
    "In this section, credits data will be analyzed and combined with title data "
   ]
  },
  {
   "cell_type": "code",
   "execution_count": 43,
   "metadata": {},
   "outputs": [],
   "source": [
    "credit_df = pd.read_csv('C:/Personal/DA DS/DS Project/Capstone_project_tetris-main/credits.csv')"
   ]
  },
  {
   "cell_type": "code",
   "execution_count": 44,
   "metadata": {},
   "outputs": [
    {
     "data": {
      "text/html": [
       "<div>\n",
       "<style scoped>\n",
       "    .dataframe tbody tr th:only-of-type {\n",
       "        vertical-align: middle;\n",
       "    }\n",
       "\n",
       "    .dataframe tbody tr th {\n",
       "        vertical-align: top;\n",
       "    }\n",
       "\n",
       "    .dataframe thead th {\n",
       "        text-align: right;\n",
       "    }\n",
       "</style>\n",
       "<table border=\"1\" class=\"dataframe\">\n",
       "  <thead>\n",
       "    <tr style=\"text-align: right;\">\n",
       "      <th></th>\n",
       "      <th>person_id</th>\n",
       "      <th>id</th>\n",
       "      <th>name</th>\n",
       "      <th>character</th>\n",
       "      <th>role</th>\n",
       "    </tr>\n",
       "  </thead>\n",
       "  <tbody>\n",
       "    <tr>\n",
       "      <th>0</th>\n",
       "      <td>3748</td>\n",
       "      <td>tm84618</td>\n",
       "      <td>Robert De Niro</td>\n",
       "      <td>Travis Bickle</td>\n",
       "      <td>ACTOR</td>\n",
       "    </tr>\n",
       "    <tr>\n",
       "      <th>1</th>\n",
       "      <td>14658</td>\n",
       "      <td>tm84618</td>\n",
       "      <td>Jodie Foster</td>\n",
       "      <td>Iris Steensma</td>\n",
       "      <td>ACTOR</td>\n",
       "    </tr>\n",
       "    <tr>\n",
       "      <th>2</th>\n",
       "      <td>7064</td>\n",
       "      <td>tm84618</td>\n",
       "      <td>Albert Brooks</td>\n",
       "      <td>Tom</td>\n",
       "      <td>ACTOR</td>\n",
       "    </tr>\n",
       "    <tr>\n",
       "      <th>3</th>\n",
       "      <td>3739</td>\n",
       "      <td>tm84618</td>\n",
       "      <td>Harvey Keitel</td>\n",
       "      <td>Matthew 'Sport' Higgins</td>\n",
       "      <td>ACTOR</td>\n",
       "    </tr>\n",
       "    <tr>\n",
       "      <th>4</th>\n",
       "      <td>48933</td>\n",
       "      <td>tm84618</td>\n",
       "      <td>Cybill Shepherd</td>\n",
       "      <td>Betsy</td>\n",
       "      <td>ACTOR</td>\n",
       "    </tr>\n",
       "    <tr>\n",
       "      <th>5</th>\n",
       "      <td>32267</td>\n",
       "      <td>tm84618</td>\n",
       "      <td>Peter Boyle</td>\n",
       "      <td>Wizard</td>\n",
       "      <td>ACTOR</td>\n",
       "    </tr>\n",
       "    <tr>\n",
       "      <th>6</th>\n",
       "      <td>519612</td>\n",
       "      <td>tm84618</td>\n",
       "      <td>Leonard Harris</td>\n",
       "      <td>Senator Charles Palantine</td>\n",
       "      <td>ACTOR</td>\n",
       "    </tr>\n",
       "    <tr>\n",
       "      <th>7</th>\n",
       "      <td>29068</td>\n",
       "      <td>tm84618</td>\n",
       "      <td>Diahnne Abbott</td>\n",
       "      <td>Concession Girl</td>\n",
       "      <td>ACTOR</td>\n",
       "    </tr>\n",
       "    <tr>\n",
       "      <th>8</th>\n",
       "      <td>519613</td>\n",
       "      <td>tm84618</td>\n",
       "      <td>Gino Ardito</td>\n",
       "      <td>Policeman at Rally</td>\n",
       "      <td>ACTOR</td>\n",
       "    </tr>\n",
       "    <tr>\n",
       "      <th>9</th>\n",
       "      <td>3308</td>\n",
       "      <td>tm84618</td>\n",
       "      <td>Martin Scorsese</td>\n",
       "      <td>Passenger Watching Silhouette</td>\n",
       "      <td>ACTOR</td>\n",
       "    </tr>\n",
       "  </tbody>\n",
       "</table>\n",
       "</div>"
      ],
      "text/plain": [
       "   person_id       id             name                      character   role\n",
       "0       3748  tm84618   Robert De Niro                  Travis Bickle  ACTOR\n",
       "1      14658  tm84618     Jodie Foster                  Iris Steensma  ACTOR\n",
       "2       7064  tm84618    Albert Brooks                            Tom  ACTOR\n",
       "3       3739  tm84618    Harvey Keitel        Matthew 'Sport' Higgins  ACTOR\n",
       "4      48933  tm84618  Cybill Shepherd                          Betsy  ACTOR\n",
       "5      32267  tm84618      Peter Boyle                         Wizard  ACTOR\n",
       "6     519612  tm84618   Leonard Harris      Senator Charles Palantine  ACTOR\n",
       "7      29068  tm84618   Diahnne Abbott                Concession Girl  ACTOR\n",
       "8     519613  tm84618      Gino Ardito             Policeman at Rally  ACTOR\n",
       "9       3308  tm84618  Martin Scorsese  Passenger Watching Silhouette  ACTOR"
      ]
     },
     "execution_count": 44,
     "metadata": {},
     "output_type": "execute_result"
    }
   ],
   "source": [
    "# head of data \n",
    "credit_df.head(10)"
   ]
  },
  {
   "cell_type": "code",
   "execution_count": 45,
   "metadata": {},
   "outputs": [
    {
     "name": "stdout",
     "output_type": "stream",
     "text": [
      "<class 'pandas.core.frame.DataFrame'>\n",
      "RangeIndex: 77801 entries, 0 to 77800\n",
      "Data columns (total 5 columns):\n",
      " #   Column     Non-Null Count  Dtype \n",
      "---  ------     --------------  ----- \n",
      " 0   person_id  77801 non-null  int64 \n",
      " 1   id         77801 non-null  object\n",
      " 2   name       77801 non-null  object\n",
      " 3   character  68029 non-null  object\n",
      " 4   role       77801 non-null  object\n",
      "dtypes: int64(1), object(4)\n",
      "memory usage: 3.0+ MB\n"
     ]
    }
   ],
   "source": [
    "# info of credits \n",
    "credit_df.info()"
   ]
  },
  {
   "cell_type": "markdown",
   "metadata": {},
   "source": [
    "There are data missing in credit df. The missing data is only in character column. Let's check the percentage of missing data"
   ]
  },
  {
   "cell_type": "code",
   "execution_count": 46,
   "metadata": {},
   "outputs": [
    {
     "name": "stdout",
     "output_type": "stream",
     "text": [
      "Percentage of missing data in character column is 0.13\n"
     ]
    }
   ],
   "source": [
    "# percentage missing \n",
    "print(f\"Percentage of missing data in character column is {credit_df['character'].isnull().sum()/len(credit_df):.2f}\")"
   ]
  },
  {
   "cell_type": "markdown",
   "metadata": {},
   "source": [
    "Since the missing data is not many, the row with missing data will be removed"
   ]
  },
  {
   "cell_type": "code",
   "execution_count": 47,
   "metadata": {},
   "outputs": [
    {
     "name": "stdout",
     "output_type": "stream",
     "text": [
      "<class 'pandas.core.frame.DataFrame'>\n",
      "Index: 68029 entries, 0 to 77799\n",
      "Data columns (total 5 columns):\n",
      " #   Column     Non-Null Count  Dtype \n",
      "---  ------     --------------  ----- \n",
      " 0   person_id  68029 non-null  int64 \n",
      " 1   id         68029 non-null  object\n",
      " 2   name       68029 non-null  object\n",
      " 3   character  68029 non-null  object\n",
      " 4   role       68029 non-null  object\n",
      "dtypes: int64(1), object(4)\n",
      "memory usage: 3.1+ MB\n"
     ]
    }
   ],
   "source": [
    "credit_df = credit_df.dropna(subset=\"character\")\n",
    "credit_df.info()"
   ]
  },
  {
   "cell_type": "markdown",
   "metadata": {},
   "source": [
    "The data has been cleaned. The next step is join the credit and title data on title id from JustWatch"
   ]
  },
  {
   "cell_type": "code",
   "execution_count": 48,
   "metadata": {},
   "outputs": [
    {
     "name": "stdout",
     "output_type": "stream",
     "text": [
      "<class 'pandas.core.frame.DataFrame'>\n",
      "Index: 64549 entries, tm84618 to tm1059008\n",
      "Data columns (total 18 columns):\n",
      " #   Column                Non-Null Count  Dtype  \n",
      "---  ------                --------------  -----  \n",
      " 0   title                 64549 non-null  object \n",
      " 1   type                  64549 non-null  object \n",
      " 2   description           64549 non-null  object \n",
      " 3   release_year          64549 non-null  int64  \n",
      " 4   age_certification     64549 non-null  object \n",
      " 5   runtime               64549 non-null  int64  \n",
      " 6   genres                64549 non-null  object \n",
      " 7   production_countries  64549 non-null  object \n",
      " 8   seasons               64549 non-null  int32  \n",
      " 9   imdb_id               64549 non-null  object \n",
      " 10  imdb_score            64549 non-null  float64\n",
      " 11  imdb_votes            64549 non-null  float64\n",
      " 12  tmdb_popularity       64549 non-null  float64\n",
      " 13  tmdb_score            64549 non-null  float64\n",
      " 14  person_id             64549 non-null  int64  \n",
      " 15  name                  64549 non-null  object \n",
      " 16  character             64549 non-null  object \n",
      " 17  role                  64549 non-null  object \n",
      "dtypes: float64(4), int32(1), int64(3), object(10)\n",
      "memory usage: 9.1+ MB\n"
     ]
    }
   ],
   "source": [
    "full_df = df.set_index('id').join(credit_df.set_index('id'), on=\"id\", how=\"inner\")\n",
    "full_df.info()"
   ]
  },
  {
   "cell_type": "code",
   "execution_count": 49,
   "metadata": {},
   "outputs": [],
   "source": [
    "# save the data into directory"
   ]
  },
  {
   "cell_type": "code",
   "execution_count": 50,
   "metadata": {},
   "outputs": [
    {
     "name": "stdout",
     "output_type": "stream",
     "text": [
      "<class 'pandas.core.frame.DataFrame'>\n",
      "Index: 5129 entries, 1 to 5849\n",
      "Data columns (total 15 columns):\n",
      " #   Column                Non-Null Count  Dtype  \n",
      "---  ------                --------------  -----  \n",
      " 0   id                    5129 non-null   object \n",
      " 1   title                 5129 non-null   object \n",
      " 2   type                  5129 non-null   object \n",
      " 3   description           5129 non-null   object \n",
      " 4   release_year          5129 non-null   int64  \n",
      " 5   age_certification     5129 non-null   object \n",
      " 6   runtime               5129 non-null   int64  \n",
      " 7   genres                5129 non-null   object \n",
      " 8   production_countries  5129 non-null   object \n",
      " 9   seasons               5129 non-null   int32  \n",
      " 10  imdb_id               5129 non-null   object \n",
      " 11  imdb_score            5129 non-null   float64\n",
      " 12  imdb_votes            5129 non-null   float64\n",
      " 13  tmdb_popularity       5129 non-null   float64\n",
      " 14  tmdb_score            5129 non-null   float64\n",
      "dtypes: float64(4), int32(1), int64(2), object(8)\n",
      "memory usage: 621.1+ KB\n"
     ]
    }
   ],
   "source": [
    "df.info()"
   ]
  },
  {
   "cell_type": "code",
   "execution_count": 51,
   "metadata": {},
   "outputs": [],
   "source": [
    "#save new file to a csv file\n",
    "credit_df.to_csv('full_data.csv')"
   ]
  }
 ],
 "metadata": {
  "kernelspec": {
   "display_name": "Python 3.9.12 ('capstone_tetris')",
   "language": "python",
   "name": "python3"
  },
  "language_info": {
   "codemirror_mode": {
    "name": "ipython",
    "version": 3
   },
   "file_extension": ".py",
   "mimetype": "text/x-python",
   "name": "python",
   "nbconvert_exporter": "python",
   "pygments_lexer": "ipython3",
   "version": "3.12.0"
  },
  "orig_nbformat": 4,
  "vscode": {
   "interpreter": {
    "hash": "81314e9f2ab84afcd35afb679b9fd61810e84839a6534551af1840c13d5b5c14"
   }
  }
 },
 "nbformat": 4,
 "nbformat_minor": 2
}
