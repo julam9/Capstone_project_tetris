{
 "cells": [
  {
   "cell_type": "code",
   "execution_count": 170,
   "metadata": {},
   "outputs": [],
   "source": [
    "import numpy as np\n",
    "import pandas as pd\n",
    "import matplotlib.pyplot as plt\n",
    "import seaborn as sns\n",
    "from wordcloud import WordCloud\n",
    "from wordcloud import ImageColorGenerator\n",
    "from wordcloud import STOPWORDS\n",
    "import plotly.graph_objects as go\n",
    "import pycountry"
   ]
  },
  {
   "cell_type": "code",
   "execution_count": 105,
   "metadata": {},
   "outputs": [],
   "source": [
    "#load dataset\n",
    "nflx = pd.read_csv('titles.csv')"
   ]
  },
  {
   "cell_type": "code",
   "execution_count": 106,
   "metadata": {},
   "outputs": [
    {
     "data": {
      "text/html": [
       "<div>\n",
       "<style scoped>\n",
       "    .dataframe tbody tr th:only-of-type {\n",
       "        vertical-align: middle;\n",
       "    }\n",
       "\n",
       "    .dataframe tbody tr th {\n",
       "        vertical-align: top;\n",
       "    }\n",
       "\n",
       "    .dataframe thead th {\n",
       "        text-align: right;\n",
       "    }\n",
       "</style>\n",
       "<table border=\"1\" class=\"dataframe\">\n",
       "  <thead>\n",
       "    <tr style=\"text-align: right;\">\n",
       "      <th></th>\n",
       "      <th>id</th>\n",
       "      <th>title</th>\n",
       "      <th>type</th>\n",
       "      <th>description</th>\n",
       "      <th>release_year</th>\n",
       "      <th>age_certification</th>\n",
       "      <th>runtime</th>\n",
       "      <th>genres</th>\n",
       "      <th>production_countries</th>\n",
       "      <th>seasons</th>\n",
       "      <th>imdb_id</th>\n",
       "      <th>imdb_score</th>\n",
       "      <th>imdb_votes</th>\n",
       "      <th>tmdb_popularity</th>\n",
       "      <th>tmdb_score</th>\n",
       "    </tr>\n",
       "  </thead>\n",
       "  <tbody>\n",
       "    <tr>\n",
       "      <th>0</th>\n",
       "      <td>ts300399</td>\n",
       "      <td>Five Came Back: The Reference Films</td>\n",
       "      <td>SHOW</td>\n",
       "      <td>This collection includes 12 World War II-era p...</td>\n",
       "      <td>1945</td>\n",
       "      <td>TV-MA</td>\n",
       "      <td>51</td>\n",
       "      <td>['documentation']</td>\n",
       "      <td>['US']</td>\n",
       "      <td>1.0</td>\n",
       "      <td>NaN</td>\n",
       "      <td>NaN</td>\n",
       "      <td>NaN</td>\n",
       "      <td>0.600</td>\n",
       "      <td>NaN</td>\n",
       "    </tr>\n",
       "    <tr>\n",
       "      <th>1</th>\n",
       "      <td>tm84618</td>\n",
       "      <td>Taxi Driver</td>\n",
       "      <td>MOVIE</td>\n",
       "      <td>A mentally unstable Vietnam War veteran works ...</td>\n",
       "      <td>1976</td>\n",
       "      <td>R</td>\n",
       "      <td>114</td>\n",
       "      <td>['drama', 'crime']</td>\n",
       "      <td>['US']</td>\n",
       "      <td>NaN</td>\n",
       "      <td>tt0075314</td>\n",
       "      <td>8.2</td>\n",
       "      <td>808582.0</td>\n",
       "      <td>40.965</td>\n",
       "      <td>8.179</td>\n",
       "    </tr>\n",
       "    <tr>\n",
       "      <th>2</th>\n",
       "      <td>tm154986</td>\n",
       "      <td>Deliverance</td>\n",
       "      <td>MOVIE</td>\n",
       "      <td>Intent on seeing the Cahulawassee River before...</td>\n",
       "      <td>1972</td>\n",
       "      <td>R</td>\n",
       "      <td>109</td>\n",
       "      <td>['drama', 'action', 'thriller', 'european']</td>\n",
       "      <td>['US']</td>\n",
       "      <td>NaN</td>\n",
       "      <td>tt0068473</td>\n",
       "      <td>7.7</td>\n",
       "      <td>107673.0</td>\n",
       "      <td>10.010</td>\n",
       "      <td>7.300</td>\n",
       "    </tr>\n",
       "    <tr>\n",
       "      <th>3</th>\n",
       "      <td>tm127384</td>\n",
       "      <td>Monty Python and the Holy Grail</td>\n",
       "      <td>MOVIE</td>\n",
       "      <td>King Arthur, accompanied by his squire, recrui...</td>\n",
       "      <td>1975</td>\n",
       "      <td>PG</td>\n",
       "      <td>91</td>\n",
       "      <td>['fantasy', 'action', 'comedy']</td>\n",
       "      <td>['GB']</td>\n",
       "      <td>NaN</td>\n",
       "      <td>tt0071853</td>\n",
       "      <td>8.2</td>\n",
       "      <td>534486.0</td>\n",
       "      <td>15.461</td>\n",
       "      <td>7.811</td>\n",
       "    </tr>\n",
       "    <tr>\n",
       "      <th>4</th>\n",
       "      <td>tm120801</td>\n",
       "      <td>The Dirty Dozen</td>\n",
       "      <td>MOVIE</td>\n",
       "      <td>12 American military prisoners in World War II...</td>\n",
       "      <td>1967</td>\n",
       "      <td>NaN</td>\n",
       "      <td>150</td>\n",
       "      <td>['war', 'action']</td>\n",
       "      <td>['GB', 'US']</td>\n",
       "      <td>NaN</td>\n",
       "      <td>tt0061578</td>\n",
       "      <td>7.7</td>\n",
       "      <td>72662.0</td>\n",
       "      <td>20.398</td>\n",
       "      <td>7.600</td>\n",
       "    </tr>\n",
       "  </tbody>\n",
       "</table>\n",
       "</div>"
      ],
      "text/plain": [
       "         id                                title   type  \\\n",
       "0  ts300399  Five Came Back: The Reference Films   SHOW   \n",
       "1   tm84618                          Taxi Driver  MOVIE   \n",
       "2  tm154986                          Deliverance  MOVIE   \n",
       "3  tm127384      Monty Python and the Holy Grail  MOVIE   \n",
       "4  tm120801                      The Dirty Dozen  MOVIE   \n",
       "\n",
       "                                         description  release_year  \\\n",
       "0  This collection includes 12 World War II-era p...          1945   \n",
       "1  A mentally unstable Vietnam War veteran works ...          1976   \n",
       "2  Intent on seeing the Cahulawassee River before...          1972   \n",
       "3  King Arthur, accompanied by his squire, recrui...          1975   \n",
       "4  12 American military prisoners in World War II...          1967   \n",
       "\n",
       "  age_certification  runtime                                       genres  \\\n",
       "0             TV-MA       51                            ['documentation']   \n",
       "1                 R      114                           ['drama', 'crime']   \n",
       "2                 R      109  ['drama', 'action', 'thriller', 'european']   \n",
       "3                PG       91              ['fantasy', 'action', 'comedy']   \n",
       "4               NaN      150                            ['war', 'action']   \n",
       "\n",
       "  production_countries  seasons    imdb_id  imdb_score  imdb_votes  \\\n",
       "0               ['US']      1.0        NaN         NaN         NaN   \n",
       "1               ['US']      NaN  tt0075314         8.2    808582.0   \n",
       "2               ['US']      NaN  tt0068473         7.7    107673.0   \n",
       "3               ['GB']      NaN  tt0071853         8.2    534486.0   \n",
       "4         ['GB', 'US']      NaN  tt0061578         7.7     72662.0   \n",
       "\n",
       "   tmdb_popularity  tmdb_score  \n",
       "0            0.600         NaN  \n",
       "1           40.965       8.179  \n",
       "2           10.010       7.300  \n",
       "3           15.461       7.811  \n",
       "4           20.398       7.600  "
      ]
     },
     "execution_count": 106,
     "metadata": {},
     "output_type": "execute_result"
    }
   ],
   "source": [
    "#head dataset\n",
    "nflx.head()"
   ]
  },
  {
   "cell_type": "code",
   "execution_count": 107,
   "metadata": {},
   "outputs": [
    {
     "name": "stdout",
     "output_type": "stream",
     "text": [
      "<class 'pandas.core.frame.DataFrame'>\n",
      "RangeIndex: 5850 entries, 0 to 5849\n",
      "Data columns (total 15 columns):\n",
      " #   Column                Non-Null Count  Dtype  \n",
      "---  ------                --------------  -----  \n",
      " 0   id                    5850 non-null   object \n",
      " 1   title                 5849 non-null   object \n",
      " 2   type                  5850 non-null   object \n",
      " 3   description           5832 non-null   object \n",
      " 4   release_year          5850 non-null   int64  \n",
      " 5   age_certification     3231 non-null   object \n",
      " 6   runtime               5850 non-null   int64  \n",
      " 7   genres                5850 non-null   object \n",
      " 8   production_countries  5850 non-null   object \n",
      " 9   seasons               2106 non-null   float64\n",
      " 10  imdb_id               5447 non-null   object \n",
      " 11  imdb_score            5368 non-null   float64\n",
      " 12  imdb_votes            5352 non-null   float64\n",
      " 13  tmdb_popularity       5759 non-null   float64\n",
      " 14  tmdb_score            5539 non-null   float64\n",
      "dtypes: float64(5), int64(2), object(8)\n",
      "memory usage: 685.7+ KB\n"
     ]
    }
   ],
   "source": [
    "#info dataset\n",
    "nflx.info()"
   ]
  },
  {
   "cell_type": "code",
   "execution_count": 108,
   "metadata": {},
   "outputs": [
    {
     "data": {
      "text/html": [
       "<div>\n",
       "<style scoped>\n",
       "    .dataframe tbody tr th:only-of-type {\n",
       "        vertical-align: middle;\n",
       "    }\n",
       "\n",
       "    .dataframe tbody tr th {\n",
       "        vertical-align: top;\n",
       "    }\n",
       "\n",
       "    .dataframe thead th {\n",
       "        text-align: right;\n",
       "    }\n",
       "</style>\n",
       "<table border=\"1\" class=\"dataframe\">\n",
       "  <thead>\n",
       "    <tr style=\"text-align: right;\">\n",
       "      <th></th>\n",
       "      <th>release_year</th>\n",
       "      <th>runtime</th>\n",
       "      <th>seasons</th>\n",
       "      <th>imdb_score</th>\n",
       "      <th>imdb_votes</th>\n",
       "      <th>tmdb_popularity</th>\n",
       "      <th>tmdb_score</th>\n",
       "    </tr>\n",
       "  </thead>\n",
       "  <tbody>\n",
       "    <tr>\n",
       "      <th>count</th>\n",
       "      <td>5850.000000</td>\n",
       "      <td>5850.000000</td>\n",
       "      <td>2106.000000</td>\n",
       "      <td>5368.000000</td>\n",
       "      <td>5.352000e+03</td>\n",
       "      <td>5759.000000</td>\n",
       "      <td>5539.000000</td>\n",
       "    </tr>\n",
       "    <tr>\n",
       "      <th>mean</th>\n",
       "      <td>2016.417094</td>\n",
       "      <td>76.888889</td>\n",
       "      <td>2.162868</td>\n",
       "      <td>6.510861</td>\n",
       "      <td>2.343938e+04</td>\n",
       "      <td>22.637925</td>\n",
       "      <td>6.829175</td>\n",
       "    </tr>\n",
       "    <tr>\n",
       "      <th>std</th>\n",
       "      <td>6.937726</td>\n",
       "      <td>39.002509</td>\n",
       "      <td>2.689041</td>\n",
       "      <td>1.163826</td>\n",
       "      <td>9.582047e+04</td>\n",
       "      <td>81.680263</td>\n",
       "      <td>1.170391</td>\n",
       "    </tr>\n",
       "    <tr>\n",
       "      <th>min</th>\n",
       "      <td>1945.000000</td>\n",
       "      <td>0.000000</td>\n",
       "      <td>1.000000</td>\n",
       "      <td>1.500000</td>\n",
       "      <td>5.000000e+00</td>\n",
       "      <td>0.009442</td>\n",
       "      <td>0.500000</td>\n",
       "    </tr>\n",
       "    <tr>\n",
       "      <th>25%</th>\n",
       "      <td>2016.000000</td>\n",
       "      <td>44.000000</td>\n",
       "      <td>1.000000</td>\n",
       "      <td>5.800000</td>\n",
       "      <td>5.167500e+02</td>\n",
       "      <td>2.728500</td>\n",
       "      <td>6.100000</td>\n",
       "    </tr>\n",
       "    <tr>\n",
       "      <th>50%</th>\n",
       "      <td>2018.000000</td>\n",
       "      <td>83.000000</td>\n",
       "      <td>1.000000</td>\n",
       "      <td>6.600000</td>\n",
       "      <td>2.233500e+03</td>\n",
       "      <td>6.821000</td>\n",
       "      <td>6.900000</td>\n",
       "    </tr>\n",
       "    <tr>\n",
       "      <th>75%</th>\n",
       "      <td>2020.000000</td>\n",
       "      <td>104.000000</td>\n",
       "      <td>2.000000</td>\n",
       "      <td>7.300000</td>\n",
       "      <td>9.494000e+03</td>\n",
       "      <td>16.590000</td>\n",
       "      <td>7.537500</td>\n",
       "    </tr>\n",
       "    <tr>\n",
       "      <th>max</th>\n",
       "      <td>2022.000000</td>\n",
       "      <td>240.000000</td>\n",
       "      <td>42.000000</td>\n",
       "      <td>9.600000</td>\n",
       "      <td>2.294231e+06</td>\n",
       "      <td>2274.044000</td>\n",
       "      <td>10.000000</td>\n",
       "    </tr>\n",
       "  </tbody>\n",
       "</table>\n",
       "</div>"
      ],
      "text/plain": [
       "       release_year      runtime      seasons   imdb_score    imdb_votes  \\\n",
       "count   5850.000000  5850.000000  2106.000000  5368.000000  5.352000e+03   \n",
       "mean    2016.417094    76.888889     2.162868     6.510861  2.343938e+04   \n",
       "std        6.937726    39.002509     2.689041     1.163826  9.582047e+04   \n",
       "min     1945.000000     0.000000     1.000000     1.500000  5.000000e+00   \n",
       "25%     2016.000000    44.000000     1.000000     5.800000  5.167500e+02   \n",
       "50%     2018.000000    83.000000     1.000000     6.600000  2.233500e+03   \n",
       "75%     2020.000000   104.000000     2.000000     7.300000  9.494000e+03   \n",
       "max     2022.000000   240.000000    42.000000     9.600000  2.294231e+06   \n",
       "\n",
       "       tmdb_popularity   tmdb_score  \n",
       "count      5759.000000  5539.000000  \n",
       "mean         22.637925     6.829175  \n",
       "std          81.680263     1.170391  \n",
       "min           0.009442     0.500000  \n",
       "25%           2.728500     6.100000  \n",
       "50%           6.821000     6.900000  \n",
       "75%          16.590000     7.537500  \n",
       "max        2274.044000    10.000000  "
      ]
     },
     "execution_count": 108,
     "metadata": {},
     "output_type": "execute_result"
    }
   ],
   "source": [
    "#some statistics of dataset\n",
    "nflx.describe()"
   ]
  },
  {
   "cell_type": "code",
   "execution_count": 109,
   "metadata": {},
   "outputs": [
    {
     "data": {
      "text/plain": [
       "id                         0\n",
       "title                      1\n",
       "type                       0\n",
       "description               18\n",
       "release_year               0\n",
       "age_certification       2619\n",
       "runtime                    0\n",
       "genres                     0\n",
       "production_countries       0\n",
       "seasons                 3744\n",
       "imdb_id                  403\n",
       "imdb_score               482\n",
       "imdb_votes               498\n",
       "tmdb_popularity           91\n",
       "tmdb_score               311\n",
       "dtype: int64"
      ]
     },
     "execution_count": 109,
     "metadata": {},
     "output_type": "execute_result"
    }
   ],
   "source": [
    "#Check the missing value\n",
    "nflx.isnull().sum()"
   ]
  },
  {
   "cell_type": "markdown",
   "metadata": {},
   "source": [
    "# Dealing with missing value"
   ]
  },
  {
   "cell_type": "markdown",
   "metadata": {},
   "source": [
    "Title"
   ]
  },
  {
   "cell_type": "code",
   "execution_count": 110,
   "metadata": {},
   "outputs": [
    {
     "data": {
      "text/html": [
       "<div>\n",
       "<style scoped>\n",
       "    .dataframe tbody tr th:only-of-type {\n",
       "        vertical-align: middle;\n",
       "    }\n",
       "\n",
       "    .dataframe tbody tr th {\n",
       "        vertical-align: top;\n",
       "    }\n",
       "\n",
       "    .dataframe thead th {\n",
       "        text-align: right;\n",
       "    }\n",
       "</style>\n",
       "<table border=\"1\" class=\"dataframe\">\n",
       "  <thead>\n",
       "    <tr style=\"text-align: right;\">\n",
       "      <th></th>\n",
       "      <th>id</th>\n",
       "      <th>title</th>\n",
       "      <th>type</th>\n",
       "      <th>description</th>\n",
       "      <th>release_year</th>\n",
       "      <th>age_certification</th>\n",
       "      <th>runtime</th>\n",
       "      <th>genres</th>\n",
       "      <th>production_countries</th>\n",
       "      <th>seasons</th>\n",
       "      <th>imdb_id</th>\n",
       "      <th>imdb_score</th>\n",
       "      <th>imdb_votes</th>\n",
       "      <th>tmdb_popularity</th>\n",
       "      <th>tmdb_score</th>\n",
       "    </tr>\n",
       "  </thead>\n",
       "  <tbody>\n",
       "    <tr>\n",
       "      <th>1704</th>\n",
       "      <td>tm1063792</td>\n",
       "      <td>NaN</td>\n",
       "      <td>MOVIE</td>\n",
       "      <td>NaN</td>\n",
       "      <td>2015</td>\n",
       "      <td>NaN</td>\n",
       "      <td>11</td>\n",
       "      <td>[]</td>\n",
       "      <td>[]</td>\n",
       "      <td>NaN</td>\n",
       "      <td>tt4661188</td>\n",
       "      <td>NaN</td>\n",
       "      <td>NaN</td>\n",
       "      <td>NaN</td>\n",
       "      <td>NaN</td>\n",
       "    </tr>\n",
       "  </tbody>\n",
       "</table>\n",
       "</div>"
      ],
      "text/plain": [
       "             id title   type description  release_year age_certification  \\\n",
       "1704  tm1063792   NaN  MOVIE         NaN          2015               NaN   \n",
       "\n",
       "      runtime genres production_countries  seasons    imdb_id  imdb_score  \\\n",
       "1704       11     []                   []      NaN  tt4661188         NaN   \n",
       "\n",
       "      imdb_votes  tmdb_popularity  tmdb_score  \n",
       "1704         NaN              NaN         NaN  "
      ]
     },
     "execution_count": 110,
     "metadata": {},
     "output_type": "execute_result"
    }
   ],
   "source": [
    "nflx2 = nflx\n",
    "nflx2[nflx2['title'].isnull()]"
   ]
  },
  {
   "cell_type": "code",
   "execution_count": 111,
   "metadata": {},
   "outputs": [],
   "source": [
    "#Since only few information avaible and the missing data only 1, data with missing title will be removed\n",
    "nflx2.dropna(subset=['title'], inplace=True)"
   ]
  },
  {
   "cell_type": "markdown",
   "metadata": {},
   "source": [
    "Description"
   ]
  },
  {
   "cell_type": "code",
   "execution_count": 112,
   "metadata": {},
   "outputs": [
    {
     "data": {
      "text/html": [
       "<div>\n",
       "<style scoped>\n",
       "    .dataframe tbody tr th:only-of-type {\n",
       "        vertical-align: middle;\n",
       "    }\n",
       "\n",
       "    .dataframe tbody tr th {\n",
       "        vertical-align: top;\n",
       "    }\n",
       "\n",
       "    .dataframe thead th {\n",
       "        text-align: right;\n",
       "    }\n",
       "</style>\n",
       "<table border=\"1\" class=\"dataframe\">\n",
       "  <thead>\n",
       "    <tr style=\"text-align: right;\">\n",
       "      <th></th>\n",
       "      <th>id</th>\n",
       "      <th>title</th>\n",
       "      <th>type</th>\n",
       "      <th>description</th>\n",
       "      <th>release_year</th>\n",
       "      <th>age_certification</th>\n",
       "      <th>runtime</th>\n",
       "      <th>genres</th>\n",
       "      <th>production_countries</th>\n",
       "      <th>seasons</th>\n",
       "      <th>imdb_id</th>\n",
       "      <th>imdb_score</th>\n",
       "      <th>imdb_votes</th>\n",
       "      <th>tmdb_popularity</th>\n",
       "      <th>tmdb_score</th>\n",
       "    </tr>\n",
       "  </thead>\n",
       "  <tbody>\n",
       "    <tr>\n",
       "      <th>1111</th>\n",
       "      <td>ts271005</td>\n",
       "      <td>幸福料理</td>\n",
       "      <td>SHOW</td>\n",
       "      <td>NaN</td>\n",
       "      <td>2014</td>\n",
       "      <td>TV-14</td>\n",
       "      <td>44</td>\n",
       "      <td>[]</td>\n",
       "      <td>[]</td>\n",
       "      <td>1.0</td>\n",
       "      <td>NaN</td>\n",
       "      <td>NaN</td>\n",
       "      <td>NaN</td>\n",
       "      <td>0.600</td>\n",
       "      <td>NaN</td>\n",
       "    </tr>\n",
       "    <tr>\n",
       "      <th>1114</th>\n",
       "      <td>tm681614</td>\n",
       "      <td>Grandmother's Farm</td>\n",
       "      <td>MOVIE</td>\n",
       "      <td>NaN</td>\n",
       "      <td>2013</td>\n",
       "      <td>NaN</td>\n",
       "      <td>71</td>\n",
       "      <td>['comedy', 'horror']</td>\n",
       "      <td>[]</td>\n",
       "      <td>NaN</td>\n",
       "      <td>tt10033686</td>\n",
       "      <td>2.9</td>\n",
       "      <td>78.0</td>\n",
       "      <td>NaN</td>\n",
       "      <td>NaN</td>\n",
       "    </tr>\n",
       "    <tr>\n",
       "      <th>2105</th>\n",
       "      <td>ts82770</td>\n",
       "      <td>Camarón Revolution</td>\n",
       "      <td>SHOW</td>\n",
       "      <td>NaN</td>\n",
       "      <td>2018</td>\n",
       "      <td>TV-14</td>\n",
       "      <td>52</td>\n",
       "      <td>['documentation', 'reality']</td>\n",
       "      <td>['ES']</td>\n",
       "      <td>1.0</td>\n",
       "      <td>NaN</td>\n",
       "      <td>NaN</td>\n",
       "      <td>NaN</td>\n",
       "      <td>1.290</td>\n",
       "      <td>7.0</td>\n",
       "    </tr>\n",
       "    <tr>\n",
       "      <th>2189</th>\n",
       "      <td>ts82375</td>\n",
       "      <td>Beyblade Burst Turbo</td>\n",
       "      <td>SHOW</td>\n",
       "      <td>NaN</td>\n",
       "      <td>2018</td>\n",
       "      <td>TV-Y7</td>\n",
       "      <td>22</td>\n",
       "      <td>['scifi', 'action']</td>\n",
       "      <td>['JP']</td>\n",
       "      <td>1.0</td>\n",
       "      <td>NaN</td>\n",
       "      <td>NaN</td>\n",
       "      <td>NaN</td>\n",
       "      <td>0.600</td>\n",
       "      <td>0.5</td>\n",
       "    </tr>\n",
       "    <tr>\n",
       "      <th>2485</th>\n",
       "      <td>ts268283</td>\n",
       "      <td>RIDE ON TIME</td>\n",
       "      <td>SHOW</td>\n",
       "      <td>NaN</td>\n",
       "      <td>2018</td>\n",
       "      <td>TV-PG</td>\n",
       "      <td>22</td>\n",
       "      <td>[]</td>\n",
       "      <td>['JP']</td>\n",
       "      <td>3.0</td>\n",
       "      <td>NaN</td>\n",
       "      <td>NaN</td>\n",
       "      <td>NaN</td>\n",
       "      <td>1.328</td>\n",
       "      <td>NaN</td>\n",
       "    </tr>\n",
       "    <tr>\n",
       "      <th>2754</th>\n",
       "      <td>ts106612</td>\n",
       "      <td>Chicken Soup for the Soul's Being Dad</td>\n",
       "      <td>SHOW</td>\n",
       "      <td>NaN</td>\n",
       "      <td>2018</td>\n",
       "      <td>TV-PG</td>\n",
       "      <td>40</td>\n",
       "      <td>['reality']</td>\n",
       "      <td>[]</td>\n",
       "      <td>1.0</td>\n",
       "      <td>tt8908110</td>\n",
       "      <td>NaN</td>\n",
       "      <td>NaN</td>\n",
       "      <td>NaN</td>\n",
       "      <td>NaN</td>\n",
       "    </tr>\n",
       "    <tr>\n",
       "      <th>2798</th>\n",
       "      <td>tm407349</td>\n",
       "      <td>The Birth Reborn 2</td>\n",
       "      <td>MOVIE</td>\n",
       "      <td>NaN</td>\n",
       "      <td>2018</td>\n",
       "      <td>PG</td>\n",
       "      <td>91</td>\n",
       "      <td>['documentation']</td>\n",
       "      <td>['BR']</td>\n",
       "      <td>NaN</td>\n",
       "      <td>tt16114198</td>\n",
       "      <td>6.6</td>\n",
       "      <td>5.0</td>\n",
       "      <td>1.400</td>\n",
       "      <td>5.8</td>\n",
       "    </tr>\n",
       "    <tr>\n",
       "      <th>3700</th>\n",
       "      <td>ts312044</td>\n",
       "      <td>Beyblade Burst Surge</td>\n",
       "      <td>SHOW</td>\n",
       "      <td>NaN</td>\n",
       "      <td>2020</td>\n",
       "      <td>TV-Y</td>\n",
       "      <td>23</td>\n",
       "      <td>['animation']</td>\n",
       "      <td>['JP']</td>\n",
       "      <td>1.0</td>\n",
       "      <td>tt18554728</td>\n",
       "      <td>8.3</td>\n",
       "      <td>30.0</td>\n",
       "      <td>7.501</td>\n",
       "      <td>9.7</td>\n",
       "    </tr>\n",
       "    <tr>\n",
       "      <th>4110</th>\n",
       "      <td>ts223062</td>\n",
       "      <td>ปริศนาล่าข้ามเวลา</td>\n",
       "      <td>SHOW</td>\n",
       "      <td>NaN</td>\n",
       "      <td>2019</td>\n",
       "      <td>TV-14</td>\n",
       "      <td>60</td>\n",
       "      <td>[]</td>\n",
       "      <td>['TH']</td>\n",
       "      <td>1.0</td>\n",
       "      <td>NaN</td>\n",
       "      <td>NaN</td>\n",
       "      <td>NaN</td>\n",
       "      <td>1.473</td>\n",
       "      <td>7.0</td>\n",
       "    </tr>\n",
       "    <tr>\n",
       "      <th>4274</th>\n",
       "      <td>tm1172010</td>\n",
       "      <td>The Lockdown Plan</td>\n",
       "      <td>MOVIE</td>\n",
       "      <td>NaN</td>\n",
       "      <td>2020</td>\n",
       "      <td>NaN</td>\n",
       "      <td>49</td>\n",
       "      <td>[]</td>\n",
       "      <td>[]</td>\n",
       "      <td>NaN</td>\n",
       "      <td>tt13079112</td>\n",
       "      <td>6.5</td>\n",
       "      <td>NaN</td>\n",
       "      <td>NaN</td>\n",
       "      <td>NaN</td>\n",
       "    </tr>\n",
       "    <tr>\n",
       "      <th>4358</th>\n",
       "      <td>ts255867</td>\n",
       "      <td>뽀로로 동화나라</td>\n",
       "      <td>SHOW</td>\n",
       "      <td>NaN</td>\n",
       "      <td>2020</td>\n",
       "      <td>TV-Y</td>\n",
       "      <td>14</td>\n",
       "      <td>['animation']</td>\n",
       "      <td>['KR']</td>\n",
       "      <td>1.0</td>\n",
       "      <td>NaN</td>\n",
       "      <td>NaN</td>\n",
       "      <td>NaN</td>\n",
       "      <td>0.600</td>\n",
       "      <td>NaN</td>\n",
       "    </tr>\n",
       "    <tr>\n",
       "      <th>4552</th>\n",
       "      <td>tm896976</td>\n",
       "      <td>True: Rainbow Rescue</td>\n",
       "      <td>MOVIE</td>\n",
       "      <td>NaN</td>\n",
       "      <td>2020</td>\n",
       "      <td>NaN</td>\n",
       "      <td>23</td>\n",
       "      <td>['animation']</td>\n",
       "      <td>['US']</td>\n",
       "      <td>NaN</td>\n",
       "      <td>NaN</td>\n",
       "      <td>NaN</td>\n",
       "      <td>NaN</td>\n",
       "      <td>2.410</td>\n",
       "      <td>10.0</td>\n",
       "    </tr>\n",
       "    <tr>\n",
       "      <th>4581</th>\n",
       "      <td>tm840152</td>\n",
       "      <td>Amsterdam to Anatolia</td>\n",
       "      <td>MOVIE</td>\n",
       "      <td>NaN</td>\n",
       "      <td>2019</td>\n",
       "      <td>NaN</td>\n",
       "      <td>6</td>\n",
       "      <td>['thriller', 'drama']</td>\n",
       "      <td>['NL', 'PS', 'US', 'LB']</td>\n",
       "      <td>NaN</td>\n",
       "      <td>NaN</td>\n",
       "      <td>NaN</td>\n",
       "      <td>NaN</td>\n",
       "      <td>1.017</td>\n",
       "      <td>6.0</td>\n",
       "    </tr>\n",
       "    <tr>\n",
       "      <th>4606</th>\n",
       "      <td>tm855232</td>\n",
       "      <td>Luccas Neto in: The End of Christmas</td>\n",
       "      <td>MOVIE</td>\n",
       "      <td>NaN</td>\n",
       "      <td>2019</td>\n",
       "      <td>NaN</td>\n",
       "      <td>71</td>\n",
       "      <td>[]</td>\n",
       "      <td>[]</td>\n",
       "      <td>NaN</td>\n",
       "      <td>NaN</td>\n",
       "      <td>NaN</td>\n",
       "      <td>NaN</td>\n",
       "      <td>1.603</td>\n",
       "      <td>7.8</td>\n",
       "    </tr>\n",
       "    <tr>\n",
       "      <th>4668</th>\n",
       "      <td>tm902993</td>\n",
       "      <td>Mama Drama</td>\n",
       "      <td>MOVIE</td>\n",
       "      <td>NaN</td>\n",
       "      <td>2020</td>\n",
       "      <td>NaN</td>\n",
       "      <td>85</td>\n",
       "      <td>['drama']</td>\n",
       "      <td>['US']</td>\n",
       "      <td>NaN</td>\n",
       "      <td>tt12424356</td>\n",
       "      <td>6.3</td>\n",
       "      <td>8.0</td>\n",
       "      <td>NaN</td>\n",
       "      <td>NaN</td>\n",
       "    </tr>\n",
       "    <tr>\n",
       "      <th>4675</th>\n",
       "      <td>ts304136</td>\n",
       "      <td>마법버스 타요</td>\n",
       "      <td>SHOW</td>\n",
       "      <td>NaN</td>\n",
       "      <td>2020</td>\n",
       "      <td>TV-Y7</td>\n",
       "      <td>24</td>\n",
       "      <td>[]</td>\n",
       "      <td>['KR']</td>\n",
       "      <td>1.0</td>\n",
       "      <td>NaN</td>\n",
       "      <td>NaN</td>\n",
       "      <td>NaN</td>\n",
       "      <td>0.600</td>\n",
       "      <td>NaN</td>\n",
       "    </tr>\n",
       "    <tr>\n",
       "      <th>5483</th>\n",
       "      <td>tm1237253</td>\n",
       "      <td>My Little Pony: A New Generation: Sing-Along</td>\n",
       "      <td>MOVIE</td>\n",
       "      <td>NaN</td>\n",
       "      <td>2022</td>\n",
       "      <td>NaN</td>\n",
       "      <td>90</td>\n",
       "      <td>[]</td>\n",
       "      <td>[]</td>\n",
       "      <td>NaN</td>\n",
       "      <td>NaN</td>\n",
       "      <td>NaN</td>\n",
       "      <td>NaN</td>\n",
       "      <td>NaN</td>\n",
       "      <td>NaN</td>\n",
       "    </tr>\n",
       "  </tbody>\n",
       "</table>\n",
       "</div>"
      ],
      "text/plain": [
       "             id                                         title   type  \\\n",
       "1111   ts271005                                          幸福料理   SHOW   \n",
       "1114   tm681614                            Grandmother's Farm  MOVIE   \n",
       "2105    ts82770                            Camarón Revolution   SHOW   \n",
       "2189    ts82375                          Beyblade Burst Turbo   SHOW   \n",
       "2485   ts268283                                  RIDE ON TIME   SHOW   \n",
       "2754   ts106612         Chicken Soup for the Soul's Being Dad   SHOW   \n",
       "2798   tm407349                            The Birth Reborn 2  MOVIE   \n",
       "3700   ts312044                          Beyblade Burst Surge   SHOW   \n",
       "4110   ts223062                             ปริศนาล่าข้ามเวลา   SHOW   \n",
       "4274  tm1172010                             The Lockdown Plan  MOVIE   \n",
       "4358   ts255867                                      뽀로로 동화나라   SHOW   \n",
       "4552   tm896976                          True: Rainbow Rescue  MOVIE   \n",
       "4581   tm840152                         Amsterdam to Anatolia  MOVIE   \n",
       "4606   tm855232          Luccas Neto in: The End of Christmas  MOVIE   \n",
       "4668   tm902993                                    Mama Drama  MOVIE   \n",
       "4675   ts304136                                       마법버스 타요   SHOW   \n",
       "5483  tm1237253  My Little Pony: A New Generation: Sing-Along  MOVIE   \n",
       "\n",
       "     description  release_year age_certification  runtime  \\\n",
       "1111         NaN          2014             TV-14       44   \n",
       "1114         NaN          2013               NaN       71   \n",
       "2105         NaN          2018             TV-14       52   \n",
       "2189         NaN          2018             TV-Y7       22   \n",
       "2485         NaN          2018             TV-PG       22   \n",
       "2754         NaN          2018             TV-PG       40   \n",
       "2798         NaN          2018                PG       91   \n",
       "3700         NaN          2020              TV-Y       23   \n",
       "4110         NaN          2019             TV-14       60   \n",
       "4274         NaN          2020               NaN       49   \n",
       "4358         NaN          2020              TV-Y       14   \n",
       "4552         NaN          2020               NaN       23   \n",
       "4581         NaN          2019               NaN        6   \n",
       "4606         NaN          2019               NaN       71   \n",
       "4668         NaN          2020               NaN       85   \n",
       "4675         NaN          2020             TV-Y7       24   \n",
       "5483         NaN          2022               NaN       90   \n",
       "\n",
       "                            genres      production_countries  seasons  \\\n",
       "1111                            []                        []      1.0   \n",
       "1114          ['comedy', 'horror']                        []      NaN   \n",
       "2105  ['documentation', 'reality']                    ['ES']      1.0   \n",
       "2189           ['scifi', 'action']                    ['JP']      1.0   \n",
       "2485                            []                    ['JP']      3.0   \n",
       "2754                   ['reality']                        []      1.0   \n",
       "2798             ['documentation']                    ['BR']      NaN   \n",
       "3700                 ['animation']                    ['JP']      1.0   \n",
       "4110                            []                    ['TH']      1.0   \n",
       "4274                            []                        []      NaN   \n",
       "4358                 ['animation']                    ['KR']      1.0   \n",
       "4552                 ['animation']                    ['US']      NaN   \n",
       "4581         ['thriller', 'drama']  ['NL', 'PS', 'US', 'LB']      NaN   \n",
       "4606                            []                        []      NaN   \n",
       "4668                     ['drama']                    ['US']      NaN   \n",
       "4675                            []                    ['KR']      1.0   \n",
       "5483                            []                        []      NaN   \n",
       "\n",
       "         imdb_id  imdb_score  imdb_votes  tmdb_popularity  tmdb_score  \n",
       "1111         NaN         NaN         NaN            0.600         NaN  \n",
       "1114  tt10033686         2.9        78.0              NaN         NaN  \n",
       "2105         NaN         NaN         NaN            1.290         7.0  \n",
       "2189         NaN         NaN         NaN            0.600         0.5  \n",
       "2485         NaN         NaN         NaN            1.328         NaN  \n",
       "2754   tt8908110         NaN         NaN              NaN         NaN  \n",
       "2798  tt16114198         6.6         5.0            1.400         5.8  \n",
       "3700  tt18554728         8.3        30.0            7.501         9.7  \n",
       "4110         NaN         NaN         NaN            1.473         7.0  \n",
       "4274  tt13079112         6.5         NaN              NaN         NaN  \n",
       "4358         NaN         NaN         NaN            0.600         NaN  \n",
       "4552         NaN         NaN         NaN            2.410        10.0  \n",
       "4581         NaN         NaN         NaN            1.017         6.0  \n",
       "4606         NaN         NaN         NaN            1.603         7.8  \n",
       "4668  tt12424356         6.3         8.0              NaN         NaN  \n",
       "4675         NaN         NaN         NaN            0.600         NaN  \n",
       "5483         NaN         NaN         NaN              NaN         NaN  "
      ]
     },
     "execution_count": 112,
     "metadata": {},
     "output_type": "execute_result"
    }
   ],
   "source": [
    "nflx2[nflx2['description'].isnull()]"
   ]
  },
  {
   "cell_type": "code",
   "execution_count": 114,
   "metadata": {},
   "outputs": [],
   "source": [
    "#Since description is hard to imputed and only few data with missing description, the data with missing description will be removed\n",
    "nflx2.dropna(subset=['description'], inplace=True)"
   ]
  },
  {
   "cell_type": "markdown",
   "metadata": {},
   "source": [
    "Age certification"
   ]
  },
  {
   "cell_type": "code",
   "execution_count": 115,
   "metadata": {},
   "outputs": [
    {
     "data": {
      "text/html": [
       "<div>\n",
       "<style scoped>\n",
       "    .dataframe tbody tr th:only-of-type {\n",
       "        vertical-align: middle;\n",
       "    }\n",
       "\n",
       "    .dataframe tbody tr th {\n",
       "        vertical-align: top;\n",
       "    }\n",
       "\n",
       "    .dataframe thead th {\n",
       "        text-align: right;\n",
       "    }\n",
       "</style>\n",
       "<table border=\"1\" class=\"dataframe\">\n",
       "  <thead>\n",
       "    <tr style=\"text-align: right;\">\n",
       "      <th></th>\n",
       "      <th>id</th>\n",
       "      <th>title</th>\n",
       "      <th>type</th>\n",
       "      <th>description</th>\n",
       "      <th>release_year</th>\n",
       "      <th>age_certification</th>\n",
       "      <th>runtime</th>\n",
       "      <th>genres</th>\n",
       "      <th>production_countries</th>\n",
       "      <th>seasons</th>\n",
       "      <th>imdb_id</th>\n",
       "      <th>imdb_score</th>\n",
       "      <th>imdb_votes</th>\n",
       "      <th>tmdb_popularity</th>\n",
       "      <th>tmdb_score</th>\n",
       "    </tr>\n",
       "  </thead>\n",
       "  <tbody>\n",
       "    <tr>\n",
       "      <th>4</th>\n",
       "      <td>tm120801</td>\n",
       "      <td>The Dirty Dozen</td>\n",
       "      <td>MOVIE</td>\n",
       "      <td>12 American military prisoners in World War II...</td>\n",
       "      <td>1967</td>\n",
       "      <td>NaN</td>\n",
       "      <td>150</td>\n",
       "      <td>['war', 'action']</td>\n",
       "      <td>['GB', 'US']</td>\n",
       "      <td>NaN</td>\n",
       "      <td>tt0061578</td>\n",
       "      <td>7.7</td>\n",
       "      <td>72662.0</td>\n",
       "      <td>20.398</td>\n",
       "      <td>7.6</td>\n",
       "    </tr>\n",
       "    <tr>\n",
       "      <th>10</th>\n",
       "      <td>tm44204</td>\n",
       "      <td>The Guns of Navarone</td>\n",
       "      <td>MOVIE</td>\n",
       "      <td>A team of allied saboteurs are assigned an imp...</td>\n",
       "      <td>1961</td>\n",
       "      <td>NaN</td>\n",
       "      <td>158</td>\n",
       "      <td>['action', 'drama', 'war']</td>\n",
       "      <td>['GB', 'US']</td>\n",
       "      <td>NaN</td>\n",
       "      <td>tt0054953</td>\n",
       "      <td>7.5</td>\n",
       "      <td>50748.0</td>\n",
       "      <td>13.844</td>\n",
       "      <td>7.3</td>\n",
       "    </tr>\n",
       "    <tr>\n",
       "      <th>13</th>\n",
       "      <td>tm16479</td>\n",
       "      <td>White Christmas</td>\n",
       "      <td>MOVIE</td>\n",
       "      <td>Two talented song-and-dance men team up after ...</td>\n",
       "      <td>1954</td>\n",
       "      <td>NaN</td>\n",
       "      <td>115</td>\n",
       "      <td>['romance', 'comedy']</td>\n",
       "      <td>['US']</td>\n",
       "      <td>NaN</td>\n",
       "      <td>tt0047673</td>\n",
       "      <td>7.5</td>\n",
       "      <td>42488.0</td>\n",
       "      <td>8.915</td>\n",
       "      <td>7.2</td>\n",
       "    </tr>\n",
       "    <tr>\n",
       "      <th>14</th>\n",
       "      <td>tm135083</td>\n",
       "      <td>Cairo Station</td>\n",
       "      <td>MOVIE</td>\n",
       "      <td>Qinawi, a physically challenged peddler who ma...</td>\n",
       "      <td>1958</td>\n",
       "      <td>NaN</td>\n",
       "      <td>77</td>\n",
       "      <td>['drama', 'crime', 'comedy']</td>\n",
       "      <td>['EG']</td>\n",
       "      <td>NaN</td>\n",
       "      <td>tt0051390</td>\n",
       "      <td>7.5</td>\n",
       "      <td>4471.0</td>\n",
       "      <td>5.546</td>\n",
       "      <td>7.3</td>\n",
       "    </tr>\n",
       "    <tr>\n",
       "      <th>17</th>\n",
       "      <td>tm14350</td>\n",
       "      <td>Alexandria… Why?</td>\n",
       "      <td>MOVIE</td>\n",
       "      <td>Set against the panoramic backdrop of war-torn...</td>\n",
       "      <td>1979</td>\n",
       "      <td>NaN</td>\n",
       "      <td>133</td>\n",
       "      <td>['drama']</td>\n",
       "      <td>['EG']</td>\n",
       "      <td>NaN</td>\n",
       "      <td>tt0077751</td>\n",
       "      <td>7.2</td>\n",
       "      <td>1727.0</td>\n",
       "      <td>1.370</td>\n",
       "      <td>6.0</td>\n",
       "    </tr>\n",
       "    <tr>\n",
       "      <th>...</th>\n",
       "      <td>...</td>\n",
       "      <td>...</td>\n",
       "      <td>...</td>\n",
       "      <td>...</td>\n",
       "      <td>...</td>\n",
       "      <td>...</td>\n",
       "      <td>...</td>\n",
       "      <td>...</td>\n",
       "      <td>...</td>\n",
       "      <td>...</td>\n",
       "      <td>...</td>\n",
       "      <td>...</td>\n",
       "      <td>...</td>\n",
       "      <td>...</td>\n",
       "      <td>...</td>\n",
       "    </tr>\n",
       "    <tr>\n",
       "      <th>5844</th>\n",
       "      <td>tm1074617</td>\n",
       "      <td>Bling Empire - The Afterparty</td>\n",
       "      <td>MOVIE</td>\n",
       "      <td>The stars of \"Bling Empire\" discuss the show's...</td>\n",
       "      <td>2021</td>\n",
       "      <td>NaN</td>\n",
       "      <td>35</td>\n",
       "      <td>[]</td>\n",
       "      <td>['US']</td>\n",
       "      <td>NaN</td>\n",
       "      <td>NaN</td>\n",
       "      <td>NaN</td>\n",
       "      <td>NaN</td>\n",
       "      <td>NaN</td>\n",
       "      <td>NaN</td>\n",
       "    </tr>\n",
       "    <tr>\n",
       "      <th>5845</th>\n",
       "      <td>tm1014599</td>\n",
       "      <td>Fine Wine</td>\n",
       "      <td>MOVIE</td>\n",
       "      <td>A beautiful love story that can happen between...</td>\n",
       "      <td>2021</td>\n",
       "      <td>NaN</td>\n",
       "      <td>100</td>\n",
       "      <td>['romance', 'drama']</td>\n",
       "      <td>['NG']</td>\n",
       "      <td>NaN</td>\n",
       "      <td>tt13857480</td>\n",
       "      <td>6.8</td>\n",
       "      <td>45.0</td>\n",
       "      <td>1.466</td>\n",
       "      <td>NaN</td>\n",
       "    </tr>\n",
       "    <tr>\n",
       "      <th>5846</th>\n",
       "      <td>tm898842</td>\n",
       "      <td>C/O Kaadhal</td>\n",
       "      <td>MOVIE</td>\n",
       "      <td>A heart warming film that explores the concept...</td>\n",
       "      <td>2021</td>\n",
       "      <td>NaN</td>\n",
       "      <td>134</td>\n",
       "      <td>['drama']</td>\n",
       "      <td>[]</td>\n",
       "      <td>NaN</td>\n",
       "      <td>tt11803618</td>\n",
       "      <td>7.7</td>\n",
       "      <td>348.0</td>\n",
       "      <td>NaN</td>\n",
       "      <td>NaN</td>\n",
       "    </tr>\n",
       "    <tr>\n",
       "      <th>5847</th>\n",
       "      <td>tm1059008</td>\n",
       "      <td>Lokillo</td>\n",
       "      <td>MOVIE</td>\n",
       "      <td>A controversial TV host and comedian who has b...</td>\n",
       "      <td>2021</td>\n",
       "      <td>NaN</td>\n",
       "      <td>90</td>\n",
       "      <td>['comedy']</td>\n",
       "      <td>['CO']</td>\n",
       "      <td>NaN</td>\n",
       "      <td>tt14585902</td>\n",
       "      <td>3.8</td>\n",
       "      <td>68.0</td>\n",
       "      <td>26.005</td>\n",
       "      <td>6.3</td>\n",
       "    </tr>\n",
       "    <tr>\n",
       "      <th>5849</th>\n",
       "      <td>ts271048</td>\n",
       "      <td>Mighty Little Bheem: Kite Festival</td>\n",
       "      <td>SHOW</td>\n",
       "      <td>With winter behind them, Bheem and his townspe...</td>\n",
       "      <td>2021</td>\n",
       "      <td>NaN</td>\n",
       "      <td>7</td>\n",
       "      <td>['family', 'animation', 'comedy']</td>\n",
       "      <td>[]</td>\n",
       "      <td>1.0</td>\n",
       "      <td>tt13711094</td>\n",
       "      <td>7.8</td>\n",
       "      <td>18.0</td>\n",
       "      <td>2.289</td>\n",
       "      <td>10.0</td>\n",
       "    </tr>\n",
       "  </tbody>\n",
       "</table>\n",
       "<p>2611 rows × 15 columns</p>\n",
       "</div>"
      ],
      "text/plain": [
       "             id                               title   type  \\\n",
       "4      tm120801                     The Dirty Dozen  MOVIE   \n",
       "10      tm44204                The Guns of Navarone  MOVIE   \n",
       "13      tm16479                     White Christmas  MOVIE   \n",
       "14     tm135083                       Cairo Station  MOVIE   \n",
       "17      tm14350                    Alexandria… Why?  MOVIE   \n",
       "...         ...                                 ...    ...   \n",
       "5844  tm1074617       Bling Empire - The Afterparty  MOVIE   \n",
       "5845  tm1014599                           Fine Wine  MOVIE   \n",
       "5846   tm898842                         C/O Kaadhal  MOVIE   \n",
       "5847  tm1059008                             Lokillo  MOVIE   \n",
       "5849   ts271048  Mighty Little Bheem: Kite Festival   SHOW   \n",
       "\n",
       "                                            description  release_year  \\\n",
       "4     12 American military prisoners in World War II...          1967   \n",
       "10    A team of allied saboteurs are assigned an imp...          1961   \n",
       "13    Two talented song-and-dance men team up after ...          1954   \n",
       "14    Qinawi, a physically challenged peddler who ma...          1958   \n",
       "17    Set against the panoramic backdrop of war-torn...          1979   \n",
       "...                                                 ...           ...   \n",
       "5844  The stars of \"Bling Empire\" discuss the show's...          2021   \n",
       "5845  A beautiful love story that can happen between...          2021   \n",
       "5846  A heart warming film that explores the concept...          2021   \n",
       "5847  A controversial TV host and comedian who has b...          2021   \n",
       "5849  With winter behind them, Bheem and his townspe...          2021   \n",
       "\n",
       "     age_certification  runtime                             genres  \\\n",
       "4                  NaN      150                  ['war', 'action']   \n",
       "10                 NaN      158         ['action', 'drama', 'war']   \n",
       "13                 NaN      115              ['romance', 'comedy']   \n",
       "14                 NaN       77       ['drama', 'crime', 'comedy']   \n",
       "17                 NaN      133                          ['drama']   \n",
       "...                ...      ...                                ...   \n",
       "5844               NaN       35                                 []   \n",
       "5845               NaN      100               ['romance', 'drama']   \n",
       "5846               NaN      134                          ['drama']   \n",
       "5847               NaN       90                         ['comedy']   \n",
       "5849               NaN        7  ['family', 'animation', 'comedy']   \n",
       "\n",
       "     production_countries  seasons     imdb_id  imdb_score  imdb_votes  \\\n",
       "4            ['GB', 'US']      NaN   tt0061578         7.7     72662.0   \n",
       "10           ['GB', 'US']      NaN   tt0054953         7.5     50748.0   \n",
       "13                 ['US']      NaN   tt0047673         7.5     42488.0   \n",
       "14                 ['EG']      NaN   tt0051390         7.5      4471.0   \n",
       "17                 ['EG']      NaN   tt0077751         7.2      1727.0   \n",
       "...                   ...      ...         ...         ...         ...   \n",
       "5844               ['US']      NaN         NaN         NaN         NaN   \n",
       "5845               ['NG']      NaN  tt13857480         6.8        45.0   \n",
       "5846                   []      NaN  tt11803618         7.7       348.0   \n",
       "5847               ['CO']      NaN  tt14585902         3.8        68.0   \n",
       "5849                   []      1.0  tt13711094         7.8        18.0   \n",
       "\n",
       "      tmdb_popularity  tmdb_score  \n",
       "4              20.398         7.6  \n",
       "10             13.844         7.3  \n",
       "13              8.915         7.2  \n",
       "14              5.546         7.3  \n",
       "17              1.370         6.0  \n",
       "...               ...         ...  \n",
       "5844              NaN         NaN  \n",
       "5845            1.466         NaN  \n",
       "5846              NaN         NaN  \n",
       "5847           26.005         6.3  \n",
       "5849            2.289        10.0  \n",
       "\n",
       "[2611 rows x 15 columns]"
      ]
     },
     "execution_count": 115,
     "metadata": {},
     "output_type": "execute_result"
    }
   ],
   "source": [
    "nflx2[nflx2['age_certification'].isnull()]"
   ]
  },
  {
   "cell_type": "code",
   "execution_count": 116,
   "metadata": {},
   "outputs": [],
   "source": [
    "#Since many data with no age certification, the missing data will be replaced with \"No age certification\"\n",
    "nflx2['age_certification'].fillna('No age certification', inplace=True)"
   ]
  },
  {
   "cell_type": "markdown",
   "metadata": {},
   "source": [
    "Seasons"
   ]
  },
  {
   "cell_type": "code",
   "execution_count": 117,
   "metadata": {},
   "outputs": [
    {
     "data": {
      "text/html": [
       "<div>\n",
       "<style scoped>\n",
       "    .dataframe tbody tr th:only-of-type {\n",
       "        vertical-align: middle;\n",
       "    }\n",
       "\n",
       "    .dataframe tbody tr th {\n",
       "        vertical-align: top;\n",
       "    }\n",
       "\n",
       "    .dataframe thead th {\n",
       "        text-align: right;\n",
       "    }\n",
       "</style>\n",
       "<table border=\"1\" class=\"dataframe\">\n",
       "  <thead>\n",
       "    <tr style=\"text-align: right;\">\n",
       "      <th></th>\n",
       "      <th>id</th>\n",
       "      <th>title</th>\n",
       "      <th>type</th>\n",
       "      <th>description</th>\n",
       "      <th>release_year</th>\n",
       "      <th>age_certification</th>\n",
       "      <th>runtime</th>\n",
       "      <th>genres</th>\n",
       "      <th>production_countries</th>\n",
       "      <th>seasons</th>\n",
       "      <th>imdb_id</th>\n",
       "      <th>imdb_score</th>\n",
       "      <th>imdb_votes</th>\n",
       "      <th>tmdb_popularity</th>\n",
       "      <th>tmdb_score</th>\n",
       "    </tr>\n",
       "  </thead>\n",
       "  <tbody>\n",
       "    <tr>\n",
       "      <th>1</th>\n",
       "      <td>tm84618</td>\n",
       "      <td>Taxi Driver</td>\n",
       "      <td>MOVIE</td>\n",
       "      <td>A mentally unstable Vietnam War veteran works ...</td>\n",
       "      <td>1976</td>\n",
       "      <td>R</td>\n",
       "      <td>114</td>\n",
       "      <td>['drama', 'crime']</td>\n",
       "      <td>['US']</td>\n",
       "      <td>NaN</td>\n",
       "      <td>tt0075314</td>\n",
       "      <td>8.2</td>\n",
       "      <td>808582.0</td>\n",
       "      <td>40.965</td>\n",
       "      <td>8.179</td>\n",
       "    </tr>\n",
       "    <tr>\n",
       "      <th>2</th>\n",
       "      <td>tm154986</td>\n",
       "      <td>Deliverance</td>\n",
       "      <td>MOVIE</td>\n",
       "      <td>Intent on seeing the Cahulawassee River before...</td>\n",
       "      <td>1972</td>\n",
       "      <td>R</td>\n",
       "      <td>109</td>\n",
       "      <td>['drama', 'action', 'thriller', 'european']</td>\n",
       "      <td>['US']</td>\n",
       "      <td>NaN</td>\n",
       "      <td>tt0068473</td>\n",
       "      <td>7.7</td>\n",
       "      <td>107673.0</td>\n",
       "      <td>10.010</td>\n",
       "      <td>7.300</td>\n",
       "    </tr>\n",
       "    <tr>\n",
       "      <th>3</th>\n",
       "      <td>tm127384</td>\n",
       "      <td>Monty Python and the Holy Grail</td>\n",
       "      <td>MOVIE</td>\n",
       "      <td>King Arthur, accompanied by his squire, recrui...</td>\n",
       "      <td>1975</td>\n",
       "      <td>PG</td>\n",
       "      <td>91</td>\n",
       "      <td>['fantasy', 'action', 'comedy']</td>\n",
       "      <td>['GB']</td>\n",
       "      <td>NaN</td>\n",
       "      <td>tt0071853</td>\n",
       "      <td>8.2</td>\n",
       "      <td>534486.0</td>\n",
       "      <td>15.461</td>\n",
       "      <td>7.811</td>\n",
       "    </tr>\n",
       "    <tr>\n",
       "      <th>4</th>\n",
       "      <td>tm120801</td>\n",
       "      <td>The Dirty Dozen</td>\n",
       "      <td>MOVIE</td>\n",
       "      <td>12 American military prisoners in World War II...</td>\n",
       "      <td>1967</td>\n",
       "      <td>No age certification</td>\n",
       "      <td>150</td>\n",
       "      <td>['war', 'action']</td>\n",
       "      <td>['GB', 'US']</td>\n",
       "      <td>NaN</td>\n",
       "      <td>tt0061578</td>\n",
       "      <td>7.7</td>\n",
       "      <td>72662.0</td>\n",
       "      <td>20.398</td>\n",
       "      <td>7.600</td>\n",
       "    </tr>\n",
       "    <tr>\n",
       "      <th>6</th>\n",
       "      <td>tm70993</td>\n",
       "      <td>Life of Brian</td>\n",
       "      <td>MOVIE</td>\n",
       "      <td>Brian Cohen is an average young Jewish man, bu...</td>\n",
       "      <td>1979</td>\n",
       "      <td>R</td>\n",
       "      <td>94</td>\n",
       "      <td>['comedy']</td>\n",
       "      <td>['GB']</td>\n",
       "      <td>NaN</td>\n",
       "      <td>tt0079470</td>\n",
       "      <td>8.0</td>\n",
       "      <td>395024.0</td>\n",
       "      <td>17.770</td>\n",
       "      <td>7.800</td>\n",
       "    </tr>\n",
       "    <tr>\n",
       "      <th>...</th>\n",
       "      <td>...</td>\n",
       "      <td>...</td>\n",
       "      <td>...</td>\n",
       "      <td>...</td>\n",
       "      <td>...</td>\n",
       "      <td>...</td>\n",
       "      <td>...</td>\n",
       "      <td>...</td>\n",
       "      <td>...</td>\n",
       "      <td>...</td>\n",
       "      <td>...</td>\n",
       "      <td>...</td>\n",
       "      <td>...</td>\n",
       "      <td>...</td>\n",
       "      <td>...</td>\n",
       "    </tr>\n",
       "    <tr>\n",
       "      <th>5844</th>\n",
       "      <td>tm1074617</td>\n",
       "      <td>Bling Empire - The Afterparty</td>\n",
       "      <td>MOVIE</td>\n",
       "      <td>The stars of \"Bling Empire\" discuss the show's...</td>\n",
       "      <td>2021</td>\n",
       "      <td>No age certification</td>\n",
       "      <td>35</td>\n",
       "      <td>[]</td>\n",
       "      <td>['US']</td>\n",
       "      <td>NaN</td>\n",
       "      <td>NaN</td>\n",
       "      <td>NaN</td>\n",
       "      <td>NaN</td>\n",
       "      <td>NaN</td>\n",
       "      <td>NaN</td>\n",
       "    </tr>\n",
       "    <tr>\n",
       "      <th>5845</th>\n",
       "      <td>tm1014599</td>\n",
       "      <td>Fine Wine</td>\n",
       "      <td>MOVIE</td>\n",
       "      <td>A beautiful love story that can happen between...</td>\n",
       "      <td>2021</td>\n",
       "      <td>No age certification</td>\n",
       "      <td>100</td>\n",
       "      <td>['romance', 'drama']</td>\n",
       "      <td>['NG']</td>\n",
       "      <td>NaN</td>\n",
       "      <td>tt13857480</td>\n",
       "      <td>6.8</td>\n",
       "      <td>45.0</td>\n",
       "      <td>1.466</td>\n",
       "      <td>NaN</td>\n",
       "    </tr>\n",
       "    <tr>\n",
       "      <th>5846</th>\n",
       "      <td>tm898842</td>\n",
       "      <td>C/O Kaadhal</td>\n",
       "      <td>MOVIE</td>\n",
       "      <td>A heart warming film that explores the concept...</td>\n",
       "      <td>2021</td>\n",
       "      <td>No age certification</td>\n",
       "      <td>134</td>\n",
       "      <td>['drama']</td>\n",
       "      <td>[]</td>\n",
       "      <td>NaN</td>\n",
       "      <td>tt11803618</td>\n",
       "      <td>7.7</td>\n",
       "      <td>348.0</td>\n",
       "      <td>NaN</td>\n",
       "      <td>NaN</td>\n",
       "    </tr>\n",
       "    <tr>\n",
       "      <th>5847</th>\n",
       "      <td>tm1059008</td>\n",
       "      <td>Lokillo</td>\n",
       "      <td>MOVIE</td>\n",
       "      <td>A controversial TV host and comedian who has b...</td>\n",
       "      <td>2021</td>\n",
       "      <td>No age certification</td>\n",
       "      <td>90</td>\n",
       "      <td>['comedy']</td>\n",
       "      <td>['CO']</td>\n",
       "      <td>NaN</td>\n",
       "      <td>tt14585902</td>\n",
       "      <td>3.8</td>\n",
       "      <td>68.0</td>\n",
       "      <td>26.005</td>\n",
       "      <td>6.300</td>\n",
       "    </tr>\n",
       "    <tr>\n",
       "      <th>5848</th>\n",
       "      <td>tm1035612</td>\n",
       "      <td>Dad Stop Embarrassing Me - The Afterparty</td>\n",
       "      <td>MOVIE</td>\n",
       "      <td>Jamie Foxx, David Alan Grier and more from the...</td>\n",
       "      <td>2021</td>\n",
       "      <td>PG-13</td>\n",
       "      <td>37</td>\n",
       "      <td>[]</td>\n",
       "      <td>['US']</td>\n",
       "      <td>NaN</td>\n",
       "      <td>NaN</td>\n",
       "      <td>NaN</td>\n",
       "      <td>NaN</td>\n",
       "      <td>1.296</td>\n",
       "      <td>10.000</td>\n",
       "    </tr>\n",
       "  </tbody>\n",
       "</table>\n",
       "<p>3735 rows × 15 columns</p>\n",
       "</div>"
      ],
      "text/plain": [
       "             id                                      title   type  \\\n",
       "1       tm84618                                Taxi Driver  MOVIE   \n",
       "2      tm154986                                Deliverance  MOVIE   \n",
       "3      tm127384            Monty Python and the Holy Grail  MOVIE   \n",
       "4      tm120801                            The Dirty Dozen  MOVIE   \n",
       "6       tm70993                              Life of Brian  MOVIE   \n",
       "...         ...                                        ...    ...   \n",
       "5844  tm1074617              Bling Empire - The Afterparty  MOVIE   \n",
       "5845  tm1014599                                  Fine Wine  MOVIE   \n",
       "5846   tm898842                                C/O Kaadhal  MOVIE   \n",
       "5847  tm1059008                                    Lokillo  MOVIE   \n",
       "5848  tm1035612  Dad Stop Embarrassing Me - The Afterparty  MOVIE   \n",
       "\n",
       "                                            description  release_year  \\\n",
       "1     A mentally unstable Vietnam War veteran works ...          1976   \n",
       "2     Intent on seeing the Cahulawassee River before...          1972   \n",
       "3     King Arthur, accompanied by his squire, recrui...          1975   \n",
       "4     12 American military prisoners in World War II...          1967   \n",
       "6     Brian Cohen is an average young Jewish man, bu...          1979   \n",
       "...                                                 ...           ...   \n",
       "5844  The stars of \"Bling Empire\" discuss the show's...          2021   \n",
       "5845  A beautiful love story that can happen between...          2021   \n",
       "5846  A heart warming film that explores the concept...          2021   \n",
       "5847  A controversial TV host and comedian who has b...          2021   \n",
       "5848  Jamie Foxx, David Alan Grier and more from the...          2021   \n",
       "\n",
       "         age_certification  runtime  \\\n",
       "1                        R      114   \n",
       "2                        R      109   \n",
       "3                       PG       91   \n",
       "4     No age certification      150   \n",
       "6                        R       94   \n",
       "...                    ...      ...   \n",
       "5844  No age certification       35   \n",
       "5845  No age certification      100   \n",
       "5846  No age certification      134   \n",
       "5847  No age certification       90   \n",
       "5848                 PG-13       37   \n",
       "\n",
       "                                           genres production_countries  \\\n",
       "1                              ['drama', 'crime']               ['US']   \n",
       "2     ['drama', 'action', 'thriller', 'european']               ['US']   \n",
       "3                 ['fantasy', 'action', 'comedy']               ['GB']   \n",
       "4                               ['war', 'action']         ['GB', 'US']   \n",
       "6                                      ['comedy']               ['GB']   \n",
       "...                                           ...                  ...   \n",
       "5844                                           []               ['US']   \n",
       "5845                         ['romance', 'drama']               ['NG']   \n",
       "5846                                    ['drama']                   []   \n",
       "5847                                   ['comedy']               ['CO']   \n",
       "5848                                           []               ['US']   \n",
       "\n",
       "      seasons     imdb_id  imdb_score  imdb_votes  tmdb_popularity  tmdb_score  \n",
       "1         NaN   tt0075314         8.2    808582.0           40.965       8.179  \n",
       "2         NaN   tt0068473         7.7    107673.0           10.010       7.300  \n",
       "3         NaN   tt0071853         8.2    534486.0           15.461       7.811  \n",
       "4         NaN   tt0061578         7.7     72662.0           20.398       7.600  \n",
       "6         NaN   tt0079470         8.0    395024.0           17.770       7.800  \n",
       "...       ...         ...         ...         ...              ...         ...  \n",
       "5844      NaN         NaN         NaN         NaN              NaN         NaN  \n",
       "5845      NaN  tt13857480         6.8        45.0            1.466         NaN  \n",
       "5846      NaN  tt11803618         7.7       348.0              NaN         NaN  \n",
       "5847      NaN  tt14585902         3.8        68.0           26.005       6.300  \n",
       "5848      NaN         NaN         NaN         NaN            1.296      10.000  \n",
       "\n",
       "[3735 rows x 15 columns]"
      ]
     },
     "execution_count": 117,
     "metadata": {},
     "output_type": "execute_result"
    }
   ],
   "source": [
    "#Check the data with missing seasons\n",
    "nflx2[nflx2['seasons'].isnull()]"
   ]
  },
  {
   "cell_type": "markdown",
   "metadata": {},
   "source": [
    "All of data that with missing seasons seems to have type 'movie', so I will confirm it\n"
   ]
  },
  {
   "cell_type": "code",
   "execution_count": 118,
   "metadata": {},
   "outputs": [
    {
     "data": {
      "text/plain": [
       "3735"
      ]
     },
     "execution_count": 118,
     "metadata": {},
     "output_type": "execute_result"
    }
   ],
   "source": [
    "len(nflx2[(nflx2['type']=='MOVIE') & (nflx2['seasons'].isnull())])"
   ]
  },
  {
   "cell_type": "markdown",
   "metadata": {},
   "source": [
    "All data with movie type has no seasons. It's understandable since movie doesn't has seasons."
   ]
  },
  {
   "cell_type": "code",
   "execution_count": 119,
   "metadata": {},
   "outputs": [],
   "source": [
    "#replace missing seasons with 0 (No seasons)\n",
    "nflx2['seasons'].fillna(0, inplace=True)"
   ]
  },
  {
   "cell_type": "markdown",
   "metadata": {},
   "source": [
    "Imdb_id variable"
   ]
  },
  {
   "cell_type": "code",
   "execution_count": 120,
   "metadata": {},
   "outputs": [
    {
     "data": {
      "text/html": [
       "<div>\n",
       "<style scoped>\n",
       "    .dataframe tbody tr th:only-of-type {\n",
       "        vertical-align: middle;\n",
       "    }\n",
       "\n",
       "    .dataframe tbody tr th {\n",
       "        vertical-align: top;\n",
       "    }\n",
       "\n",
       "    .dataframe thead th {\n",
       "        text-align: right;\n",
       "    }\n",
       "</style>\n",
       "<table border=\"1\" class=\"dataframe\">\n",
       "  <thead>\n",
       "    <tr style=\"text-align: right;\">\n",
       "      <th></th>\n",
       "      <th>id</th>\n",
       "      <th>title</th>\n",
       "      <th>type</th>\n",
       "      <th>description</th>\n",
       "      <th>release_year</th>\n",
       "      <th>age_certification</th>\n",
       "      <th>runtime</th>\n",
       "      <th>genres</th>\n",
       "      <th>production_countries</th>\n",
       "      <th>seasons</th>\n",
       "      <th>imdb_id</th>\n",
       "      <th>imdb_score</th>\n",
       "      <th>imdb_votes</th>\n",
       "      <th>tmdb_popularity</th>\n",
       "      <th>tmdb_score</th>\n",
       "    </tr>\n",
       "  </thead>\n",
       "  <tbody>\n",
       "    <tr>\n",
       "      <th>0</th>\n",
       "      <td>ts300399</td>\n",
       "      <td>Five Came Back: The Reference Films</td>\n",
       "      <td>SHOW</td>\n",
       "      <td>This collection includes 12 World War II-era p...</td>\n",
       "      <td>1945</td>\n",
       "      <td>TV-MA</td>\n",
       "      <td>51</td>\n",
       "      <td>['documentation']</td>\n",
       "      <td>['US']</td>\n",
       "      <td>1.0</td>\n",
       "      <td>NaN</td>\n",
       "      <td>NaN</td>\n",
       "      <td>NaN</td>\n",
       "      <td>0.600</td>\n",
       "      <td>NaN</td>\n",
       "    </tr>\n",
       "    <tr>\n",
       "      <th>75</th>\n",
       "      <td>tm132164</td>\n",
       "      <td>Bill Hicks: Sane Man</td>\n",
       "      <td>MOVIE</td>\n",
       "      <td>Sane Man was filmed before Bill recorded ‘Dang...</td>\n",
       "      <td>1989</td>\n",
       "      <td>R</td>\n",
       "      <td>80</td>\n",
       "      <td>['comedy']</td>\n",
       "      <td>['US']</td>\n",
       "      <td>0.0</td>\n",
       "      <td>NaN</td>\n",
       "      <td>NaN</td>\n",
       "      <td>NaN</td>\n",
       "      <td>3.377</td>\n",
       "      <td>7.5</td>\n",
       "    </tr>\n",
       "    <tr>\n",
       "      <th>145</th>\n",
       "      <td>ts251477</td>\n",
       "      <td>My First Errand</td>\n",
       "      <td>SHOW</td>\n",
       "      <td>“Hajimete no Otsukai” (First Errand) is a Japa...</td>\n",
       "      <td>1991</td>\n",
       "      <td>TV-G</td>\n",
       "      <td>18</td>\n",
       "      <td>['documentation', 'family', 'reality']</td>\n",
       "      <td>['JP']</td>\n",
       "      <td>12.0</td>\n",
       "      <td>NaN</td>\n",
       "      <td>NaN</td>\n",
       "      <td>NaN</td>\n",
       "      <td>7.730</td>\n",
       "      <td>7.8</td>\n",
       "    </tr>\n",
       "    <tr>\n",
       "      <th>177</th>\n",
       "      <td>ts224786</td>\n",
       "      <td>Escalona</td>\n",
       "      <td>SHOW</td>\n",
       "      <td>The improbable real life of Rafael Escalona, w...</td>\n",
       "      <td>1991</td>\n",
       "      <td>TV-MA</td>\n",
       "      <td>44</td>\n",
       "      <td>['drama']</td>\n",
       "      <td>['CO']</td>\n",
       "      <td>1.0</td>\n",
       "      <td>NaN</td>\n",
       "      <td>NaN</td>\n",
       "      <td>NaN</td>\n",
       "      <td>7.352</td>\n",
       "      <td>7.6</td>\n",
       "    </tr>\n",
       "    <tr>\n",
       "      <th>180</th>\n",
       "      <td>tm8687</td>\n",
       "      <td>Sam Kinison: Family Entertainment Hour</td>\n",
       "      <td>MOVIE</td>\n",
       "      <td>Get ready to scream with laughter! Sam Kinison...</td>\n",
       "      <td>1991</td>\n",
       "      <td>No age certification</td>\n",
       "      <td>49</td>\n",
       "      <td>['comedy']</td>\n",
       "      <td>['US']</td>\n",
       "      <td>0.0</td>\n",
       "      <td>NaN</td>\n",
       "      <td>NaN</td>\n",
       "      <td>NaN</td>\n",
       "      <td>1.840</td>\n",
       "      <td>6.1</td>\n",
       "    </tr>\n",
       "    <tr>\n",
       "      <th>...</th>\n",
       "      <td>...</td>\n",
       "      <td>...</td>\n",
       "      <td>...</td>\n",
       "      <td>...</td>\n",
       "      <td>...</td>\n",
       "      <td>...</td>\n",
       "      <td>...</td>\n",
       "      <td>...</td>\n",
       "      <td>...</td>\n",
       "      <td>...</td>\n",
       "      <td>...</td>\n",
       "      <td>...</td>\n",
       "      <td>...</td>\n",
       "      <td>...</td>\n",
       "      <td>...</td>\n",
       "    </tr>\n",
       "    <tr>\n",
       "      <th>5802</th>\n",
       "      <td>ts302434</td>\n",
       "      <td>Plastic Cup Boyz: Laughing My Mask Off!</td>\n",
       "      <td>SHOW</td>\n",
       "      <td>Comedy collective The Plastic Cup Boyz pour ou...</td>\n",
       "      <td>2021</td>\n",
       "      <td>No age certification</td>\n",
       "      <td>33</td>\n",
       "      <td>[]</td>\n",
       "      <td>[]</td>\n",
       "      <td>1.0</td>\n",
       "      <td>NaN</td>\n",
       "      <td>NaN</td>\n",
       "      <td>NaN</td>\n",
       "      <td>0.683</td>\n",
       "      <td>NaN</td>\n",
       "    </tr>\n",
       "    <tr>\n",
       "      <th>5833</th>\n",
       "      <td>ts307884</td>\n",
       "      <td>HQ Barbers</td>\n",
       "      <td>SHOW</td>\n",
       "      <td>When a family run barber shop in the heart of ...</td>\n",
       "      <td>2021</td>\n",
       "      <td>TV-14</td>\n",
       "      <td>24</td>\n",
       "      <td>['comedy']</td>\n",
       "      <td>['NG']</td>\n",
       "      <td>1.0</td>\n",
       "      <td>NaN</td>\n",
       "      <td>NaN</td>\n",
       "      <td>NaN</td>\n",
       "      <td>0.840</td>\n",
       "      <td>NaN</td>\n",
       "    </tr>\n",
       "    <tr>\n",
       "      <th>5840</th>\n",
       "      <td>tm1216735</td>\n",
       "      <td>Sun of the Soil</td>\n",
       "      <td>MOVIE</td>\n",
       "      <td>In 14th-century Mali, an ambitious young royal...</td>\n",
       "      <td>2022</td>\n",
       "      <td>No age certification</td>\n",
       "      <td>26</td>\n",
       "      <td>[]</td>\n",
       "      <td>[]</td>\n",
       "      <td>0.0</td>\n",
       "      <td>NaN</td>\n",
       "      <td>NaN</td>\n",
       "      <td>NaN</td>\n",
       "      <td>1.179</td>\n",
       "      <td>7.0</td>\n",
       "    </tr>\n",
       "    <tr>\n",
       "      <th>5844</th>\n",
       "      <td>tm1074617</td>\n",
       "      <td>Bling Empire - The Afterparty</td>\n",
       "      <td>MOVIE</td>\n",
       "      <td>The stars of \"Bling Empire\" discuss the show's...</td>\n",
       "      <td>2021</td>\n",
       "      <td>No age certification</td>\n",
       "      <td>35</td>\n",
       "      <td>[]</td>\n",
       "      <td>['US']</td>\n",
       "      <td>0.0</td>\n",
       "      <td>NaN</td>\n",
       "      <td>NaN</td>\n",
       "      <td>NaN</td>\n",
       "      <td>NaN</td>\n",
       "      <td>NaN</td>\n",
       "    </tr>\n",
       "    <tr>\n",
       "      <th>5848</th>\n",
       "      <td>tm1035612</td>\n",
       "      <td>Dad Stop Embarrassing Me - The Afterparty</td>\n",
       "      <td>MOVIE</td>\n",
       "      <td>Jamie Foxx, David Alan Grier and more from the...</td>\n",
       "      <td>2021</td>\n",
       "      <td>PG-13</td>\n",
       "      <td>37</td>\n",
       "      <td>[]</td>\n",
       "      <td>['US']</td>\n",
       "      <td>0.0</td>\n",
       "      <td>NaN</td>\n",
       "      <td>NaN</td>\n",
       "      <td>NaN</td>\n",
       "      <td>1.296</td>\n",
       "      <td>10.0</td>\n",
       "    </tr>\n",
       "  </tbody>\n",
       "</table>\n",
       "<p>392 rows × 15 columns</p>\n",
       "</div>"
      ],
      "text/plain": [
       "             id                                      title   type  \\\n",
       "0      ts300399        Five Came Back: The Reference Films   SHOW   \n",
       "75     tm132164                       Bill Hicks: Sane Man  MOVIE   \n",
       "145    ts251477                            My First Errand   SHOW   \n",
       "177    ts224786                                   Escalona   SHOW   \n",
       "180      tm8687     Sam Kinison: Family Entertainment Hour  MOVIE   \n",
       "...         ...                                        ...    ...   \n",
       "5802   ts302434    Plastic Cup Boyz: Laughing My Mask Off!   SHOW   \n",
       "5833   ts307884                                 HQ Barbers   SHOW   \n",
       "5840  tm1216735                            Sun of the Soil  MOVIE   \n",
       "5844  tm1074617              Bling Empire - The Afterparty  MOVIE   \n",
       "5848  tm1035612  Dad Stop Embarrassing Me - The Afterparty  MOVIE   \n",
       "\n",
       "                                            description  release_year  \\\n",
       "0     This collection includes 12 World War II-era p...          1945   \n",
       "75    Sane Man was filmed before Bill recorded ‘Dang...          1989   \n",
       "145   “Hajimete no Otsukai” (First Errand) is a Japa...          1991   \n",
       "177   The improbable real life of Rafael Escalona, w...          1991   \n",
       "180   Get ready to scream with laughter! Sam Kinison...          1991   \n",
       "...                                                 ...           ...   \n",
       "5802  Comedy collective The Plastic Cup Boyz pour ou...          2021   \n",
       "5833  When a family run barber shop in the heart of ...          2021   \n",
       "5840  In 14th-century Mali, an ambitious young royal...          2022   \n",
       "5844  The stars of \"Bling Empire\" discuss the show's...          2021   \n",
       "5848  Jamie Foxx, David Alan Grier and more from the...          2021   \n",
       "\n",
       "         age_certification  runtime                                  genres  \\\n",
       "0                    TV-MA       51                       ['documentation']   \n",
       "75                       R       80                              ['comedy']   \n",
       "145                   TV-G       18  ['documentation', 'family', 'reality']   \n",
       "177                  TV-MA       44                               ['drama']   \n",
       "180   No age certification       49                              ['comedy']   \n",
       "...                    ...      ...                                     ...   \n",
       "5802  No age certification       33                                      []   \n",
       "5833                 TV-14       24                              ['comedy']   \n",
       "5840  No age certification       26                                      []   \n",
       "5844  No age certification       35                                      []   \n",
       "5848                 PG-13       37                                      []   \n",
       "\n",
       "     production_countries  seasons imdb_id  imdb_score  imdb_votes  \\\n",
       "0                  ['US']      1.0     NaN         NaN         NaN   \n",
       "75                 ['US']      0.0     NaN         NaN         NaN   \n",
       "145                ['JP']     12.0     NaN         NaN         NaN   \n",
       "177                ['CO']      1.0     NaN         NaN         NaN   \n",
       "180                ['US']      0.0     NaN         NaN         NaN   \n",
       "...                   ...      ...     ...         ...         ...   \n",
       "5802                   []      1.0     NaN         NaN         NaN   \n",
       "5833               ['NG']      1.0     NaN         NaN         NaN   \n",
       "5840                   []      0.0     NaN         NaN         NaN   \n",
       "5844               ['US']      0.0     NaN         NaN         NaN   \n",
       "5848               ['US']      0.0     NaN         NaN         NaN   \n",
       "\n",
       "      tmdb_popularity  tmdb_score  \n",
       "0               0.600         NaN  \n",
       "75              3.377         7.5  \n",
       "145             7.730         7.8  \n",
       "177             7.352         7.6  \n",
       "180             1.840         6.1  \n",
       "...               ...         ...  \n",
       "5802            0.683         NaN  \n",
       "5833            0.840         NaN  \n",
       "5840            1.179         7.0  \n",
       "5844              NaN         NaN  \n",
       "5848            1.296        10.0  \n",
       "\n",
       "[392 rows x 15 columns]"
      ]
     },
     "execution_count": 120,
     "metadata": {},
     "output_type": "execute_result"
    }
   ],
   "source": [
    "nflx[nflx2['imdb_id'].isnull()]"
   ]
  },
  {
   "cell_type": "code",
   "execution_count": 121,
   "metadata": {},
   "outputs": [],
   "source": [
    "#Since only few data with missing imdb id, data with missing imdb id will be removed\n",
    "nflx2.dropna(subset=['imdb_id'], inplace=True)"
   ]
  },
  {
   "cell_type": "markdown",
   "metadata": {},
   "source": [
    "Imdb_score, Imdb votes\n",
    "\n",
    "Data with missing value in both columns will be replaced by 0\n",
    "\n",
    "Data with missing in only one column will be removed"
   ]
  },
  {
   "cell_type": "code",
   "execution_count": 122,
   "metadata": {},
   "outputs": [],
   "source": [
    "nflx2[['imdb_score', 'imdb_votes']] =  nflx2[['imdb_score', 'imdb_votes']].fillna(0)\n",
    "nflx2.dropna(subset='imdb_score', inplace=True)\n",
    "nflx2.dropna(subset='imdb_votes', inplace=True)"
   ]
  },
  {
   "cell_type": "markdown",
   "metadata": {},
   "source": [
    "Tmdb_popularity"
   ]
  },
  {
   "cell_type": "code",
   "execution_count": 123,
   "metadata": {},
   "outputs": [
    {
     "data": {
      "text/html": [
       "<div>\n",
       "<style scoped>\n",
       "    .dataframe tbody tr th:only-of-type {\n",
       "        vertical-align: middle;\n",
       "    }\n",
       "\n",
       "    .dataframe tbody tr th {\n",
       "        vertical-align: top;\n",
       "    }\n",
       "\n",
       "    .dataframe thead th {\n",
       "        text-align: right;\n",
       "    }\n",
       "</style>\n",
       "<table border=\"1\" class=\"dataframe\">\n",
       "  <thead>\n",
       "    <tr style=\"text-align: right;\">\n",
       "      <th></th>\n",
       "      <th>id</th>\n",
       "      <th>title</th>\n",
       "      <th>type</th>\n",
       "      <th>description</th>\n",
       "      <th>release_year</th>\n",
       "      <th>age_certification</th>\n",
       "      <th>runtime</th>\n",
       "      <th>genres</th>\n",
       "      <th>production_countries</th>\n",
       "      <th>seasons</th>\n",
       "      <th>imdb_id</th>\n",
       "      <th>imdb_score</th>\n",
       "      <th>imdb_votes</th>\n",
       "      <th>tmdb_popularity</th>\n",
       "      <th>tmdb_score</th>\n",
       "    </tr>\n",
       "  </thead>\n",
       "  <tbody>\n",
       "    <tr>\n",
       "      <th>411</th>\n",
       "      <td>ts74931</td>\n",
       "      <td>Kung Fu Panda Awesome Secrets</td>\n",
       "      <td>SHOW</td>\n",
       "      <td>In this pair of adventures, Po tells the story...</td>\n",
       "      <td>2008</td>\n",
       "      <td>TV-PG</td>\n",
       "      <td>32</td>\n",
       "      <td>['action', 'animation', 'comedy', 'family']</td>\n",
       "      <td>['US']</td>\n",
       "      <td>1.0</td>\n",
       "      <td>tt6963796</td>\n",
       "      <td>7.1</td>\n",
       "      <td>59.0</td>\n",
       "      <td>NaN</td>\n",
       "      <td>NaN</td>\n",
       "    </tr>\n",
       "    <tr>\n",
       "      <th>514</th>\n",
       "      <td>ts137477</td>\n",
       "      <td>Behind Enemy Lines</td>\n",
       "      <td>SHOW</td>\n",
       "      <td>Documentary about the creation of the Commando...</td>\n",
       "      <td>2001</td>\n",
       "      <td>TV-14</td>\n",
       "      <td>49</td>\n",
       "      <td>['drama']</td>\n",
       "      <td>['US']</td>\n",
       "      <td>1.0</td>\n",
       "      <td>tt5170230</td>\n",
       "      <td>7.2</td>\n",
       "      <td>43.0</td>\n",
       "      <td>NaN</td>\n",
       "      <td>NaN</td>\n",
       "    </tr>\n",
       "    <tr>\n",
       "      <th>556</th>\n",
       "      <td>ts178360</td>\n",
       "      <td>El cartel 2 - La guerra total</td>\n",
       "      <td>SHOW</td>\n",
       "      <td>Now Pepe Cadena finishes telling the story in ...</td>\n",
       "      <td>2010</td>\n",
       "      <td>TV-MA</td>\n",
       "      <td>44</td>\n",
       "      <td>['horror', 'thriller', 'war', 'action', 'crime']</td>\n",
       "      <td>['CO']</td>\n",
       "      <td>1.0</td>\n",
       "      <td>tt1667724</td>\n",
       "      <td>6.7</td>\n",
       "      <td>231.0</td>\n",
       "      <td>NaN</td>\n",
       "      <td>NaN</td>\n",
       "    </tr>\n",
       "    <tr>\n",
       "      <th>564</th>\n",
       "      <td>ts160526</td>\n",
       "      <td>Khawatir</td>\n",
       "      <td>SHOW</td>\n",
       "      <td>A TV show devoted to help young people to be m...</td>\n",
       "      <td>2005</td>\n",
       "      <td>TV-14</td>\n",
       "      <td>19</td>\n",
       "      <td>['reality']</td>\n",
       "      <td>[]</td>\n",
       "      <td>11.0</td>\n",
       "      <td>tt3062514</td>\n",
       "      <td>9.5</td>\n",
       "      <td>3115.0</td>\n",
       "      <td>NaN</td>\n",
       "      <td>NaN</td>\n",
       "    </tr>\n",
       "    <tr>\n",
       "      <th>574</th>\n",
       "      <td>tm712151</td>\n",
       "      <td>Laugh Out Loud</td>\n",
       "      <td>MOVIE</td>\n",
       "      <td>The biggest stand-up comedy event ever in Sout...</td>\n",
       "      <td>2003</td>\n",
       "      <td>No age certification</td>\n",
       "      <td>60</td>\n",
       "      <td>['comedy']</td>\n",
       "      <td>['ZA']</td>\n",
       "      <td>0.0</td>\n",
       "      <td>tt0401575</td>\n",
       "      <td>7.0</td>\n",
       "      <td>13.0</td>\n",
       "      <td>NaN</td>\n",
       "      <td>NaN</td>\n",
       "    </tr>\n",
       "    <tr>\n",
       "      <th>...</th>\n",
       "      <td>...</td>\n",
       "      <td>...</td>\n",
       "      <td>...</td>\n",
       "      <td>...</td>\n",
       "      <td>...</td>\n",
       "      <td>...</td>\n",
       "      <td>...</td>\n",
       "      <td>...</td>\n",
       "      <td>...</td>\n",
       "      <td>...</td>\n",
       "      <td>...</td>\n",
       "      <td>...</td>\n",
       "      <td>...</td>\n",
       "      <td>...</td>\n",
       "      <td>...</td>\n",
       "    </tr>\n",
       "    <tr>\n",
       "      <th>5725</th>\n",
       "      <td>ts305254</td>\n",
       "      <td>The Ingenuity of the Househusband</td>\n",
       "      <td>SHOW</td>\n",
       "      <td>Web series of shorts starring Kenjiro Tsuda, t...</td>\n",
       "      <td>2021</td>\n",
       "      <td>No age certification</td>\n",
       "      <td>5</td>\n",
       "      <td>['comedy']</td>\n",
       "      <td>[]</td>\n",
       "      <td>1.0</td>\n",
       "      <td>tt15170710</td>\n",
       "      <td>6.7</td>\n",
       "      <td>423.0</td>\n",
       "      <td>NaN</td>\n",
       "      <td>NaN</td>\n",
       "    </tr>\n",
       "    <tr>\n",
       "      <th>5807</th>\n",
       "      <td>tm1011248</td>\n",
       "      <td>30 March</td>\n",
       "      <td>MOVIE</td>\n",
       "      <td>Ali, the fugitive from a murder he does not ev...</td>\n",
       "      <td>2021</td>\n",
       "      <td>No age certification</td>\n",
       "      <td>99</td>\n",
       "      <td>['crime', 'drama', 'thriller']</td>\n",
       "      <td>[]</td>\n",
       "      <td>0.0</td>\n",
       "      <td>tt13694540</td>\n",
       "      <td>4.0</td>\n",
       "      <td>153.0</td>\n",
       "      <td>NaN</td>\n",
       "      <td>NaN</td>\n",
       "    </tr>\n",
       "    <tr>\n",
       "      <th>5810</th>\n",
       "      <td>tm1225897</td>\n",
       "      <td>Social Man</td>\n",
       "      <td>MOVIE</td>\n",
       "      <td>Two competitive social media Influencers go he...</td>\n",
       "      <td>2021</td>\n",
       "      <td>No age certification</td>\n",
       "      <td>96</td>\n",
       "      <td>['comedy', 'drama']</td>\n",
       "      <td>[]</td>\n",
       "      <td>0.0</td>\n",
       "      <td>tt20198164</td>\n",
       "      <td>0.0</td>\n",
       "      <td>0.0</td>\n",
       "      <td>NaN</td>\n",
       "      <td>NaN</td>\n",
       "    </tr>\n",
       "    <tr>\n",
       "      <th>5823</th>\n",
       "      <td>tm1099342</td>\n",
       "      <td>Devdas Brothers</td>\n",
       "      <td>MOVIE</td>\n",
       "      <td>After their first heartbreaks, four jilted you...</td>\n",
       "      <td>2021</td>\n",
       "      <td>No age certification</td>\n",
       "      <td>99</td>\n",
       "      <td>['drama']</td>\n",
       "      <td>[]</td>\n",
       "      <td>0.0</td>\n",
       "      <td>tt12478372</td>\n",
       "      <td>3.3</td>\n",
       "      <td>51.0</td>\n",
       "      <td>NaN</td>\n",
       "      <td>NaN</td>\n",
       "    </tr>\n",
       "    <tr>\n",
       "      <th>5846</th>\n",
       "      <td>tm898842</td>\n",
       "      <td>C/O Kaadhal</td>\n",
       "      <td>MOVIE</td>\n",
       "      <td>A heart warming film that explores the concept...</td>\n",
       "      <td>2021</td>\n",
       "      <td>No age certification</td>\n",
       "      <td>134</td>\n",
       "      <td>['drama']</td>\n",
       "      <td>[]</td>\n",
       "      <td>0.0</td>\n",
       "      <td>tt11803618</td>\n",
       "      <td>7.7</td>\n",
       "      <td>348.0</td>\n",
       "      <td>NaN</td>\n",
       "      <td>NaN</td>\n",
       "    </tr>\n",
       "  </tbody>\n",
       "</table>\n",
       "<p>82 rows × 15 columns</p>\n",
       "</div>"
      ],
      "text/plain": [
       "             id                              title   type  \\\n",
       "411     ts74931      Kung Fu Panda Awesome Secrets   SHOW   \n",
       "514    ts137477                 Behind Enemy Lines   SHOW   \n",
       "556    ts178360      El cartel 2 - La guerra total   SHOW   \n",
       "564    ts160526                           Khawatir   SHOW   \n",
       "574    tm712151                     Laugh Out Loud  MOVIE   \n",
       "...         ...                                ...    ...   \n",
       "5725   ts305254  The Ingenuity of the Househusband   SHOW   \n",
       "5807  tm1011248                           30 March  MOVIE   \n",
       "5810  tm1225897                         Social Man  MOVIE   \n",
       "5823  tm1099342                    Devdas Brothers  MOVIE   \n",
       "5846   tm898842                        C/O Kaadhal  MOVIE   \n",
       "\n",
       "                                            description  release_year  \\\n",
       "411   In this pair of adventures, Po tells the story...          2008   \n",
       "514   Documentary about the creation of the Commando...          2001   \n",
       "556   Now Pepe Cadena finishes telling the story in ...          2010   \n",
       "564   A TV show devoted to help young people to be m...          2005   \n",
       "574   The biggest stand-up comedy event ever in Sout...          2003   \n",
       "...                                                 ...           ...   \n",
       "5725  Web series of shorts starring Kenjiro Tsuda, t...          2021   \n",
       "5807  Ali, the fugitive from a murder he does not ev...          2021   \n",
       "5810  Two competitive social media Influencers go he...          2021   \n",
       "5823  After their first heartbreaks, four jilted you...          2021   \n",
       "5846  A heart warming film that explores the concept...          2021   \n",
       "\n",
       "         age_certification  runtime  \\\n",
       "411                  TV-PG       32   \n",
       "514                  TV-14       49   \n",
       "556                  TV-MA       44   \n",
       "564                  TV-14       19   \n",
       "574   No age certification       60   \n",
       "...                    ...      ...   \n",
       "5725  No age certification        5   \n",
       "5807  No age certification       99   \n",
       "5810  No age certification       96   \n",
       "5823  No age certification       99   \n",
       "5846  No age certification      134   \n",
       "\n",
       "                                                genres production_countries  \\\n",
       "411        ['action', 'animation', 'comedy', 'family']               ['US']   \n",
       "514                                          ['drama']               ['US']   \n",
       "556   ['horror', 'thriller', 'war', 'action', 'crime']               ['CO']   \n",
       "564                                        ['reality']                   []   \n",
       "574                                         ['comedy']               ['ZA']   \n",
       "...                                                ...                  ...   \n",
       "5725                                        ['comedy']                   []   \n",
       "5807                    ['crime', 'drama', 'thriller']                   []   \n",
       "5810                               ['comedy', 'drama']                   []   \n",
       "5823                                         ['drama']                   []   \n",
       "5846                                         ['drama']                   []   \n",
       "\n",
       "      seasons     imdb_id  imdb_score  imdb_votes  tmdb_popularity  tmdb_score  \n",
       "411       1.0   tt6963796         7.1        59.0              NaN         NaN  \n",
       "514       1.0   tt5170230         7.2        43.0              NaN         NaN  \n",
       "556       1.0   tt1667724         6.7       231.0              NaN         NaN  \n",
       "564      11.0   tt3062514         9.5      3115.0              NaN         NaN  \n",
       "574       0.0   tt0401575         7.0        13.0              NaN         NaN  \n",
       "...       ...         ...         ...         ...              ...         ...  \n",
       "5725      1.0  tt15170710         6.7       423.0              NaN         NaN  \n",
       "5807      0.0  tt13694540         4.0       153.0              NaN         NaN  \n",
       "5810      0.0  tt20198164         0.0         0.0              NaN         NaN  \n",
       "5823      0.0  tt12478372         3.3        51.0              NaN         NaN  \n",
       "5846      0.0  tt11803618         7.7       348.0              NaN         NaN  \n",
       "\n",
       "[82 rows x 15 columns]"
      ]
     },
     "execution_count": 123,
     "metadata": {},
     "output_type": "execute_result"
    }
   ],
   "source": [
    "nflx2[nflx2['tmdb_popularity'].isnull()]"
   ]
  },
  {
   "cell_type": "code",
   "execution_count": 124,
   "metadata": {},
   "outputs": [],
   "source": [
    "#Only few data with missing tmdb_popularity, so it will be removed \n",
    "nflx2.dropna(subset='tmdb_popularity', inplace=True)"
   ]
  },
  {
   "cell_type": "markdown",
   "metadata": {},
   "source": [
    "Tmdb_score"
   ]
  },
  {
   "cell_type": "code",
   "execution_count": 125,
   "metadata": {},
   "outputs": [
    {
     "data": {
      "text/html": [
       "<div>\n",
       "<style scoped>\n",
       "    .dataframe tbody tr th:only-of-type {\n",
       "        vertical-align: middle;\n",
       "    }\n",
       "\n",
       "    .dataframe tbody tr th {\n",
       "        vertical-align: top;\n",
       "    }\n",
       "\n",
       "    .dataframe thead th {\n",
       "        text-align: right;\n",
       "    }\n",
       "</style>\n",
       "<table border=\"1\" class=\"dataframe\">\n",
       "  <thead>\n",
       "    <tr style=\"text-align: right;\">\n",
       "      <th></th>\n",
       "      <th>id</th>\n",
       "      <th>title</th>\n",
       "      <th>type</th>\n",
       "      <th>description</th>\n",
       "      <th>release_year</th>\n",
       "      <th>age_certification</th>\n",
       "      <th>runtime</th>\n",
       "      <th>genres</th>\n",
       "      <th>production_countries</th>\n",
       "      <th>seasons</th>\n",
       "      <th>imdb_id</th>\n",
       "      <th>imdb_score</th>\n",
       "      <th>imdb_votes</th>\n",
       "      <th>tmdb_popularity</th>\n",
       "      <th>tmdb_score</th>\n",
       "    </tr>\n",
       "  </thead>\n",
       "  <tbody>\n",
       "    <tr>\n",
       "      <th>56</th>\n",
       "      <td>tm721687</td>\n",
       "      <td>Vaashi</td>\n",
       "      <td>MOVIE</td>\n",
       "      <td>Ebin Mathew, a budding lawyer ambitiously join...</td>\n",
       "      <td>1983</td>\n",
       "      <td>No age certification</td>\n",
       "      <td>123</td>\n",
       "      <td>['drama', 'thriller']</td>\n",
       "      <td>['IN']</td>\n",
       "      <td>0.0</td>\n",
       "      <td>tt13913068</td>\n",
       "      <td>6.7</td>\n",
       "      <td>388.0</td>\n",
       "      <td>3.790</td>\n",
       "      <td>NaN</td>\n",
       "    </tr>\n",
       "    <tr>\n",
       "      <th>79</th>\n",
       "      <td>tm342996</td>\n",
       "      <td>Duniya</td>\n",
       "      <td>MOVIE</td>\n",
       "      <td>Mohan Kumar's diligence and honesty lands him ...</td>\n",
       "      <td>1984</td>\n",
       "      <td>No age certification</td>\n",
       "      <td>170</td>\n",
       "      <td>['action', 'drama']</td>\n",
       "      <td>['IN']</td>\n",
       "      <td>0.0</td>\n",
       "      <td>tt0301231</td>\n",
       "      <td>6.3</td>\n",
       "      <td>245.0</td>\n",
       "      <td>1.394</td>\n",
       "      <td>NaN</td>\n",
       "    </tr>\n",
       "    <tr>\n",
       "      <th>83</th>\n",
       "      <td>ts63001</td>\n",
       "      <td>High Risk</td>\n",
       "      <td>SHOW</td>\n",
       "      <td>High Risk is a program aired by the CBS televi...</td>\n",
       "      <td>1988</td>\n",
       "      <td>TV-PG</td>\n",
       "      <td>50</td>\n",
       "      <td>['comedy']</td>\n",
       "      <td>['US']</td>\n",
       "      <td>1.0</td>\n",
       "      <td>tt5944220</td>\n",
       "      <td>3.8</td>\n",
       "      <td>6.0</td>\n",
       "      <td>1.400</td>\n",
       "      <td>NaN</td>\n",
       "    </tr>\n",
       "    <tr>\n",
       "      <th>84</th>\n",
       "      <td>tm311264</td>\n",
       "      <td>Muqaddar Ka Faisla</td>\n",
       "      <td>MOVIE</td>\n",
       "      <td>Muqaddar ka Faisla, is the story of Pandit Kri...</td>\n",
       "      <td>1987</td>\n",
       "      <td>No age certification</td>\n",
       "      <td>172</td>\n",
       "      <td>['action', 'comedy', 'drama', 'family']</td>\n",
       "      <td>['IN']</td>\n",
       "      <td>0.0</td>\n",
       "      <td>tt0239682</td>\n",
       "      <td>4.8</td>\n",
       "      <td>69.0</td>\n",
       "      <td>2.236</td>\n",
       "      <td>NaN</td>\n",
       "    </tr>\n",
       "    <tr>\n",
       "      <th>85</th>\n",
       "      <td>tm411457</td>\n",
       "      <td>Pyar Ke Do Pal</td>\n",
       "      <td>MOVIE</td>\n",
       "      <td>In order to assist her close friend, Rajni Tha...</td>\n",
       "      <td>1986</td>\n",
       "      <td>No age certification</td>\n",
       "      <td>125</td>\n",
       "      <td>['drama', 'action']</td>\n",
       "      <td>['IN']</td>\n",
       "      <td>0.0</td>\n",
       "      <td>tt0358053</td>\n",
       "      <td>6.1</td>\n",
       "      <td>66.0</td>\n",
       "      <td>1.756</td>\n",
       "      <td>NaN</td>\n",
       "    </tr>\n",
       "    <tr>\n",
       "      <th>...</th>\n",
       "      <td>...</td>\n",
       "      <td>...</td>\n",
       "      <td>...</td>\n",
       "      <td>...</td>\n",
       "      <td>...</td>\n",
       "      <td>...</td>\n",
       "      <td>...</td>\n",
       "      <td>...</td>\n",
       "      <td>...</td>\n",
       "      <td>...</td>\n",
       "      <td>...</td>\n",
       "      <td>...</td>\n",
       "      <td>...</td>\n",
       "      <td>...</td>\n",
       "      <td>...</td>\n",
       "    </tr>\n",
       "    <tr>\n",
       "      <th>5830</th>\n",
       "      <td>ts288861</td>\n",
       "      <td>Let's Eat</td>\n",
       "      <td>SHOW</td>\n",
       "      <td>A food-blogging insurance agent encounters a f...</td>\n",
       "      <td>2021</td>\n",
       "      <td>TV-14</td>\n",
       "      <td>60</td>\n",
       "      <td>['drama', 'comedy']</td>\n",
       "      <td>['TH']</td>\n",
       "      <td>1.0</td>\n",
       "      <td>tt15978704</td>\n",
       "      <td>8.2</td>\n",
       "      <td>5.0</td>\n",
       "      <td>2.334</td>\n",
       "      <td>NaN</td>\n",
       "    </tr>\n",
       "    <tr>\n",
       "      <th>5837</th>\n",
       "      <td>tm1040816</td>\n",
       "      <td>Momshies! Your Soul is Mine</td>\n",
       "      <td>MOVIE</td>\n",
       "      <td>Three women with totally different lives accid...</td>\n",
       "      <td>2021</td>\n",
       "      <td>No age certification</td>\n",
       "      <td>108</td>\n",
       "      <td>['comedy']</td>\n",
       "      <td>['PH']</td>\n",
       "      <td>0.0</td>\n",
       "      <td>tt14412240</td>\n",
       "      <td>5.8</td>\n",
       "      <td>27.0</td>\n",
       "      <td>2.170</td>\n",
       "      <td>NaN</td>\n",
       "    </tr>\n",
       "    <tr>\n",
       "      <th>5839</th>\n",
       "      <td>tm1165179</td>\n",
       "      <td>Kongsi Raya</td>\n",
       "      <td>MOVIE</td>\n",
       "      <td>Jack - a Chinese chef-manager who is in-line t...</td>\n",
       "      <td>2022</td>\n",
       "      <td>No age certification</td>\n",
       "      <td>102</td>\n",
       "      <td>['comedy']</td>\n",
       "      <td>['MY']</td>\n",
       "      <td>0.0</td>\n",
       "      <td>tt16806990</td>\n",
       "      <td>7.0</td>\n",
       "      <td>66.0</td>\n",
       "      <td>2.112</td>\n",
       "      <td>NaN</td>\n",
       "    </tr>\n",
       "    <tr>\n",
       "      <th>5841</th>\n",
       "      <td>tm985215</td>\n",
       "      <td>Princess 'Daya'Reese</td>\n",
       "      <td>MOVIE</td>\n",
       "      <td>Reese is a con artist from Manila who dreams o...</td>\n",
       "      <td>2021</td>\n",
       "      <td>No age certification</td>\n",
       "      <td>115</td>\n",
       "      <td>['comedy', 'romance']</td>\n",
       "      <td>['PH']</td>\n",
       "      <td>0.0</td>\n",
       "      <td>tt13399802</td>\n",
       "      <td>7.1</td>\n",
       "      <td>50.0</td>\n",
       "      <td>1.383</td>\n",
       "      <td>NaN</td>\n",
       "    </tr>\n",
       "    <tr>\n",
       "      <th>5845</th>\n",
       "      <td>tm1014599</td>\n",
       "      <td>Fine Wine</td>\n",
       "      <td>MOVIE</td>\n",
       "      <td>A beautiful love story that can happen between...</td>\n",
       "      <td>2021</td>\n",
       "      <td>No age certification</td>\n",
       "      <td>100</td>\n",
       "      <td>['romance', 'drama']</td>\n",
       "      <td>['NG']</td>\n",
       "      <td>0.0</td>\n",
       "      <td>tt13857480</td>\n",
       "      <td>6.8</td>\n",
       "      <td>45.0</td>\n",
       "      <td>1.466</td>\n",
       "      <td>NaN</td>\n",
       "    </tr>\n",
       "  </tbody>\n",
       "</table>\n",
       "<p>169 rows × 15 columns</p>\n",
       "</div>"
      ],
      "text/plain": [
       "             id                        title   type  \\\n",
       "56     tm721687                       Vaashi  MOVIE   \n",
       "79     tm342996                       Duniya  MOVIE   \n",
       "83      ts63001                    High Risk   SHOW   \n",
       "84     tm311264           Muqaddar Ka Faisla  MOVIE   \n",
       "85     tm411457               Pyar Ke Do Pal  MOVIE   \n",
       "...         ...                          ...    ...   \n",
       "5830   ts288861                    Let's Eat   SHOW   \n",
       "5837  tm1040816  Momshies! Your Soul is Mine  MOVIE   \n",
       "5839  tm1165179                  Kongsi Raya  MOVIE   \n",
       "5841   tm985215         Princess 'Daya'Reese  MOVIE   \n",
       "5845  tm1014599                    Fine Wine  MOVIE   \n",
       "\n",
       "                                            description  release_year  \\\n",
       "56    Ebin Mathew, a budding lawyer ambitiously join...          1983   \n",
       "79    Mohan Kumar's diligence and honesty lands him ...          1984   \n",
       "83    High Risk is a program aired by the CBS televi...          1988   \n",
       "84    Muqaddar ka Faisla, is the story of Pandit Kri...          1987   \n",
       "85    In order to assist her close friend, Rajni Tha...          1986   \n",
       "...                                                 ...           ...   \n",
       "5830  A food-blogging insurance agent encounters a f...          2021   \n",
       "5837  Three women with totally different lives accid...          2021   \n",
       "5839  Jack - a Chinese chef-manager who is in-line t...          2022   \n",
       "5841  Reese is a con artist from Manila who dreams o...          2021   \n",
       "5845  A beautiful love story that can happen between...          2021   \n",
       "\n",
       "         age_certification  runtime                                   genres  \\\n",
       "56    No age certification      123                    ['drama', 'thriller']   \n",
       "79    No age certification      170                      ['action', 'drama']   \n",
       "83                   TV-PG       50                               ['comedy']   \n",
       "84    No age certification      172  ['action', 'comedy', 'drama', 'family']   \n",
       "85    No age certification      125                      ['drama', 'action']   \n",
       "...                    ...      ...                                      ...   \n",
       "5830                 TV-14       60                      ['drama', 'comedy']   \n",
       "5837  No age certification      108                               ['comedy']   \n",
       "5839  No age certification      102                               ['comedy']   \n",
       "5841  No age certification      115                    ['comedy', 'romance']   \n",
       "5845  No age certification      100                     ['romance', 'drama']   \n",
       "\n",
       "     production_countries  seasons     imdb_id  imdb_score  imdb_votes  \\\n",
       "56                 ['IN']      0.0  tt13913068         6.7       388.0   \n",
       "79                 ['IN']      0.0   tt0301231         6.3       245.0   \n",
       "83                 ['US']      1.0   tt5944220         3.8         6.0   \n",
       "84                 ['IN']      0.0   tt0239682         4.8        69.0   \n",
       "85                 ['IN']      0.0   tt0358053         6.1        66.0   \n",
       "...                   ...      ...         ...         ...         ...   \n",
       "5830               ['TH']      1.0  tt15978704         8.2         5.0   \n",
       "5837               ['PH']      0.0  tt14412240         5.8        27.0   \n",
       "5839               ['MY']      0.0  tt16806990         7.0        66.0   \n",
       "5841               ['PH']      0.0  tt13399802         7.1        50.0   \n",
       "5845               ['NG']      0.0  tt13857480         6.8        45.0   \n",
       "\n",
       "      tmdb_popularity  tmdb_score  \n",
       "56              3.790         NaN  \n",
       "79              1.394         NaN  \n",
       "83              1.400         NaN  \n",
       "84              2.236         NaN  \n",
       "85              1.756         NaN  \n",
       "...               ...         ...  \n",
       "5830            2.334         NaN  \n",
       "5837            2.170         NaN  \n",
       "5839            2.112         NaN  \n",
       "5841            1.383         NaN  \n",
       "5845            1.466         NaN  \n",
       "\n",
       "[169 rows x 15 columns]"
      ]
     },
     "execution_count": 125,
     "metadata": {},
     "output_type": "execute_result"
    }
   ],
   "source": [
    "nflx2[nflx2['tmdb_score'].isnull()]"
   ]
  },
  {
   "cell_type": "code",
   "execution_count": 126,
   "metadata": {},
   "outputs": [],
   "source": [
    "#Only few data with missing tmdb_score, so it will be removed \n",
    "nflx2.dropna(subset='tmdb_score', inplace=True)"
   ]
  },
  {
   "cell_type": "code",
   "execution_count": 127,
   "metadata": {},
   "outputs": [
    {
     "name": "stdout",
     "output_type": "stream",
     "text": [
      "<class 'pandas.core.frame.DataFrame'>\n",
      "Int64Index: 5189 entries, 1 to 5849\n",
      "Data columns (total 15 columns):\n",
      " #   Column                Non-Null Count  Dtype  \n",
      "---  ------                --------------  -----  \n",
      " 0   id                    5189 non-null   object \n",
      " 1   title                 5189 non-null   object \n",
      " 2   type                  5189 non-null   object \n",
      " 3   description           5189 non-null   object \n",
      " 4   release_year          5189 non-null   int64  \n",
      " 5   age_certification     5189 non-null   object \n",
      " 6   runtime               5189 non-null   int64  \n",
      " 7   genres                5189 non-null   object \n",
      " 8   production_countries  5189 non-null   object \n",
      " 9   seasons               5189 non-null   float64\n",
      " 10  imdb_id               5189 non-null   object \n",
      " 11  imdb_score            5189 non-null   float64\n",
      " 12  imdb_votes            5189 non-null   float64\n",
      " 13  tmdb_popularity       5189 non-null   float64\n",
      " 14  tmdb_score            5189 non-null   float64\n",
      "dtypes: float64(5), int64(2), object(8)\n",
      "memory usage: 648.6+ KB\n"
     ]
    }
   ],
   "source": [
    "#Check data again\n",
    "nflx2.info()"
   ]
  },
  {
   "cell_type": "markdown",
   "metadata": {},
   "source": [
    "All missing values has been removed. "
   ]
  },
  {
   "cell_type": "code",
   "execution_count": 128,
   "metadata": {},
   "outputs": [],
   "source": [
    "#reset the index\n",
    "nflx2.reset_index(inplace=True)"
   ]
  },
  {
   "cell_type": "code",
   "execution_count": 129,
   "metadata": {},
   "outputs": [
    {
     "data": {
      "text/html": [
       "<div>\n",
       "<style scoped>\n",
       "    .dataframe tbody tr th:only-of-type {\n",
       "        vertical-align: middle;\n",
       "    }\n",
       "\n",
       "    .dataframe tbody tr th {\n",
       "        vertical-align: top;\n",
       "    }\n",
       "\n",
       "    .dataframe thead th {\n",
       "        text-align: right;\n",
       "    }\n",
       "</style>\n",
       "<table border=\"1\" class=\"dataframe\">\n",
       "  <thead>\n",
       "    <tr style=\"text-align: right;\">\n",
       "      <th></th>\n",
       "      <th>index</th>\n",
       "      <th>id</th>\n",
       "      <th>title</th>\n",
       "      <th>type</th>\n",
       "      <th>description</th>\n",
       "      <th>release_year</th>\n",
       "      <th>age_certification</th>\n",
       "      <th>runtime</th>\n",
       "      <th>genres</th>\n",
       "      <th>production_countries</th>\n",
       "      <th>seasons</th>\n",
       "      <th>imdb_id</th>\n",
       "      <th>imdb_score</th>\n",
       "      <th>imdb_votes</th>\n",
       "      <th>tmdb_popularity</th>\n",
       "      <th>tmdb_score</th>\n",
       "    </tr>\n",
       "  </thead>\n",
       "  <tbody>\n",
       "    <tr>\n",
       "      <th>0</th>\n",
       "      <td>1</td>\n",
       "      <td>tm84618</td>\n",
       "      <td>Taxi Driver</td>\n",
       "      <td>MOVIE</td>\n",
       "      <td>A mentally unstable Vietnam War veteran works ...</td>\n",
       "      <td>1976</td>\n",
       "      <td>R</td>\n",
       "      <td>114</td>\n",
       "      <td>['drama', 'crime']</td>\n",
       "      <td>['US']</td>\n",
       "      <td>0.0</td>\n",
       "      <td>tt0075314</td>\n",
       "      <td>8.2</td>\n",
       "      <td>808582.0</td>\n",
       "      <td>40.965</td>\n",
       "      <td>8.179</td>\n",
       "    </tr>\n",
       "    <tr>\n",
       "      <th>1</th>\n",
       "      <td>2</td>\n",
       "      <td>tm154986</td>\n",
       "      <td>Deliverance</td>\n",
       "      <td>MOVIE</td>\n",
       "      <td>Intent on seeing the Cahulawassee River before...</td>\n",
       "      <td>1972</td>\n",
       "      <td>R</td>\n",
       "      <td>109</td>\n",
       "      <td>['drama', 'action', 'thriller', 'european']</td>\n",
       "      <td>['US']</td>\n",
       "      <td>0.0</td>\n",
       "      <td>tt0068473</td>\n",
       "      <td>7.7</td>\n",
       "      <td>107673.0</td>\n",
       "      <td>10.010</td>\n",
       "      <td>7.300</td>\n",
       "    </tr>\n",
       "    <tr>\n",
       "      <th>2</th>\n",
       "      <td>3</td>\n",
       "      <td>tm127384</td>\n",
       "      <td>Monty Python and the Holy Grail</td>\n",
       "      <td>MOVIE</td>\n",
       "      <td>King Arthur, accompanied by his squire, recrui...</td>\n",
       "      <td>1975</td>\n",
       "      <td>PG</td>\n",
       "      <td>91</td>\n",
       "      <td>['fantasy', 'action', 'comedy']</td>\n",
       "      <td>['GB']</td>\n",
       "      <td>0.0</td>\n",
       "      <td>tt0071853</td>\n",
       "      <td>8.2</td>\n",
       "      <td>534486.0</td>\n",
       "      <td>15.461</td>\n",
       "      <td>7.811</td>\n",
       "    </tr>\n",
       "    <tr>\n",
       "      <th>3</th>\n",
       "      <td>4</td>\n",
       "      <td>tm120801</td>\n",
       "      <td>The Dirty Dozen</td>\n",
       "      <td>MOVIE</td>\n",
       "      <td>12 American military prisoners in World War II...</td>\n",
       "      <td>1967</td>\n",
       "      <td>No age certification</td>\n",
       "      <td>150</td>\n",
       "      <td>['war', 'action']</td>\n",
       "      <td>['GB', 'US']</td>\n",
       "      <td>0.0</td>\n",
       "      <td>tt0061578</td>\n",
       "      <td>7.7</td>\n",
       "      <td>72662.0</td>\n",
       "      <td>20.398</td>\n",
       "      <td>7.600</td>\n",
       "    </tr>\n",
       "    <tr>\n",
       "      <th>4</th>\n",
       "      <td>5</td>\n",
       "      <td>ts22164</td>\n",
       "      <td>Monty Python's Flying Circus</td>\n",
       "      <td>SHOW</td>\n",
       "      <td>A British sketch comedy series with the shows ...</td>\n",
       "      <td>1969</td>\n",
       "      <td>TV-14</td>\n",
       "      <td>30</td>\n",
       "      <td>['comedy', 'european']</td>\n",
       "      <td>['GB']</td>\n",
       "      <td>4.0</td>\n",
       "      <td>tt0063929</td>\n",
       "      <td>8.8</td>\n",
       "      <td>73424.0</td>\n",
       "      <td>17.617</td>\n",
       "      <td>8.306</td>\n",
       "    </tr>\n",
       "  </tbody>\n",
       "</table>\n",
       "</div>"
      ],
      "text/plain": [
       "   index        id                            title   type  \\\n",
       "0      1   tm84618                      Taxi Driver  MOVIE   \n",
       "1      2  tm154986                      Deliverance  MOVIE   \n",
       "2      3  tm127384  Monty Python and the Holy Grail  MOVIE   \n",
       "3      4  tm120801                  The Dirty Dozen  MOVIE   \n",
       "4      5   ts22164     Monty Python's Flying Circus   SHOW   \n",
       "\n",
       "                                         description  release_year  \\\n",
       "0  A mentally unstable Vietnam War veteran works ...          1976   \n",
       "1  Intent on seeing the Cahulawassee River before...          1972   \n",
       "2  King Arthur, accompanied by his squire, recrui...          1975   \n",
       "3  12 American military prisoners in World War II...          1967   \n",
       "4  A British sketch comedy series with the shows ...          1969   \n",
       "\n",
       "      age_certification  runtime                                       genres  \\\n",
       "0                     R      114                           ['drama', 'crime']   \n",
       "1                     R      109  ['drama', 'action', 'thriller', 'european']   \n",
       "2                    PG       91              ['fantasy', 'action', 'comedy']   \n",
       "3  No age certification      150                            ['war', 'action']   \n",
       "4                 TV-14       30                       ['comedy', 'european']   \n",
       "\n",
       "  production_countries  seasons    imdb_id  imdb_score  imdb_votes  \\\n",
       "0               ['US']      0.0  tt0075314         8.2    808582.0   \n",
       "1               ['US']      0.0  tt0068473         7.7    107673.0   \n",
       "2               ['GB']      0.0  tt0071853         8.2    534486.0   \n",
       "3         ['GB', 'US']      0.0  tt0061578         7.7     72662.0   \n",
       "4               ['GB']      4.0  tt0063929         8.8     73424.0   \n",
       "\n",
       "   tmdb_popularity  tmdb_score  \n",
       "0           40.965       8.179  \n",
       "1           10.010       7.300  \n",
       "2           15.461       7.811  \n",
       "3           20.398       7.600  \n",
       "4           17.617       8.306  "
      ]
     },
     "execution_count": 129,
     "metadata": {},
     "output_type": "execute_result"
    }
   ],
   "source": [
    "nflx2.head()"
   ]
  },
  {
   "cell_type": "code",
   "execution_count": 130,
   "metadata": {},
   "outputs": [],
   "source": [
    "nflx2.drop(nflx.columns[0], axis=1,inplace=True)"
   ]
  },
  {
   "cell_type": "code",
   "execution_count": 131,
   "metadata": {},
   "outputs": [
    {
     "data": {
      "text/html": [
       "<div>\n",
       "<style scoped>\n",
       "    .dataframe tbody tr th:only-of-type {\n",
       "        vertical-align: middle;\n",
       "    }\n",
       "\n",
       "    .dataframe tbody tr th {\n",
       "        vertical-align: top;\n",
       "    }\n",
       "\n",
       "    .dataframe thead th {\n",
       "        text-align: right;\n",
       "    }\n",
       "</style>\n",
       "<table border=\"1\" class=\"dataframe\">\n",
       "  <thead>\n",
       "    <tr style=\"text-align: right;\">\n",
       "      <th></th>\n",
       "      <th>id</th>\n",
       "      <th>title</th>\n",
       "      <th>type</th>\n",
       "      <th>description</th>\n",
       "      <th>release_year</th>\n",
       "      <th>age_certification</th>\n",
       "      <th>runtime</th>\n",
       "      <th>genres</th>\n",
       "      <th>production_countries</th>\n",
       "      <th>seasons</th>\n",
       "      <th>imdb_id</th>\n",
       "      <th>imdb_score</th>\n",
       "      <th>imdb_votes</th>\n",
       "      <th>tmdb_popularity</th>\n",
       "      <th>tmdb_score</th>\n",
       "    </tr>\n",
       "  </thead>\n",
       "  <tbody>\n",
       "    <tr>\n",
       "      <th>0</th>\n",
       "      <td>tm84618</td>\n",
       "      <td>Taxi Driver</td>\n",
       "      <td>MOVIE</td>\n",
       "      <td>A mentally unstable Vietnam War veteran works ...</td>\n",
       "      <td>1976</td>\n",
       "      <td>R</td>\n",
       "      <td>114</td>\n",
       "      <td>['drama', 'crime']</td>\n",
       "      <td>['US']</td>\n",
       "      <td>0.0</td>\n",
       "      <td>tt0075314</td>\n",
       "      <td>8.2</td>\n",
       "      <td>808582.0</td>\n",
       "      <td>40.965</td>\n",
       "      <td>8.179</td>\n",
       "    </tr>\n",
       "    <tr>\n",
       "      <th>1</th>\n",
       "      <td>tm154986</td>\n",
       "      <td>Deliverance</td>\n",
       "      <td>MOVIE</td>\n",
       "      <td>Intent on seeing the Cahulawassee River before...</td>\n",
       "      <td>1972</td>\n",
       "      <td>R</td>\n",
       "      <td>109</td>\n",
       "      <td>['drama', 'action', 'thriller', 'european']</td>\n",
       "      <td>['US']</td>\n",
       "      <td>0.0</td>\n",
       "      <td>tt0068473</td>\n",
       "      <td>7.7</td>\n",
       "      <td>107673.0</td>\n",
       "      <td>10.010</td>\n",
       "      <td>7.300</td>\n",
       "    </tr>\n",
       "    <tr>\n",
       "      <th>2</th>\n",
       "      <td>tm127384</td>\n",
       "      <td>Monty Python and the Holy Grail</td>\n",
       "      <td>MOVIE</td>\n",
       "      <td>King Arthur, accompanied by his squire, recrui...</td>\n",
       "      <td>1975</td>\n",
       "      <td>PG</td>\n",
       "      <td>91</td>\n",
       "      <td>['fantasy', 'action', 'comedy']</td>\n",
       "      <td>['GB']</td>\n",
       "      <td>0.0</td>\n",
       "      <td>tt0071853</td>\n",
       "      <td>8.2</td>\n",
       "      <td>534486.0</td>\n",
       "      <td>15.461</td>\n",
       "      <td>7.811</td>\n",
       "    </tr>\n",
       "    <tr>\n",
       "      <th>3</th>\n",
       "      <td>tm120801</td>\n",
       "      <td>The Dirty Dozen</td>\n",
       "      <td>MOVIE</td>\n",
       "      <td>12 American military prisoners in World War II...</td>\n",
       "      <td>1967</td>\n",
       "      <td>No age certification</td>\n",
       "      <td>150</td>\n",
       "      <td>['war', 'action']</td>\n",
       "      <td>['GB', 'US']</td>\n",
       "      <td>0.0</td>\n",
       "      <td>tt0061578</td>\n",
       "      <td>7.7</td>\n",
       "      <td>72662.0</td>\n",
       "      <td>20.398</td>\n",
       "      <td>7.600</td>\n",
       "    </tr>\n",
       "    <tr>\n",
       "      <th>4</th>\n",
       "      <td>ts22164</td>\n",
       "      <td>Monty Python's Flying Circus</td>\n",
       "      <td>SHOW</td>\n",
       "      <td>A British sketch comedy series with the shows ...</td>\n",
       "      <td>1969</td>\n",
       "      <td>TV-14</td>\n",
       "      <td>30</td>\n",
       "      <td>['comedy', 'european']</td>\n",
       "      <td>['GB']</td>\n",
       "      <td>4.0</td>\n",
       "      <td>tt0063929</td>\n",
       "      <td>8.8</td>\n",
       "      <td>73424.0</td>\n",
       "      <td>17.617</td>\n",
       "      <td>8.306</td>\n",
       "    </tr>\n",
       "  </tbody>\n",
       "</table>\n",
       "</div>"
      ],
      "text/plain": [
       "         id                            title   type  \\\n",
       "0   tm84618                      Taxi Driver  MOVIE   \n",
       "1  tm154986                      Deliverance  MOVIE   \n",
       "2  tm127384  Monty Python and the Holy Grail  MOVIE   \n",
       "3  tm120801                  The Dirty Dozen  MOVIE   \n",
       "4   ts22164     Monty Python's Flying Circus   SHOW   \n",
       "\n",
       "                                         description  release_year  \\\n",
       "0  A mentally unstable Vietnam War veteran works ...          1976   \n",
       "1  Intent on seeing the Cahulawassee River before...          1972   \n",
       "2  King Arthur, accompanied by his squire, recrui...          1975   \n",
       "3  12 American military prisoners in World War II...          1967   \n",
       "4  A British sketch comedy series with the shows ...          1969   \n",
       "\n",
       "      age_certification  runtime                                       genres  \\\n",
       "0                     R      114                           ['drama', 'crime']   \n",
       "1                     R      109  ['drama', 'action', 'thriller', 'european']   \n",
       "2                    PG       91              ['fantasy', 'action', 'comedy']   \n",
       "3  No age certification      150                            ['war', 'action']   \n",
       "4                 TV-14       30                       ['comedy', 'european']   \n",
       "\n",
       "  production_countries  seasons    imdb_id  imdb_score  imdb_votes  \\\n",
       "0               ['US']      0.0  tt0075314         8.2    808582.0   \n",
       "1               ['US']      0.0  tt0068473         7.7    107673.0   \n",
       "2               ['GB']      0.0  tt0071853         8.2    534486.0   \n",
       "3         ['GB', 'US']      0.0  tt0061578         7.7     72662.0   \n",
       "4               ['GB']      4.0  tt0063929         8.8     73424.0   \n",
       "\n",
       "   tmdb_popularity  tmdb_score  \n",
       "0           40.965       8.179  \n",
       "1           10.010       7.300  \n",
       "2           15.461       7.811  \n",
       "3           20.398       7.600  \n",
       "4           17.617       8.306  "
      ]
     },
     "execution_count": 131,
     "metadata": {},
     "output_type": "execute_result"
    }
   ],
   "source": [
    "nflx2.head()"
   ]
  },
  {
   "cell_type": "code",
   "execution_count": 132,
   "metadata": {},
   "outputs": [],
   "source": [
    "#save new file to a csv file\n",
    "nflx2.to_csv('nflx2.csv')\n",
    "\n",
    "#alternative\n",
    "#pd.write_csv('file directory path')"
   ]
  },
  {
   "cell_type": "markdown",
   "metadata": {},
   "source": [
    "# Exploratory Data Analysis"
   ]
  },
  {
   "cell_type": "markdown",
   "metadata": {},
   "source": [
    "Title "
   ]
  },
  {
   "cell_type": "code",
   "execution_count": 133,
   "metadata": {},
   "outputs": [
    {
     "data": {
      "text/plain": [
       "The Gift                              3\n",
       "Taxi Driver                           2\n",
       "Connected                             2\n",
       "Johnny Test                           2\n",
       "Fearless                              2\n",
       "                                     ..\n",
       "Friends from College                  1\n",
       "An Evening with Beverly Luff Linn     1\n",
       "RBG                                   1\n",
       "Ravenous                              1\n",
       "Mighty Little Bheem: Kite Festival    1\n",
       "Name: title, Length: 5148, dtype: int64"
      ]
     },
     "execution_count": 133,
     "metadata": {},
     "output_type": "execute_result"
    }
   ],
   "source": [
    "nflx2['title'].value_counts()"
   ]
  },
  {
   "cell_type": "markdown",
   "metadata": {},
   "source": [
    "There are some title appear more than once"
   ]
  },
  {
   "cell_type": "markdown",
   "metadata": {},
   "source": [
    "Type"
   ]
  },
  {
   "cell_type": "code",
   "execution_count": 134,
   "metadata": {},
   "outputs": [
    {
     "data": {
      "image/png": "[encoded data removed]",
      "text/plain": [
       "<Figure size 720x576 with 1 Axes>"
      ]
     },
     "metadata": {
      "needs_background": "light"
     },
     "output_type": "display_data"
    }
   ],
   "source": [
    "fig = plt.figure(figsize=(10,8))\n",
    "plt.barh(y=nflx2['type'].unique(), width=nflx2['type'].value_counts())\n",
    "plt.xlabel('Banyak konten')\n",
    "plt.ylabel('Tipe konten')\n",
    "plt.title('Banyak konten menurut tipe konten')\n",
    "plt.show(fig)"
   ]
  },
  {
   "cell_type": "markdown",
   "metadata": {},
   "source": [
    "The content dominated by movie"
   ]
  },
  {
   "cell_type": "markdown",
   "metadata": {},
   "source": [
    "Release year"
   ]
  },
  {
   "cell_type": "code",
   "execution_count": 135,
   "metadata": {},
   "outputs": [
    {
     "data": {
      "image/png": "[encoded data removed]",
      "text/plain": [
       "<Figure size 720x576 with 1 Axes>"
      ]
     },
     "metadata": {
      "needs_background": "light"
     },
     "output_type": "display_data"
    }
   ],
   "source": [
    "fig = plt.figure(figsize=(10,8))\n",
    "relye_df = pd.DataFrame(nflx2['release_year'].value_counts())\n",
    "relye_df.rename(columns={'release_year':'banyak_konten'}, inplace=True)\n",
    "sns.lineplot(x = relye_df.index, y='banyak_konten', data=relye_df)\n",
    "plt.xlabel('Tahun rilis')\n",
    "plt.ylabel('Banyak konten')\n",
    "plt.title('Banyak konten per tahun rilis')\n",
    "plt.show(fig)"
   ]
  },
  {
   "cell_type": "markdown",
   "metadata": {},
   "source": [
    "Age certification"
   ]
  },
  {
   "cell_type": "code",
   "execution_count": 136,
   "metadata": {},
   "outputs": [
    {
     "data": {
      "application/vnd.plotly.v1+json": {
       "config": {
        "plotlyServerURL": "https://plot.ly"
       },
       "data": [
        {
         "hoverinfo": "label",
         "labels": [
          "R",
          "PG",
          "No age certification",
          "TV-14",
          "PG-13",
          "TV-MA",
          "TV-PG",
          "TV-Y",
          "TV-G",
          "TV-Y7",
          "G",
          "NC-17"
         ],
         "textinfo": "percent",
         "type": "pie",
         "values": [
          2220,
          828,
          530,
          435,
          419,
          224,
          162,
          106,
          89,
          87,
          74,
          15
         ]
        }
       ],
       "layout": {
        "template": {
         "data": {
          "bar": [
           {
            "error_x": {
             "color": "#2a3f5f"
            },
            "error_y": {
             "color": "#2a3f5f"
            },
            "marker": {
             "line": {
              "color": "#E5ECF6",
              "width": 0.5
             },
             "pattern": {
              "fillmode": "overlay",
              "size": 10,
              "solidity": 0.2
             }
            },
            "type": "bar"
           }
          ],
          "barpolar": [
           {
            "marker": {
             "line": {
              "color": "#E5ECF6",
              "width": 0.5
             },
             "pattern": {
              "fillmode": "overlay",
              "size": 10,
              "solidity": 0.2
             }
            },
            "type": "barpolar"
           }
          ],
          "carpet": [
           {
            "aaxis": {
             "endlinecolor": "#2a3f5f",
             "gridcolor": "white",
             "linecolor": "white",
             "minorgridcolor": "white",
             "startlinecolor": "#2a3f5f"
            },
            "baxis": {
             "endlinecolor": "#2a3f5f",
             "gridcolor": "white",
             "linecolor": "white",
             "minorgridcolor": "white",
             "startlinecolor": "#2a3f5f"
            },
            "type": "carpet"
           }
          ],
          "choropleth": [
           {
            "colorbar": {
             "outlinewidth": 0,
             "ticks": ""
            },
            "type": "choropleth"
           }
          ],
          "contour": [
           {
            "colorbar": {
             "outlinewidth": 0,
             "ticks": ""
            },
            "colorscale": [
             [
              0,
              "#0d0887"
             ],
             [
              0.1111111111111111,
              "#46039f"
             ],
             [
              0.2222222222222222,
              "#7201a8"
             ],
             [
              0.3333333333333333,
              "#9c179e"
             ],
             [
              0.4444444444444444,
              "#bd3786"
             ],
             [
              0.5555555555555556,
              "#d8576b"
             ],
             [
              0.6666666666666666,
              "#ed7953"
             ],
             [
              0.7777777777777778,
              "#fb9f3a"
             ],
             [
              0.8888888888888888,
              "#fdca26"
             ],
             [
              1,
              "#f0f921"
             ]
            ],
            "type": "contour"
           }
          ],
          "contourcarpet": [
           {
            "colorbar": {
             "outlinewidth": 0,
             "ticks": ""
            },
            "type": "contourcarpet"
           }
          ],
          "heatmap": [
           {
            "colorbar": {
             "outlinewidth": 0,
             "ticks": ""
            },
            "colorscale": [
             [
              0,
              "#0d0887"
             ],
             [
              0.1111111111111111,
              "#46039f"
             ],
             [
              0.2222222222222222,
              "#7201a8"
             ],
             [
              0.3333333333333333,
              "#9c179e"
             ],
             [
              0.4444444444444444,
              "#bd3786"
             ],
             [
              0.5555555555555556,
              "#d8576b"
             ],
             [
              0.6666666666666666,
              "#ed7953"
             ],
             [
              0.7777777777777778,
              "#fb9f3a"
             ],
             [
              0.8888888888888888,
              "#fdca26"
             ],
             [
              1,
              "#f0f921"
             ]
            ],
            "type": "heatmap"
           }
          ],
          "heatmapgl": [
           {
            "colorbar": {
             "outlinewidth": 0,
             "ticks": ""
            },
            "colorscale": [
             [
              0,
              "#0d0887"
             ],
             [
              0.1111111111111111,
              "#46039f"
             ],
             [
              0.2222222222222222,
              "#7201a8"
             ],
             [
              0.3333333333333333,
              "#9c179e"
             ],
             [
              0.4444444444444444,
              "#bd3786"
             ],
             [
              0.5555555555555556,
              "#d8576b"
             ],
             [
              0.6666666666666666,
              "#ed7953"
             ],
             [
              0.7777777777777778,
              "#fb9f3a"
             ],
             [
              0.8888888888888888,
              "#fdca26"
             ],
             [
              1,
              "#f0f921"
             ]
            ],
            "type": "heatmapgl"
           }
          ],
          "histogram": [
           {
            "marker": {
             "pattern": {
              "fillmode": "overlay",
              "size": 10,
              "solidity": 0.2
             }
            },
            "type": "histogram"
           }
          ],
          "histogram2d": [
           {
            "colorbar": {
             "outlinewidth": 0,
             "ticks": ""
            },
            "colorscale": [
             [
              0,
              "#0d0887"
             ],
             [
              0.1111111111111111,
              "#46039f"
             ],
             [
              0.2222222222222222,
              "#7201a8"
             ],
             [
              0.3333333333333333,
              "#9c179e"
             ],
             [
              0.4444444444444444,
              "#bd3786"
             ],
             [
              0.5555555555555556,
              "#d8576b"
             ],
             [
              0.6666666666666666,
              "#ed7953"
             ],
             [
              0.7777777777777778,
              "#fb9f3a"
             ],
             [
              0.8888888888888888,
              "#fdca26"
             ],
             [
              1,
              "#f0f921"
             ]
            ],
            "type": "histogram2d"
           }
          ],
          "histogram2dcontour": [
           {
            "colorbar": {
             "outlinewidth": 0,
             "ticks": ""
            },
            "colorscale": [
             [
              0,
              "#0d0887"
             ],
             [
              0.1111111111111111,
              "#46039f"
             ],
             [
              0.2222222222222222,
              "#7201a8"
             ],
             [
              0.3333333333333333,
              "#9c179e"
             ],
             [
              0.4444444444444444,
              "#bd3786"
             ],
             [
              0.5555555555555556,
              "#d8576b"
             ],
             [
              0.6666666666666666,
              "#ed7953"
             ],
             [
              0.7777777777777778,
              "#fb9f3a"
             ],
             [
              0.8888888888888888,
              "#fdca26"
             ],
             [
              1,
              "#f0f921"
             ]
            ],
            "type": "histogram2dcontour"
           }
          ],
          "mesh3d": [
           {
            "colorbar": {
             "outlinewidth": 0,
             "ticks": ""
            },
            "type": "mesh3d"
           }
          ],
          "parcoords": [
           {
            "line": {
             "colorbar": {
              "outlinewidth": 0,
              "ticks": ""
             }
            },
            "type": "parcoords"
           }
          ],
          "pie": [
           {
            "automargin": true,
            "type": "pie"
           }
          ],
          "scatter": [
           {
            "fillpattern": {
             "fillmode": "overlay",
             "size": 10,
             "solidity": 0.2
            },
            "type": "scatter"
           }
          ],
          "scatter3d": [
           {
            "line": {
             "colorbar": {
              "outlinewidth": 0,
              "ticks": ""
             }
            },
            "marker": {
             "colorbar": {
              "outlinewidth": 0,
              "ticks": ""
             }
            },
            "type": "scatter3d"
           }
          ],
          "scattercarpet": [
           {
            "marker": {
             "colorbar": {
              "outlinewidth": 0,
              "ticks": ""
             }
            },
            "type": "scattercarpet"
           }
          ],
          "scattergeo": [
           {
            "marker": {
             "colorbar": {
              "outlinewidth": 0,
              "ticks": ""
             }
            },
            "type": "scattergeo"
           }
          ],
          "scattergl": [
           {
            "marker": {
             "colorbar": {
              "outlinewidth": 0,
              "ticks": ""
             }
            },
            "type": "scattergl"
           }
          ],
          "scattermapbox": [
           {
            "marker": {
             "colorbar": {
              "outlinewidth": 0,
              "ticks": ""
             }
            },
            "type": "scattermapbox"
           }
          ],
          "scatterpolar": [
           {
            "marker": {
             "colorbar": {
              "outlinewidth": 0,
              "ticks": ""
             }
            },
            "type": "scatterpolar"
           }
          ],
          "scatterpolargl": [
           {
            "marker": {
             "colorbar": {
              "outlinewidth": 0,
              "ticks": ""
             }
            },
            "type": "scatterpolargl"
           }
          ],
          "scatterternary": [
           {
            "marker": {
             "colorbar": {
              "outlinewidth": 0,
              "ticks": ""
             }
            },
            "type": "scatterternary"
           }
          ],
          "surface": [
           {
            "colorbar": {
             "outlinewidth": 0,
             "ticks": ""
            },
            "colorscale": [
             [
              0,
              "#0d0887"
             ],
             [
              0.1111111111111111,
              "#46039f"
             ],
             [
              0.2222222222222222,
              "#7201a8"
             ],
             [
              0.3333333333333333,
              "#9c179e"
             ],
             [
              0.4444444444444444,
              "#bd3786"
             ],
             [
              0.5555555555555556,
              "#d8576b"
             ],
             [
              0.6666666666666666,
              "#ed7953"
             ],
             [
              0.7777777777777778,
              "#fb9f3a"
             ],
             [
              0.8888888888888888,
              "#fdca26"
             ],
             [
              1,
              "#f0f921"
             ]
            ],
            "type": "surface"
           }
          ],
          "table": [
           {
            "cells": {
             "fill": {
              "color": "#EBF0F8"
             },
             "line": {
              "color": "white"
             }
            },
            "header": {
             "fill": {
              "color": "#C8D4E3"
             },
             "line": {
              "color": "white"
             }
            },
            "type": "table"
           }
          ]
         },
         "layout": {
          "annotationdefaults": {
           "arrowcolor": "#2a3f5f",
           "arrowhead": 0,
           "arrowwidth": 1
          },
          "autotypenumbers": "strict",
          "coloraxis": {
           "colorbar": {
            "outlinewidth": 0,
            "ticks": ""
           }
          },
          "colorscale": {
           "diverging": [
            [
             0,
             "#8e0152"
            ],
            [
             0.1,
             "#c51b7d"
            ],
            [
             0.2,
             "#de77ae"
            ],
            [
             0.3,
             "#f1b6da"
            ],
            [
             0.4,
             "#fde0ef"
            ],
            [
             0.5,
             "#f7f7f7"
            ],
            [
             0.6,
             "#e6f5d0"
            ],
            [
             0.7,
             "#b8e186"
            ],
            [
             0.8,
             "#7fbc41"
            ],
            [
             0.9,
             "#4d9221"
            ],
            [
             1,
             "#276419"
            ]
           ],
           "sequential": [
            [
             0,
             "#0d0887"
            ],
            [
             0.1111111111111111,
             "#46039f"
            ],
            [
             0.2222222222222222,
             "#7201a8"
            ],
            [
             0.3333333333333333,
             "#9c179e"
            ],
            [
             0.4444444444444444,
             "#bd3786"
            ],
            [
             0.5555555555555556,
             "#d8576b"
            ],
            [
             0.6666666666666666,
             "#ed7953"
            ],
            [
             0.7777777777777778,
             "#fb9f3a"
            ],
            [
             0.8888888888888888,
             "#fdca26"
            ],
            [
             1,
             "#f0f921"
            ]
           ],
           "sequentialminus": [
            [
             0,
             "#0d0887"
            ],
            [
             0.1111111111111111,
             "#46039f"
            ],
            [
             0.2222222222222222,
             "#7201a8"
            ],
            [
             0.3333333333333333,
             "#9c179e"
            ],
            [
             0.4444444444444444,
             "#bd3786"
            ],
            [
             0.5555555555555556,
             "#d8576b"
            ],
            [
             0.6666666666666666,
             "#ed7953"
            ],
            [
             0.7777777777777778,
             "#fb9f3a"
            ],
            [
             0.8888888888888888,
             "#fdca26"
            ],
            [
             1,
             "#f0f921"
            ]
           ]
          },
          "colorway": [
           "#636efa",
           "#EF553B",
           "#00cc96",
           "#ab63fa",
           "#FFA15A",
           "#19d3f3",
           "#FF6692",
           "#B6E880",
           "#FF97FF",
           "#FECB52"
          ],
          "font": {
           "color": "#2a3f5f"
          },
          "geo": {
           "bgcolor": "white",
           "lakecolor": "white",
           "landcolor": "#E5ECF6",
           "showlakes": true,
           "showland": true,
           "subunitcolor": "white"
          },
          "hoverlabel": {
           "align": "left"
          },
          "hovermode": "closest",
          "mapbox": {
           "style": "light"
          },
          "paper_bgcolor": "white",
          "plot_bgcolor": "#E5ECF6",
          "polar": {
           "angularaxis": {
            "gridcolor": "white",
            "linecolor": "white",
            "ticks": ""
           },
           "bgcolor": "#E5ECF6",
           "radialaxis": {
            "gridcolor": "white",
            "linecolor": "white",
            "ticks": ""
           }
          },
          "scene": {
           "xaxis": {
            "backgroundcolor": "#E5ECF6",
            "gridcolor": "white",
            "gridwidth": 2,
            "linecolor": "white",
            "showbackground": true,
            "ticks": "",
            "zerolinecolor": "white"
           },
           "yaxis": {
            "backgroundcolor": "#E5ECF6",
            "gridcolor": "white",
            "gridwidth": 2,
            "linecolor": "white",
            "showbackground": true,
            "ticks": "",
            "zerolinecolor": "white"
           },
           "zaxis": {
            "backgroundcolor": "#E5ECF6",
            "gridcolor": "white",
            "gridwidth": 2,
            "linecolor": "white",
            "showbackground": true,
            "ticks": "",
            "zerolinecolor": "white"
           }
          },
          "shapedefaults": {
           "line": {
            "color": "#2a3f5f"
           }
          },
          "ternary": {
           "aaxis": {
            "gridcolor": "white",
            "linecolor": "white",
            "ticks": ""
           },
           "baxis": {
            "gridcolor": "white",
            "linecolor": "white",
            "ticks": ""
           },
           "bgcolor": "#E5ECF6",
           "caxis": {
            "gridcolor": "white",
            "linecolor": "white",
            "ticks": ""
           }
          },
          "title": {
           "x": 0.05
          },
          "xaxis": {
           "automargin": true,
           "gridcolor": "white",
           "linecolor": "white",
           "ticks": "",
           "title": {
            "standoff": 15
           },
           "zerolinecolor": "white",
           "zerolinewidth": 2
          },
          "yaxis": {
           "automargin": true,
           "gridcolor": "white",
           "linecolor": "white",
           "ticks": "",
           "title": {
            "standoff": 15
           },
           "zerolinecolor": "white",
           "zerolinewidth": 2
          }
         }
        },
        "title": {
         "text": "Persentase konten berdasarkan sertifikasi usia",
         "x": 0.5,
         "y": 0.9
        }
       }
      }
     },
     "metadata": {},
     "output_type": "display_data"
    }
   ],
   "source": [
    "fig = go.Figure(\n",
    "    go.Pie(\n",
    "    labels = nflx2['age_certification'].unique(),\n",
    "    values = nflx2['age_certification'].value_counts(),\n",
    "    hoverinfo = \"label\",\n",
    "    textinfo = \"percent\"\n",
    "))\n",
    "fig.update_layout(\n",
    "    title={'text': \"Persentase konten berdasarkan sertifikasi usia\",\n",
    "            'y':0.9,\n",
    "            'x':0.5})\n",
    "fig.show()"
   ]
  },
  {
   "cell_type": "markdown",
   "metadata": {},
   "source": [
    "Runtime"
   ]
  },
  {
   "cell_type": "code",
   "execution_count": 137,
   "metadata": {},
   "outputs": [
    {
     "name": "stderr",
     "output_type": "stream",
     "text": [
      "c:\\Users\\Julio\\anaconda3\\envs\\capstone_tetris\\lib\\site-packages\\seaborn\\distributions.py:2619: FutureWarning:\n",
      "\n",
      "`distplot` is a deprecated function and will be removed in a future version. Please adapt your code to use either `displot` (a figure-level function with similar flexibility) or `histplot` (an axes-level function for histograms).\n",
      "\n"
     ]
    },
    {
     "data": {
      "image/png": "[encoded data removed]",
      "text/plain": [
       "<Figure size 576x432 with 1 Axes>"
      ]
     },
     "metadata": {
      "needs_background": "light"
     },
     "output_type": "display_data"
    }
   ],
   "source": [
    "#movie\n",
    "fig1 = plt.figure(figsize=(8,6))\n",
    "sns.distplot(nflx2[nflx2['type']=='MOVIE']['runtime'])\n",
    "plt.title('Distribusi durasi movie(film)')\n",
    "plt.xlabel('durasi (menit)')\n",
    "plt.show(fig1)"
   ]
  },
  {
   "cell_type": "code",
   "execution_count": 32,
   "metadata": {},
   "outputs": [
    {
     "name": "stderr",
     "output_type": "stream",
     "text": [
      "c:\\Users\\Julio\\anaconda3\\envs\\capstone_tetris\\lib\\site-packages\\seaborn\\distributions.py:2619: FutureWarning:\n",
      "\n",
      "`distplot` is a deprecated function and will be removed in a future version. Please adapt your code to use either `displot` (a figure-level function with similar flexibility) or `histplot` (an axes-level function for histograms).\n",
      "\n"
     ]
    },
    {
     "data": {
      "image/png": "[encoded data removed]",
      "text/plain": [
       "<Figure size 576x432 with 1 Axes>"
      ]
     },
     "metadata": {
      "needs_background": "light"
     },
     "output_type": "display_data"
    }
   ],
   "source": [
    "#series\n",
    "fig2 = plt.figure(figsize=(8,6))\n",
    "sns.distplot(nflx2[nflx2['type']=='SHOW']['runtime'])\n",
    "plt.title('Distribusi durasi show(series)')\n",
    "plt.xlabel('durasi (jam)')\n",
    "plt.show(fig2)\n"
   ]
  },
  {
   "cell_type": "markdown",
   "metadata": {},
   "source": [
    "Genre"
   ]
  },
  {
   "cell_type": "code",
   "execution_count": 33,
   "metadata": {},
   "outputs": [
    {
     "data": {
      "image/png": "[encoded data removed]",
      "text/plain": [
       "<Figure size 576x432 with 1 Axes>"
      ]
     },
     "metadata": {
      "needs_background": "light"
     },
     "output_type": "display_data"
    }
   ],
   "source": [
    "#Wordcloud of genres\n",
    "genre = \" \".join(i for i in nflx2.genres)\n",
    "stopwords = set(STOPWORDS)\n",
    "wordcloud = WordCloud(stopwords=stopwords, background_color=\"white\").generate(genre)\n",
    "plt.figure(figsize=(8,6))\n",
    "plt.imshow(wordcloud, interpolation='bilinear')\n",
    "plt.title(\"Wordcloud of genre\")\n",
    "plt.axis(\"off\")\n",
    "plt.show()"
   ]
  },
  {
   "cell_type": "code",
   "execution_count": 34,
   "metadata": {},
   "outputs": [],
   "source": [
    "genre_count= []\n",
    "for i in nflx2['genres']:\n",
    "   genre_count.append(len(i.split()))\n",
    "nflx2['genre_count'] = genre_count"
   ]
  },
  {
   "cell_type": "code",
   "execution_count": 35,
   "metadata": {},
   "outputs": [
    {
     "data": {
      "image/png": "[encoded data removed]",
      "text/plain": [
       "<Figure size 720x576 with 1 Axes>"
      ]
     },
     "metadata": {
      "needs_background": "light"
     },
     "output_type": "display_data"
    }
   ],
   "source": [
    "fig = plt.figure(figsize=(10,8))\n",
    "ax = plt.barh(y=nflx2['genre_count'].unique(), width=nflx2['genre_count'].value_counts(), color=['black', 'red', 'green', 'blue', 'cyan'])\n",
    "plt.xlabel('Banyak konten')\n",
    "plt.ylabel('Banyak genre')\n",
    "plt.title('Banyak konten menurut banyaknya genre')\n",
    "plt.show(fig)"
   ]
  },
  {
   "cell_type": "markdown",
   "metadata": {},
   "source": [
    "Production countries"
   ]
  },
  {
   "cell_type": "code",
   "execution_count": 36,
   "metadata": {},
   "outputs": [
    {
     "data": {
      "image/png": "[encoded data removed]",
      "text/plain": [
       "<Figure size 576x432 with 1 Axes>"
      ]
     },
     "metadata": {
      "needs_background": "light"
     },
     "output_type": "display_data"
    }
   ],
   "source": [
    "#Wordcloud of production country\n",
    "prod_country = \" \".join(i for i in nflx2.production_countries)\n",
    "stopwords = set(STOPWORDS)\n",
    "wordcloud = WordCloud(stopwords=stopwords, background_color=\"white\").generate(prod_country)\n",
    "plt.figure(figsize=(8,6))\n",
    "plt.imshow(wordcloud, interpolation='bilinear')\n",
    "plt.title(\"Wordcloud of production country\")\n",
    "plt.axis(\"off\")\n",
    "plt.show()"
   ]
  },
  {
   "cell_type": "code",
   "execution_count": 37,
   "metadata": {},
   "outputs": [],
   "source": [
    "prod_ctry_count= []\n",
    "for i in nflx2['production_countries']:\n",
    "   prod_ctry_count.append(len(i.split()))\n",
    "nflx2['prod_ctry_count'] = prod_ctry_count"
   ]
  },
  {
   "cell_type": "code",
   "execution_count": 38,
   "metadata": {},
   "outputs": [
    {
     "data": {
      "image/png": "[encoded data removed]",
      "text/plain": [
       "<Figure size 720x576 with 1 Axes>"
      ]
     },
     "metadata": {
      "needs_background": "light"
     },
     "output_type": "display_data"
    }
   ],
   "source": [
    "fig = plt.figure(figsize=(10,8))\n",
    "ax = plt.barh(y=nflx2['prod_ctry_count'].unique(), width=nflx2['prod_ctry_count'].value_counts(), color=['black', 'red', 'green', 'blue', 'cyan'])\n",
    "plt.xlabel('Banyak konten')\n",
    "plt.ylabel('Banyak negara')\n",
    "plt.title('Banyak konten menurut banyaknya negara')\n",
    "plt.show(fig)"
   ]
  },
  {
   "cell_type": "markdown",
   "metadata": {},
   "source": [
    "Seasons\n",
    "\n",
    "For series only"
   ]
  },
  {
   "cell_type": "code",
   "execution_count": 39,
   "metadata": {},
   "outputs": [
    {
     "data": {
      "text/plain": [
       "1.0     1034\n",
       "2.0      362\n",
       "3.0      179\n",
       "4.0      116\n",
       "5.0       75\n",
       "6.0       35\n",
       "7.0       18\n",
       "8.0       10\n",
       "9.0        9\n",
       "11.0       7\n",
       "10.0       6\n",
       "12.0       3\n",
       "15.0       3\n",
       "24.0       2\n",
       "13.0       2\n",
       "20.0       1\n",
       "32.0       1\n",
       "19.0       1\n",
       "29.0       1\n",
       "14.0       1\n",
       "37.0       1\n",
       "21.0       1\n",
       "25.0       1\n",
       "42.0       1\n",
       "39.0       1\n",
       "16.0       1\n",
       "Name: seasons, dtype: int64"
      ]
     },
     "execution_count": 39,
     "metadata": {},
     "output_type": "execute_result"
    }
   ],
   "source": [
    "nflx2[nflx2['type']=='SHOW']['seasons'].value_counts()"
   ]
  },
  {
   "cell_type": "code",
   "execution_count": 40,
   "metadata": {},
   "outputs": [
    {
     "data": {
      "text/plain": [
       "<Figure size 720x576 with 0 Axes>"
      ]
     },
     "metadata": {},
     "output_type": "display_data"
    },
    {
     "data": {
      "image/png": "[encoded data removed]",
      "text/plain": [
       "<Figure size 360x360 with 1 Axes>"
      ]
     },
     "metadata": {
      "needs_background": "light"
     },
     "output_type": "display_data"
    }
   ],
   "source": [
    "#sebaran seasons\n",
    "fig1 = plt.figure(figsize=(10,8))\n",
    "sns.displot(nflx2[nflx2['type']=='SHOW']['seasons'])\n",
    "plt.title('Distribusi seasons show(series)')\n",
    "plt.xlabel('Jumlah seasons')\n",
    "plt.show(fig1)"
   ]
  },
  {
   "cell_type": "markdown",
   "metadata": {},
   "source": [
    "Imdb score"
   ]
  },
  {
   "cell_type": "code",
   "execution_count": 41,
   "metadata": {},
   "outputs": [
    {
     "name": "stdout",
     "output_type": "stream",
     "text": [
      "Rata-rata skor IMDb movie : 6.2\n",
      "Rata-rata skor IMDb show : 6.9\n"
     ]
    }
   ],
   "source": [
    "#movie \n",
    "print(\"Rata-rata skor IMDb movie :\",round(nflx2[nflx2['type']=='MOVIE']['imdb_score'].mean(),1))\n",
    "#series\n",
    "print(\"Rata-rata skor IMDb show :\",round(nflx2[nflx2['type']=='SHOW']['imdb_score'].mean(),1))"
   ]
  },
  {
   "cell_type": "markdown",
   "metadata": {},
   "source": [
    "Tmdb score"
   ]
  },
  {
   "cell_type": "code",
   "execution_count": 42,
   "metadata": {},
   "outputs": [
    {
     "name": "stdout",
     "output_type": "stream",
     "text": [
      "Rata-rata skor TMDB movie : 6.5\n",
      "Rata-rata skor TMDB show : 7.5\n"
     ]
    }
   ],
   "source": [
    "#movie \n",
    "print(\"Rata-rata skor TMDB movie :\",round(nflx2[nflx2['type']=='MOVIE']['tmdb_score'].mean(),1))\n",
    "#series\n",
    "print(\"Rata-rata skor TMDB show :\",round(nflx2[nflx2['type']=='SHOW']['tmdb_score'].mean(),1))"
   ]
  },
  {
   "cell_type": "markdown",
   "metadata": {},
   "source": [
    "IMDb votes"
   ]
  },
  {
   "cell_type": "code",
   "execution_count": 43,
   "metadata": {},
   "outputs": [
    {
     "data": {
      "text/plain": [
       "<Figure size 720x576 with 0 Axes>"
      ]
     },
     "metadata": {},
     "output_type": "display_data"
    },
    {
     "data": {
      "image/png": "[encoded data removed]",
      "text/plain": [
       "<Figure size 360x360 with 1 Axes>"
      ]
     },
     "metadata": {
      "needs_background": "light"
     },
     "output_type": "display_data"
    }
   ],
   "source": [
    "#movie\n",
    "fig1 = plt.figure(figsize=(10,8))\n",
    "sns.displot(x = nflx2[nflx2['type']=='MOVIE']['imdb_votes'])\n",
    "plt.title('Distribusi banyak votes di IMDb untuk kategori movie(film)')\n",
    "plt.xlabel('IMDb votes')\n",
    "plt.show(fig1)"
   ]
  },
  {
   "cell_type": "code",
   "execution_count": 44,
   "metadata": {},
   "outputs": [
    {
     "data": {
      "image/png": "[encoded data removed]",
      "text/plain": [
       "<Figure size 720x576 with 1 Axes>"
      ]
     },
     "metadata": {
      "needs_background": "light"
     },
     "output_type": "display_data"
    }
   ],
   "source": [
    "#show\n",
    "fig1 = plt.figure(figsize=(10,8))\n",
    "sns.histplot(x = nflx2[nflx2['type']=='SHOW']['imdb_votes'])\n",
    "plt.title('Distribusi banyak votes di IMDb untuk kategori show(series)')\n",
    "plt.xlabel('IMDb votes')\n",
    "plt.show(fig1)"
   ]
  },
  {
   "cell_type": "markdown",
   "metadata": {},
   "source": [
    "TMDB popularity"
   ]
  },
  {
   "cell_type": "code",
   "execution_count": 45,
   "metadata": {},
   "outputs": [
    {
     "data": {
      "text/plain": [
       "<Figure size 576x432 with 0 Axes>"
      ]
     },
     "metadata": {},
     "output_type": "display_data"
    },
    {
     "data": {
      "image/png": "[encoded data removed]",
      "text/plain": [
       "<Figure size 360x360 with 1 Axes>"
      ]
     },
     "metadata": {
      "needs_background": "light"
     },
     "output_type": "display_data"
    }
   ],
   "source": [
    "#movie  \n",
    "fig1 = plt.figure(figsize=(8,6))\n",
    "sns.displot(nflx2[nflx2['type']=='MOVIE']['tmdb_popularity'])\n",
    "plt.title('Distribusi TMDB popularity untuk kategori movie(film)')\n",
    "plt.xlabel('TMDb popularity')\n",
    "plt.show(fig1)"
   ]
  },
  {
   "cell_type": "code",
   "execution_count": 46,
   "metadata": {},
   "outputs": [
    {
     "data": {
      "text/plain": [
       "<Figure size 576x432 with 0 Axes>"
      ]
     },
     "metadata": {},
     "output_type": "display_data"
    },
    {
     "data": {
      "image/png": "[encoded data removed]",
      "text/plain": [
       "<Figure size 360x360 with 1 Axes>"
      ]
     },
     "metadata": {
      "needs_background": "light"
     },
     "output_type": "display_data"
    }
   ],
   "source": [
    "#show\n",
    "fig2 = plt.figure(figsize=(8,6))\n",
    "sns.displot(nflx2[nflx2['type']=='SHOW']['tmdb_popularity'])\n",
    "plt.title('Distribusi TMDB popularity untuk kategori show(series)')\n",
    "plt.xlabel('TMDB popularity')\n",
    "plt.show(fig2)"
   ]
  },
  {
   "cell_type": "code",
   "execution_count": 47,
   "metadata": {},
   "outputs": [
    {
     "name": "stdout",
     "output_type": "stream",
     "text": [
      "min tmdb popularity : 0.6\n",
      "max tmdb popularity : 2274.044\n"
     ]
    }
   ],
   "source": [
    "print(\"min tmdb popularity :\", nflx2['tmdb_popularity'].min())\n",
    "print(\"max tmdb popularity :\", nflx2['tmdb_popularity'].max())"
   ]
  },
  {
   "cell_type": "code",
   "execution_count": 48,
   "metadata": {},
   "outputs": [
    {
     "name": "stdout",
     "output_type": "stream",
     "text": [
      "Min tmdb score : 1.0\n",
      "Max tmdb score : 10.0\n"
     ]
    }
   ],
   "source": [
    "print(\"Min tmdb score :\",nflx2['tmdb_score'].min())\n",
    "print(\"Max tmdb score :\", nflx2['tmdb_score'].max())"
   ]
  },
  {
   "cell_type": "code",
   "execution_count": 49,
   "metadata": {},
   "outputs": [
    {
     "name": "stdout",
     "output_type": "stream",
     "text": [
      "Min imdb score : 0.0\n",
      "Max tmdb score : 9.5\n"
     ]
    }
   ],
   "source": [
    "print(\"Min imdb score :\",nflx2['imdb_score'].min())\n",
    "print(\"Max tmdb score :\", nflx2['imdb_score'].max())"
   ]
  },
  {
   "cell_type": "markdown",
   "metadata": {},
   "source": [
    "# Correlation between variables"
   ]
  },
  {
   "cell_type": "markdown",
   "metadata": {},
   "source": [
    "Runtime and imdb rating"
   ]
  },
  {
   "cell_type": "code",
   "execution_count": 50,
   "metadata": {},
   "outputs": [
    {
     "data": {
      "image/png": "[encoded data removed]",
      "text/plain": [
       "<Figure size 576x432 with 1 Axes>"
      ]
     },
     "metadata": {
      "needs_background": "light"
     },
     "output_type": "display_data"
    }
   ],
   "source": [
    "#movie\n",
    "fig=plt.figure(figsize=(8,6))\n",
    "plt.scatter(y=nflx2[nflx2['type']=='MOVIE']['imdb_score'], x=nflx2[nflx2['type']=='MOVIE']['runtime'])\n",
    "plt.xlabel('Runtime of movies (minute)')\n",
    "plt.ylabel('IMDb score')\n",
    "plt.title('Relationship between runtime and imdb score of movie')\n",
    "plt.show()"
   ]
  },
  {
   "cell_type": "markdown",
   "metadata": {},
   "source": [
    "Looks like there is linear relationship between runtime and imdb score of movie"
   ]
  },
  {
   "cell_type": "code",
   "execution_count": 51,
   "metadata": {},
   "outputs": [
    {
     "data": {
      "image/png": "[encoded data removed]",
      "text/plain": [
       "<Figure size 576x432 with 1 Axes>"
      ]
     },
     "metadata": {
      "needs_background": "light"
     },
     "output_type": "display_data"
    }
   ],
   "source": [
    "#series\n",
    "fig=plt.figure(figsize=(8,6))\n",
    "plt.scatter(y=nflx2[nflx2['type']=='SHOW']['imdb_score'], x=nflx2[nflx2['type']=='SHOW']['runtime'])\n",
    "plt.xlabel('Runtime of show (hour)')\n",
    "plt.ylabel('IMDb score')\n",
    "plt.title('Relationship between runtime and imdb score of show')\n",
    "plt.show()"
   ]
  },
  {
   "cell_type": "markdown",
   "metadata": {},
   "source": [
    "Seems like there is week relationship between imdb score and runtime of show"
   ]
  },
  {
   "cell_type": "markdown",
   "metadata": {},
   "source": [
    "Runtime and tmdb score"
   ]
  },
  {
   "cell_type": "code",
   "execution_count": 52,
   "metadata": {},
   "outputs": [
    {
     "data": {
      "image/png": "[encoded data removed]",
      "text/plain": [
       "<Figure size 576x432 with 1 Axes>"
      ]
     },
     "metadata": {
      "needs_background": "light"
     },
     "output_type": "display_data"
    }
   ],
   "source": [
    "#movie\n",
    "fig=plt.figure(figsize=(8,6))\n",
    "plt.scatter(y=nflx2[nflx2['type']=='MOVIE']['tmdb_score'], x=nflx2[nflx2['type']=='MOVIE']['runtime'])\n",
    "plt.xlabel('Runtime of movies (minute)')\n",
    "plt.ylabel('TMDB score')\n",
    "plt.title('Relationship between runtime and tmdb score of movie')\n",
    "plt.show()"
   ]
  },
  {
   "cell_type": "code",
   "execution_count": 53,
   "metadata": {},
   "outputs": [
    {
     "data": {
      "image/png": "[encoded data removed]",
      "text/plain": [
       "<Figure size 576x432 with 1 Axes>"
      ]
     },
     "metadata": {
      "needs_background": "light"
     },
     "output_type": "display_data"
    }
   ],
   "source": [
    "#show\n",
    "fig=plt.figure(figsize=(8,6))\n",
    "plt.scatter(y=nflx2[nflx2['type']=='SHOW']['tmdb_score'], x=nflx2[nflx2['type']=='SHOW']['runtime'])\n",
    "plt.xlabel('Runtime of movies (minute)')\n",
    "plt.ylabel('TMDB score')\n",
    "plt.title('Relationship between runtime and tmdb score of show')\n",
    "plt.show()"
   ]
  },
  {
   "cell_type": "markdown",
   "metadata": {},
   "source": [
    "Looks like there is no linear relationship between tmdb score and runtime of show"
   ]
  },
  {
   "cell_type": "markdown",
   "metadata": {},
   "source": [
    "Runtime and tmdb popularity"
   ]
  },
  {
   "cell_type": "code",
   "execution_count": 54,
   "metadata": {},
   "outputs": [
    {
     "data": {
      "image/png": "[encoded data removed]",
      "text/plain": [
       "<Figure size 576x432 with 1 Axes>"
      ]
     },
     "metadata": {
      "needs_background": "light"
     },
     "output_type": "display_data"
    }
   ],
   "source": [
    "#movie\n",
    "fig=plt.figure(figsize=(8,6))\n",
    "plt.scatter(y=nflx2[nflx2['type']=='MOVIE']['tmdb_popularity'], x=nflx2[nflx2['type']=='MOVIE']['runtime'])\n",
    "plt.xlabel('Runtime of movies (minute)')\n",
    "plt.ylabel('TMDB popularity')\n",
    "plt.title('Relationship between runtime and tmdb popularity of movie')\n",
    "plt.show()"
   ]
  },
  {
   "cell_type": "code",
   "execution_count": 55,
   "metadata": {},
   "outputs": [
    {
     "data": {
      "image/png": "[encoded data removed]",
      "text/plain": [
       "<Figure size 576x432 with 1 Axes>"
      ]
     },
     "metadata": {
      "needs_background": "light"
     },
     "output_type": "display_data"
    }
   ],
   "source": [
    "#movie\n",
    "fig=plt.figure(figsize=(8,6))\n",
    "plt.scatter(y=nflx2[nflx2['type']=='SHOW']['tmdb_popularity'], x=nflx2[nflx2['type']=='SHOW']['runtime'])\n",
    "plt.xlabel('Runtime of movies (minute)')\n",
    "plt.ylabel('TMDB popularity')\n",
    "plt.title('Relationship between runtime and tmdb popularity of show')\n",
    "plt.show()"
   ]
  },
  {
   "cell_type": "code",
   "execution_count": 56,
   "metadata": {},
   "outputs": [
    {
     "data": {
      "text/plain": [
       "genres\n",
       "['scifi', 'animation', 'action', 'family', 'fantasy']                         9.3\n",
       "['action', 'scifi', 'animation', 'horror', 'drama', 'fantasy']                9.0\n",
       "['scifi', 'action', 'drama', 'animation', 'fantasy']                          9.0\n",
       "['action', 'animation', 'comedy', 'fantasy']                                  9.0\n",
       "['animation', 'thriller', 'scifi', 'drama', 'fantasy', 'crime']               9.0\n",
       "['animation', 'action', 'scifi', 'western', 'comedy', 'drama', 'thriller']    8.9\n",
       "['animation', 'action', 'comedy', 'drama', 'fantasy']                         8.8\n",
       "['action', 'drama', 'thriller', 'romance', 'comedy', 'fantasy', 'horror']     8.8\n",
       "['animation', 'action', 'drama', 'war', 'history']                            8.8\n",
       "['action', 'scifi', 'music', 'thriller']                                      8.8\n",
       "Name: imdb_score, dtype: float64"
      ]
     },
     "execution_count": 56,
     "metadata": {},
     "output_type": "execute_result"
    }
   ],
   "source": [
    "#top 10 genres with highest average imdb score\n",
    "nflx2.groupby('genres')['imdb_score'].mean().sort_values(ascending=False).head(10)"
   ]
  },
  {
   "cell_type": "code",
   "execution_count": 103,
   "metadata": {},
   "outputs": [
    {
     "data": {
      "text/html": [
       "<div>\n",
       "<style scoped>\n",
       "    .dataframe tbody tr th:only-of-type {\n",
       "        vertical-align: middle;\n",
       "    }\n",
       "\n",
       "    .dataframe tbody tr th {\n",
       "        vertical-align: top;\n",
       "    }\n",
       "\n",
       "    .dataframe thead th {\n",
       "        text-align: right;\n",
       "    }\n",
       "</style>\n",
       "<table border=\"1\" class=\"dataframe\">\n",
       "  <thead>\n",
       "    <tr style=\"text-align: right;\">\n",
       "      <th></th>\n",
       "      <th>genres</th>\n",
       "      <th>imdb_score</th>\n",
       "    </tr>\n",
       "  </thead>\n",
       "  <tbody>\n",
       "    <tr>\n",
       "      <th>0</th>\n",
       "      <td>['scifi', 'animation', 'action', 'family', 'fa...</td>\n",
       "      <td>9.3</td>\n",
       "    </tr>\n",
       "    <tr>\n",
       "      <th>1</th>\n",
       "      <td>['action', 'scifi', 'animation', 'horror', 'dr...</td>\n",
       "      <td>9.0</td>\n",
       "    </tr>\n",
       "    <tr>\n",
       "      <th>2</th>\n",
       "      <td>['scifi', 'action', 'drama', 'animation', 'fan...</td>\n",
       "      <td>9.0</td>\n",
       "    </tr>\n",
       "    <tr>\n",
       "      <th>3</th>\n",
       "      <td>['action', 'animation', 'comedy', 'fantasy']</td>\n",
       "      <td>9.0</td>\n",
       "    </tr>\n",
       "    <tr>\n",
       "      <th>4</th>\n",
       "      <td>['animation', 'thriller', 'scifi', 'drama', 'f...</td>\n",
       "      <td>9.0</td>\n",
       "    </tr>\n",
       "    <tr>\n",
       "      <th>...</th>\n",
       "      <td>...</td>\n",
       "      <td>...</td>\n",
       "    </tr>\n",
       "    <tr>\n",
       "      <th>1676</th>\n",
       "      <td>['drama', 'comedy', 'romance', 'fantasy']</td>\n",
       "      <td>2.0</td>\n",
       "    </tr>\n",
       "    <tr>\n",
       "      <th>1677</th>\n",
       "      <td>['fantasy', 'comedy', 'animation']</td>\n",
       "      <td>0.0</td>\n",
       "    </tr>\n",
       "    <tr>\n",
       "      <th>1678</th>\n",
       "      <td>['thriller', 'comedy', 'romance']</td>\n",
       "      <td>0.0</td>\n",
       "    </tr>\n",
       "    <tr>\n",
       "      <th>1679</th>\n",
       "      <td>['thriller', 'horror', 'animation', 'drama', '...</td>\n",
       "      <td>0.0</td>\n",
       "    </tr>\n",
       "    <tr>\n",
       "      <th>1680</th>\n",
       "      <td>['animation', 'music']</td>\n",
       "      <td>0.0</td>\n",
       "    </tr>\n",
       "  </tbody>\n",
       "</table>\n",
       "<p>1681 rows × 2 columns</p>\n",
       "</div>"
      ],
      "text/plain": [
       "                                                 genres  imdb_score\n",
       "0     ['scifi', 'animation', 'action', 'family', 'fa...         9.3\n",
       "1     ['action', 'scifi', 'animation', 'horror', 'dr...         9.0\n",
       "2     ['scifi', 'action', 'drama', 'animation', 'fan...         9.0\n",
       "3          ['action', 'animation', 'comedy', 'fantasy']         9.0\n",
       "4     ['animation', 'thriller', 'scifi', 'drama', 'f...         9.0\n",
       "...                                                 ...         ...\n",
       "1676          ['drama', 'comedy', 'romance', 'fantasy']         2.0\n",
       "1677                 ['fantasy', 'comedy', 'animation']         0.0\n",
       "1678                  ['thriller', 'comedy', 'romance']         0.0\n",
       "1679  ['thriller', 'horror', 'animation', 'drama', '...         0.0\n",
       "1680                             ['animation', 'music']         0.0\n",
       "\n",
       "[1681 rows x 2 columns]"
      ]
     },
     "execution_count": 103,
     "metadata": {},
     "output_type": "execute_result"
    }
   ],
   "source": [
    "nflx2.groupby('genres')['imdb_score'].mean().sort_values(ascending=False).reset_index(name='imdb_score')"
   ]
  },
  {
   "cell_type": "code",
   "execution_count": 59,
   "metadata": {},
   "outputs": [
    {
     "data": {
      "text/plain": [
       "genres\n",
       "['drama', 'scifi', 'comedy', 'history']                                        10.0\n",
       "['fantasy', 'comedy', 'animation']                                             10.0\n",
       "['thriller', 'horror', 'animation', 'comedy', 'drama', 'family', 'fantasy']    10.0\n",
       "['family', 'fantasy', 'animation', 'comedy']                                   10.0\n",
       "['family', 'music', 'animation']                                               10.0\n",
       "['family', 'romance', 'comedy']                                                10.0\n",
       "['animation', 'family', 'scifi']                                               10.0\n",
       "['animation', 'comedy', 'family', 'scifi', 'action']                           10.0\n",
       "['comedy', 'family', 'fantasy', 'scifi']                                       10.0\n",
       "['crime', 'sport', 'documentation']                                            10.0\n",
       "Name: tmdb_score, dtype: float64"
      ]
     },
     "execution_count": 59,
     "metadata": {},
     "output_type": "execute_result"
    }
   ],
   "source": [
    "#top 10 genres with highest average tmdb score\n",
    "nflx2.groupby('genres')['tmdb_score'].mean().sort_values(ascending=False).head(10)"
   ]
  },
  {
   "cell_type": "code",
   "execution_count": 60,
   "metadata": {},
   "outputs": [
    {
     "data": {
      "text/plain": [
       "genres\n",
       "['scifi', 'thriller', 'drama', 'fantasy', 'horror']             2226.2310\n",
       "['comedy', 'family', 'fantasy', 'scifi', 'animation']           1723.3630\n",
       "['comedy', 'horror', 'war', 'fantasy', 'thriller', 'action']    1668.2960\n",
       "['action', 'thriller', 'drama', 'romance', 'comedy']            1439.9060\n",
       "['scifi', 'thriller', 'drama', 'action', 'crime']                996.8690\n",
       "['scifi', 'crime', 'drama', 'fantasy']                           922.1120\n",
       "['drama', 'sport', 'comedy']                                     746.9280\n",
       "['scifi', 'thriller', 'action', 'horror']                        698.9635\n",
       "['action', 'animation', 'family', 'fantasy', 'comedy']           656.8320\n",
       "['action', 'drama', 'scifi', 'horror', 'thriller']               597.2770\n",
       "Name: tmdb_popularity, dtype: float64"
      ]
     },
     "execution_count": 60,
     "metadata": {},
     "output_type": "execute_result"
    }
   ],
   "source": [
    "#top 10 genres with highest average tmdb popularity\n",
    "nflx2.groupby('genres')['tmdb_popularity'].mean().sort_values(ascending=False).head(10)"
   ]
  },
  {
   "cell_type": "code",
   "execution_count": 61,
   "metadata": {},
   "outputs": [
    {
     "data": {
      "text/plain": [
       "production_countries\n",
       "['UA', 'GB', 'US']                      8.3\n",
       "['CD', 'GB']                            8.2\n",
       "['CU', 'US']                            8.2\n",
       "['ZA', 'GB']                            8.1\n",
       "['US', 'DE', 'GB']                      8.1\n",
       "['US', 'EG', 'GB']                      8.1\n",
       "['AT', 'GB', 'US']                      8.0\n",
       "['CA', 'HU', 'MX', 'ES', 'GB', 'US']    8.0\n",
       "['TZ']                                  8.0\n",
       "['US', 'CA', 'FR', 'ES']                8.0\n",
       "Name: imdb_score, dtype: float64"
      ]
     },
     "execution_count": 61,
     "metadata": {},
     "output_type": "execute_result"
    }
   ],
   "source": [
    "#top 10 production_countries with highest imdb score\n",
    "nflx2.groupby('production_countries')['imdb_score'].mean().sort_values(ascending=False).head(10)"
   ]
  },
  {
   "cell_type": "code",
   "execution_count": 62,
   "metadata": {},
   "outputs": [
    {
     "data": {
      "text/plain": [
       "production_countries\n",
       "['ZA', 'US']                10.0000\n",
       "['SG', 'US']                 9.3000\n",
       "['ES', 'IT']                 9.2000\n",
       "['TZ', 'GB']                 9.0000\n",
       "['CA', 'BR']                 8.8000\n",
       "['US', 'NG']                 8.7000\n",
       "['US', 'IT']                 8.3265\n",
       "['US', 'CA', 'FR', 'ES']     8.2000\n",
       "['US', 'IN']                 8.1500\n",
       "['NP', 'IN']                 8.1000\n",
       "Name: tmdb_score, dtype: float64"
      ]
     },
     "execution_count": 62,
     "metadata": {},
     "output_type": "execute_result"
    }
   ],
   "source": [
    "#top 10 production_countries with highest tmdb score\n",
    "nflx2.groupby('production_countries')['tmdb_score'].mean().sort_values(ascending=False).head(10)"
   ]
  },
  {
   "cell_type": "code",
   "execution_count": 63,
   "metadata": {},
   "outputs": [
    {
     "data": {
      "text/plain": [
       "production_countries\n",
       "['US', 'CZ']          510.26800\n",
       "['SE', 'GB']          358.25100\n",
       "['ES', 'KN']          198.53500\n",
       "['DE', 'FR']          177.03500\n",
       "['GB', 'US', 'FR']    172.82900\n",
       "['NZ', 'HK']          165.33900\n",
       "['MX', 'ZA', 'US']    117.36900\n",
       "['US', 'AU']          112.71225\n",
       "['FR', 'DE', 'US']    106.52200\n",
       "['US', 'CY']           96.70900\n",
       "Name: tmdb_popularity, dtype: float64"
      ]
     },
     "execution_count": 63,
     "metadata": {},
     "output_type": "execute_result"
    }
   ],
   "source": [
    "#top 10 production_countries with highest tmdb popularity\n",
    "nflx2.groupby('production_countries')['tmdb_popularity'].mean().sort_values(ascending=False).head(10)"
   ]
  },
  {
   "cell_type": "code",
   "execution_count": 64,
   "metadata": {},
   "outputs": [
    {
     "data": {
      "text/plain": [
       "genres                                                                      production_countries\n",
       "['scifi', 'animation', 'action', 'family', 'fantasy']                       ['US']                  9.30\n",
       "['comedy', 'drama', 'family', 'romance']                                    ['KR']                  9.20\n",
       "['action', 'scifi', 'animation', 'horror', 'drama', 'fantasy']              ['JP']                  9.00\n",
       "['action', 'animation', 'comedy', 'fantasy']                                ['JP']                  9.00\n",
       "['scifi', 'action', 'drama', 'animation', 'fantasy']                        ['US']                  9.00\n",
       "['animation', 'thriller', 'scifi', 'drama', 'fantasy', 'crime']             ['JP']                  9.00\n",
       "['drama', 'crime']                                                          ['AR']                  9.00\n",
       "['drama', 'family']                                                         ['KR']                  8.95\n",
       "['drama', 'crime', 'history']                                               ['US']                  8.90\n",
       "['animation', 'action', 'scifi', 'western', 'comedy', 'drama', 'thriller']  ['JP']                  8.90\n",
       "Name: imdb_score, dtype: float64"
      ]
     },
     "execution_count": 64,
     "metadata": {},
     "output_type": "execute_result"
    }
   ],
   "source": [
    "#top 10 genre & production countries with highest imdb score\n",
    "nflx2.groupby(['genres','production_countries'])['imdb_score'].mean().sort_values(ascending=False).head(10)"
   ]
  },
  {
   "cell_type": "code",
   "execution_count": 65,
   "metadata": {},
   "outputs": [
    {
     "data": {
      "text/plain": [
       "genres                                                        production_countries\n",
       "['horror']                                                    ['TW']                  2274.044\n",
       "['scifi', 'thriller', 'drama', 'fantasy', 'horror']           ['US']                  2226.231\n",
       "['comedy', 'family', 'fantasy', 'scifi', 'animation']         ['US']                  1723.363\n",
       "['comedy', 'horror', 'war', 'fantasy', 'thriller', 'action']  ['ES']                  1668.296\n",
       "['action', 'thriller', 'drama', 'romance', 'comedy']          ['US']                  1439.906\n",
       "['scifi', 'thriller', 'action', 'horror']                     ['US']                  1387.392\n",
       "['drama', 'crime', 'thriller']                                ['ZA']                  1194.149\n",
       "['scifi', 'thriller', 'drama', 'action', 'crime']             ['US']                   996.869\n",
       "['scifi', 'crime', 'drama', 'fantasy']                        ['US']                   922.112\n",
       "['action', 'drama', 'thriller', 'crime']                      ['KR']                   904.326\n",
       "Name: tmdb_popularity, dtype: float64"
      ]
     },
     "execution_count": 65,
     "metadata": {},
     "output_type": "execute_result"
    }
   ],
   "source": [
    "#top 10 genre & production countries with highest tmdb popularity\n",
    "nflx2.groupby(['genres','production_countries'])['tmdb_popularity'].mean().sort_values(ascending=False).head(10)"
   ]
  },
  {
   "cell_type": "code",
   "execution_count": 66,
   "metadata": {},
   "outputs": [
    {
     "data": {
      "text/plain": [
       "genres                                                    production_countries\n",
       "['action', 'scifi', 'music', 'thriller']                  ['US', 'GB']            8.8\n",
       "['animation', 'action', 'fantasy']                        ['IN']                  8.7\n",
       "['comedy', 'drama', 'music', 'reality']                   ['US']                  8.7\n",
       "['drama', 'romance', 'family', 'documentation', 'sport']  ['PH']                  8.6\n",
       "['music', 'documentation']                                ['BR']                  8.5\n",
       "['crime', 'drama', 'action', 'thriller', 'european']      ['US', 'FR']            8.5\n",
       "['documentation']                                         ['TR']                  8.4\n",
       "['western', 'drama']                                      ['US']                  8.4\n",
       "['comedy', 'thriller', 'drama', 'action', 'crime']        ['IN']                  8.4\n",
       "['comedy', 'drama', 'history']                            ['IN']                  8.4\n",
       "Name: imdb_score, dtype: float64"
      ]
     },
     "execution_count": 66,
     "metadata": {},
     "output_type": "execute_result"
    }
   ],
   "source": [
    "#top 10 movie, genre & production countries with highest imdb score\n",
    "nflx2[nflx2['type']=='MOVIE'].groupby(['genres','production_countries'])['imdb_score'].mean().sort_values(ascending=False).head(10)"
   ]
  },
  {
   "cell_type": "code",
   "execution_count": 67,
   "metadata": {},
   "outputs": [
    {
     "data": {
      "text/plain": [
       "genres                                                                                production_countries\n",
       "['horror']                                                                            ['TW']                  2274.044\n",
       "['comedy', 'family', 'fantasy', 'scifi', 'animation']                                 ['US']                  1723.363\n",
       "['comedy', 'horror', 'war', 'fantasy', 'thriller', 'action']                          ['ES']                  1668.296\n",
       "['action', 'thriller', 'drama', 'romance', 'comedy']                                  ['US']                  1439.906\n",
       "['drama', 'crime', 'thriller']                                                        ['ZA']                  1194.149\n",
       "['scifi', 'thriller', 'drama', 'action', 'crime']                                     ['US']                   996.869\n",
       "['drama', 'sport', 'comedy']                                                          ['US']                   746.928\n",
       "['scifi', 'fantasy', 'romance', 'sport', 'thriller', 'animation', 'action', 'drama']  ['JP']                   550.643\n",
       "['comedy', 'family', 'fantasy', 'music', 'drama', 'animation']                        ['US']                   545.619\n",
       "['animation', 'comedy', 'family', 'romance', 'fantasy']                               ['BE', 'FR']             511.444\n",
       "Name: tmdb_popularity, dtype: float64"
      ]
     },
     "execution_count": 67,
     "metadata": {},
     "output_type": "execute_result"
    }
   ],
   "source": [
    "#top 10 movie, genre & production countries with highest tmdb popularity\n",
    "nflx2[nflx2['type']=='MOVIE'].groupby(['genres','production_countries'])['tmdb_popularity'].mean().sort_values(ascending=False).head(10)"
   ]
  },
  {
   "cell_type": "code",
   "execution_count": 68,
   "metadata": {},
   "outputs": [
    {
     "data": {
      "text/plain": [
       "genres                                                           production_countries\n",
       "['scifi', 'animation', 'action', 'family', 'fantasy']            ['US']                  9.30\n",
       "['comedy', 'drama', 'family', 'romance']                         ['KR']                  9.20\n",
       "['drama', 'comedy']                                              ['IN']                  9.10\n",
       "['documentation', 'history', 'sport']                            ['US']                  9.10\n",
       "['scifi', 'action', 'drama', 'animation', 'fantasy']             ['US']                  9.00\n",
       "['action', 'scifi', 'animation', 'horror', 'drama', 'fantasy']   ['JP']                  9.00\n",
       "['animation', 'thriller', 'scifi', 'drama', 'fantasy', 'crime']  ['JP']                  9.00\n",
       "['action', 'animation', 'comedy', 'fantasy']                     ['JP']                  9.00\n",
       "['drama', 'crime']                                               ['AR']                  9.00\n",
       "['drama', 'family']                                              ['KR']                  8.95\n",
       "Name: imdb_score, dtype: float64"
      ]
     },
     "execution_count": 68,
     "metadata": {},
     "output_type": "execute_result"
    }
   ],
   "source": [
    "#top 10 show, genre & production countries with highest imdb score\n",
    "nflx2[nflx2['type']=='SHOW'].groupby(['genres','production_countries'])['imdb_score'].mean().sort_values(ascending=False).head(10)"
   ]
  },
  {
   "cell_type": "code",
   "execution_count": 154,
   "metadata": {},
   "outputs": [
    {
     "data": {
      "text/html": [
       "<div>\n",
       "<style scoped>\n",
       "    .dataframe tbody tr th:only-of-type {\n",
       "        vertical-align: middle;\n",
       "    }\n",
       "\n",
       "    .dataframe tbody tr th {\n",
       "        vertical-align: top;\n",
       "    }\n",
       "\n",
       "    .dataframe thead th {\n",
       "        text-align: right;\n",
       "    }\n",
       "</style>\n",
       "<table border=\"1\" class=\"dataframe\">\n",
       "  <thead>\n",
       "    <tr style=\"text-align: right;\">\n",
       "      <th></th>\n",
       "      <th>genres</th>\n",
       "      <th>production_countries</th>\n",
       "      <th>tmdb_popularity</th>\n",
       "      <th>genre &amp; production_country</th>\n",
       "    </tr>\n",
       "  </thead>\n",
       "  <tbody>\n",
       "    <tr>\n",
       "      <th>0</th>\n",
       "      <td>['scifi', 'thriller', 'drama', 'fantasy', 'hor...</td>\n",
       "      <td>['US']</td>\n",
       "      <td>2226.231</td>\n",
       "      <td>['scifi', 'thriller', 'drama', 'fantasy', 'hor...</td>\n",
       "    </tr>\n",
       "    <tr>\n",
       "      <th>1</th>\n",
       "      <td>['scifi', 'thriller', 'action', 'horror']</td>\n",
       "      <td>['US']</td>\n",
       "      <td>1387.392</td>\n",
       "      <td>['scifi', 'thriller', 'action', 'horror']&amp;['US']</td>\n",
       "    </tr>\n",
       "    <tr>\n",
       "      <th>2</th>\n",
       "      <td>['scifi', 'crime', 'drama', 'fantasy']</td>\n",
       "      <td>['US']</td>\n",
       "      <td>922.112</td>\n",
       "      <td>['scifi', 'crime', 'drama', 'fantasy']&amp;['US']</td>\n",
       "    </tr>\n",
       "    <tr>\n",
       "      <th>3</th>\n",
       "      <td>['action', 'drama', 'thriller', 'crime']</td>\n",
       "      <td>['KR']</td>\n",
       "      <td>904.326</td>\n",
       "      <td>['action', 'drama', 'thriller', 'crime']&amp;['KR']</td>\n",
       "    </tr>\n",
       "    <tr>\n",
       "      <th>4</th>\n",
       "      <td>['documentation', 'crime', 'drama']</td>\n",
       "      <td>['ES']</td>\n",
       "      <td>712.899</td>\n",
       "      <td>['documentation', 'crime', 'drama']&amp;['ES']</td>\n",
       "    </tr>\n",
       "  </tbody>\n",
       "</table>\n",
       "</div>"
      ],
      "text/plain": [
       "                                              genres production_countries  \\\n",
       "0  ['scifi', 'thriller', 'drama', 'fantasy', 'hor...               ['US']   \n",
       "1          ['scifi', 'thriller', 'action', 'horror']               ['US']   \n",
       "2             ['scifi', 'crime', 'drama', 'fantasy']               ['US']   \n",
       "3           ['action', 'drama', 'thriller', 'crime']               ['KR']   \n",
       "4                ['documentation', 'crime', 'drama']               ['ES']   \n",
       "\n",
       "   tmdb_popularity                         genre & production_country  \n",
       "0         2226.231  ['scifi', 'thriller', 'drama', 'fantasy', 'hor...  \n",
       "1         1387.392   ['scifi', 'thriller', 'action', 'horror']&['US']  \n",
       "2          922.112      ['scifi', 'crime', 'drama', 'fantasy']&['US']  \n",
       "3          904.326    ['action', 'drama', 'thriller', 'crime']&['KR']  \n",
       "4          712.899         ['documentation', 'crime', 'drama']&['ES']  "
      ]
     },
     "execution_count": 154,
     "metadata": {},
     "output_type": "execute_result"
    }
   ],
   "source": [
    "#top 10 movie, genre & production countries with highest tmdb popularity\n",
    "nflx2[nflx2['type']=='SHOW'].groupby(['genres','production_countries'])['tmdb_popularity'].mean().sort_values(ascending=False).reset_index(name='tmdb_popularity').head(10)"
   ]
  },
  {
   "cell_type": "code",
   "execution_count": 70,
   "metadata": {},
   "outputs": [
    {
     "data": {
      "text/plain": [
       "release_year\n",
       "1969    8.10\n",
       "1985    8.00\n",
       "1967    7.70\n",
       "1971    7.70\n",
       "1963    7.60\n",
       "1958    7.50\n",
       "1961    7.50\n",
       "1977    7.50\n",
       "1954    7.45\n",
       "1987    7.35\n",
       "Name: imdb_score, dtype: float64"
      ]
     },
     "execution_count": 70,
     "metadata": {},
     "output_type": "execute_result"
    }
   ],
   "source": [
    "#top 10 release year movie with highest imdb score\n",
    "nflx2[nflx2['type']=='MOVIE'].groupby('release_year')['imdb_score'].mean().sort_values(ascending=False).head(10)"
   ]
  },
  {
   "cell_type": "code",
   "execution_count": 71,
   "metadata": {},
   "outputs": [
    {
     "data": {
      "text/plain": [
       "release_year\n",
       "1969    8.800000\n",
       "2002    8.260000\n",
       "1972    8.100000\n",
       "1995    8.050000\n",
       "2006    7.966667\n",
       "2000    7.940000\n",
       "1997    7.900000\n",
       "1998    7.880000\n",
       "1999    7.666667\n",
       "2008    7.616667\n",
       "Name: imdb_score, dtype: float64"
      ]
     },
     "execution_count": 71,
     "metadata": {},
     "output_type": "execute_result"
    }
   ],
   "source": [
    "#top 10 release year show with highest imdb score\n",
    "nflx2[nflx2['type']=='SHOW'].groupby('release_year')['imdb_score'].mean().sort_values(ascending=False).head(10)"
   ]
  },
  {
   "cell_type": "code",
   "execution_count": 72,
   "metadata": {},
   "outputs": [
    {
     "data": {
      "text/plain": [
       "release_year\n",
       "2022    133.510174\n",
       "2021     34.734775\n",
       "1997     27.783143\n",
       "1984     27.220000\n",
       "2003     24.101895\n",
       "2007     23.857629\n",
       "1994     20.166083\n",
       "2002     20.070462\n",
       "2010     19.587690\n",
       "1992     19.580000\n",
       "Name: tmdb_popularity, dtype: float64"
      ]
     },
     "execution_count": 72,
     "metadata": {},
     "output_type": "execute_result"
    }
   ],
   "source": [
    "#top 10 release year movie with highest tmdb popularity\n",
    "nflx2[nflx2['type']=='MOVIE'].groupby('release_year')['tmdb_popularity'].mean().sort_values(ascending=False).head(10)"
   ]
  },
  {
   "cell_type": "code",
   "execution_count": 73,
   "metadata": {},
   "outputs": [
    {
     "data": {
      "text/plain": [
       "release_year\n",
       "2005    169.238250\n",
       "1997    102.103500\n",
       "2008     66.255417\n",
       "2010     64.756357\n",
       "2013     63.258303\n",
       "1999     63.130333\n",
       "1995     56.478500\n",
       "2002     56.301200\n",
       "2022     55.640756\n",
       "2009     53.844000\n",
       "Name: tmdb_popularity, dtype: float64"
      ]
     },
     "execution_count": 73,
     "metadata": {},
     "output_type": "execute_result"
    }
   ],
   "source": [
    "#top 10 release year show with highest tmdb popularity\n",
    "nflx2[nflx2['type']=='SHOW'].groupby('release_year')['tmdb_popularity'].mean().sort_values(ascending=False).head(10)"
   ]
  },
  {
   "cell_type": "code",
   "execution_count": 172,
   "metadata": {},
   "outputs": [
    {
     "data": {
      "text/plain": [
       "count    1863.000000\n",
       "mean        0.084947\n",
       "std         0.154943\n",
       "min         0.005618\n",
       "25%         0.022222\n",
       "50%         0.040000\n",
       "75%         0.086957\n",
       "max         2.500000\n",
       "dtype: float64"
      ]
     },
     "execution_count": 172,
     "metadata": {},
     "output_type": "execute_result"
    }
   ],
   "source": [
    "abcv = nflx2[nflx2['type'] =='SHOW']['seasons']/nflx2[nflx2['type'] =='SHOW']['runtime']\n",
    "abcv.replace([np.inf, -np.inf], np.nan, inplace=True)\n",
    "abcv.dropna(inplace=True)\n",
    "abcv.describe()"
   ]
  }
 ],
 "metadata": {
  "kernelspec": {
   "display_name": "Python 3.9.12 ('capstone_tetris')",
   "language": "python",
   "name": "python3"
  },
  "language_info": {
   "codemirror_mode": {
    "name": "ipython",
    "version": 3
   },
   "file_extension": ".py",
   "mimetype": "text/x-python",
   "name": "python",
   "nbconvert_exporter": "python",
   "pygments_lexer": "ipython3",
   "version": "3.9.12"
  },
  "orig_nbformat": 4,
  "vscode": {
   "interpreter": {
    "hash": "81314e9f2ab84afcd35afb679b9fd61810e84839a6534551af1840c13d5b5c14"
   }
  }
 },
 "nbformat": 4,
 "nbformat_minor": 2
}
